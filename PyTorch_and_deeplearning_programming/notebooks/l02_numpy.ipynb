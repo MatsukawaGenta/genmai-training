{
 "cells": [
  {
   "attachments": {},
   "cell_type": "markdown",
   "metadata": {},
   "source": [
    "## ライブラリのインポート\n",
    "## Import libraries"
   ]
  },
  {
   "cell_type": "code",
   "execution_count": 1,
   "metadata": {},
   "outputs": [],
   "source": [
    "# ライブラリのインポート\n",
    "# Import libraries\n",
    "import numpy as np\n",
    "\n",
    "# Numpyの浮動小数点の表示精度\n",
    "# Numpy floating point display precision\n",
    "np.set_printoptions(suppress=True, precision=5)"
   ]
  },
  {
   "attachments": {},
   "cell_type": "markdown",
   "metadata": {},
   "source": [
    "## 定義\n",
    "## The definition"
   ]
  },
  {
   "cell_type": "markdown",
   "metadata": {},
   "source": [
    "### array関数による定義\n",
    "### The definition by array function"
   ]
  },
  {
   "cell_type": "code",
   "execution_count": 2,
   "metadata": {},
   "outputs": [
    {
     "name": "stdout",
     "output_type": "stream",
     "text": [
      "[1 2 3 4 5 6 7]\n",
      "(7,)\n",
      "7\n"
     ]
    }
   ],
   "source": [
    "# array関数によるベクトル（1階配列）変数の定義\n",
    "# The definition of vector (1st order array) variable by array function\n",
    "n1 = np.array([1, 2, 3, 4, 5, 6, 7])\n",
    "\n",
    "# 結果確認\n",
    "# Check result\n",
    "print(n1)\n",
    "\n",
    "# 要素数確認\n",
    "# Check element numbers\n",
    "print(n1.shape)\n",
    "\n",
    "# もう1つの方法\n",
    "# Another way\n",
    "print(len(n1))"
   ]
  },
  {
   "cell_type": "code",
   "execution_count": 3,
   "metadata": {},
   "outputs": [
    {
     "name": "stdout",
     "output_type": "stream",
     "text": [
      "[[ 1  2  3]\n",
      " [ 4  5  6]\n",
      " [ 7  8  9]\n",
      " [10 11 12]]\n",
      "(4, 3)\n",
      "4\n"
     ]
    }
   ],
   "source": [
    "# array関数により行列（2階配列）変数の定義\n",
    "# The definition of matrix (2nd order array) by array function\n",
    "n2 = np.array([\n",
    "    [1, 2, 3],\n",
    "    [4, 5, 6],\n",
    "    [7, 8, 9],\n",
    "    [10, 11, 12]\n",
    "])\n",
    "\n",
    "# 結果確認\n",
    "# Check result\n",
    "print(n2)\n",
    "\n",
    "# 要素数確認\n",
    "# Check element numbers\n",
    "print(n2.shape)\n",
    "\n",
    "# もう1つの方法\n",
    "# Another way\n",
    "print(len(n2))"
   ]
  },
  {
   "cell_type": "markdown",
   "metadata": {},
   "source": [
    "### zeros関数、ones関数などの利用\n",
    "### Use of zeros function, ones function, etc."
   ]
  },
  {
   "cell_type": "code",
   "execution_count": 4,
   "metadata": {},
   "outputs": [
    {
     "name": "stdout",
     "output_type": "stream",
     "text": [
      "[0. 0. 0. 0. 0.]\n",
      "(5,)\n"
     ]
    }
   ],
   "source": [
    "# zeros関数ですべての要素=0のベクトルを定義\n",
    "# Define a vector with all elements = 0 using zero function \n",
    "n3 = np.zeros(5)\n",
    "\n",
    "# 結果確認\n",
    "# Check results\n",
    "print(n3)\n",
    "\n",
    "# 要素数確認\n",
    "# Check element numbers\n",
    "print(n3.shape)\n"
   ]
  },
  {
   "cell_type": "code",
   "execution_count": 5,
   "metadata": {},
   "outputs": [
    {
     "name": "stdout",
     "output_type": "stream",
     "text": [
      "[[1. 1. 1.]\n",
      " [1. 1. 1.]]\n",
      "(2, 3)\n"
     ]
    }
   ],
   "source": [
    "# ones関数で全ての要素=1の行列を定義\n",
    "# Define a matrix with all elements = 1 using ones function\n",
    "n4 = np.ones((2, 3))\n",
    "\n",
    "# 結果確認\n",
    "# Check results\n",
    "print(n4)\n",
    "\n",
    "# 要素数確認\n",
    "# Check element numbers\n",
    "print(n4.shape)"
   ]
  },
  {
   "cell_type": "code",
   "execution_count": 6,
   "metadata": {},
   "outputs": [
    {
     "name": "stdout",
     "output_type": "stream",
     "text": [
      "[[[-0.38664  0.80003  0.42162  0.76233]\n",
      "  [ 1.17992 -0.39983  2.06453 -0.19525]\n",
      "  [-0.41219 -0.03447  0.14669  0.47719]]\n",
      "\n",
      " [[-1.42487 -0.48202  0.81981  0.28082]\n",
      "  [ 1.42584  0.59189  0.11317  1.1589 ]\n",
      "  [ 0.0098  -1.51753 -0.23079  0.65945]]]\n",
      "(2, 3, 4)\n"
     ]
    }
   ],
   "source": [
    "# 全ての要素が正規分布変数の3階配列\n",
    "# All elements are third rank array of normally distributed variable\n",
    "# 3行4列を2つ作る。乱数は平均0、分散1の正規分布関数で作られる。\n",
    "# Make Two 3x4 matrix. Random nunbers are made by normally distributed function that average is 0 and variance is 1.\n",
    "n5 = np.random.randn(2, 3, 4)\n",
    "\n",
    "# 結果確認\n",
    "# Check results\n",
    "print(n5)\n",
    "\n",
    "# 要素数確認\n",
    "# Check element numbers\n",
    "print(n5.shape)"
   ]
  },
  {
   "cell_type": "markdown",
   "metadata": {},
   "source": [
    "### グラフ描画用の数値配列の生成\n",
    "### Generating a numerical array for graph drawing "
   ]
  },
  {
   "cell_type": "code",
   "execution_count": 7,
   "metadata": {},
   "outputs": [
    {
     "name": "stdout",
     "output_type": "stream",
     "text": [
      "[-1.  -0.8 -0.6 -0.4 -0.2  0.   0.2  0.4  0.6  0.8  1. ]\n"
     ]
    }
   ],
   "source": [
    "# linspace関数によるグラフ描画用数値配列\n",
    "# A numerical array for graph drawing using linspace function\n",
    "\n",
    "# 等間隔に点を取る\n",
    "# Output numbers at equal intervals\n",
    "# 第1引数：始点（最小値）\n",
    "# First argument : Start point (minimum value)\n",
    "# 第2引数：終点（最大値）\n",
    "# Second argument : End point (miximum value)\n",
    "# 3番目の引数がこの区間に作る点の数/(植木算)になる点に注意。区間を10等分する場合は11個とる必要がある\n",
    "# Note that the third argument is the number of points to be created in this interval. \n",
    "# If you want to devide the interval into 10 equal parts, you need to input 11.\n",
    "n6 = np.linspace(-1, 1, 11)\n",
    "\n",
    "# 結果確認\n",
    "# Check results\n",
    "print(n6)"
   ]
  },
  {
   "cell_type": "code",
   "execution_count": 8,
   "metadata": {},
   "outputs": [
    {
     "name": "stdout",
     "output_type": "stream",
     "text": [
      "[-1.  -0.8 -0.6 -0.4 -0.2 -0.   0.2  0.4  0.6  0.8  1. ]\n"
     ]
    }
   ],
   "source": [
    "# arange関数によるグラフ描画用配列\n",
    "# the array for graph drawing using arrange function\n",
    "\n",
    "# 等間隔に点を取る\n",
    "# Output numbers at equal intervals\n",
    "# 第1引数：区間の始点（最小値）\n",
    "# First argument : Start point of interval\n",
    "# 第2引数：区間の終点 (第2引数は最大値だが、「この値未満」であることに注意)\n",
    "# Second argument : End point of interval (Second argument is muximum value, but note that it means \"less than the number\" )\n",
    "# 第3引数：刻み幅\n",
    "# Third argument : step width\n",
    "n7 = np.arange(-1, 1.2, 0.2)\n",
    "\n",
    "# 結果確認\n",
    "# Check results\n",
    "print(n7)"
   ]
  },
  {
   "cell_type": "markdown",
   "metadata": {},
   "source": [
    "## 操作\n",
    "## Operation"
   ]
  },
  {
   "cell_type": "markdown",
   "metadata": {},
   "source": [
    "### 特定行・列の抽出\n",
    "### Extracting specific rows and columns "
   ]
  },
  {
   "cell_type": "code",
   "execution_count": 9,
   "metadata": {},
   "outputs": [
    {
     "name": "stdout",
     "output_type": "stream",
     "text": [
      "[[ 1  2  3]\n",
      " [ 4  5  6]\n",
      " [ 7  8  9]\n",
      " [10 11 12]]\n",
      "[ 1  4  7 10]\n"
     ]
    }
   ],
   "source": [
    "# 特定行・列の抽出\n",
    "# Extracting specific rows and columns\n",
    "\n",
    "# 元の変数\n",
    "# original variable\n",
    "print(n2)\n",
    "\n",
    "# すべての行の0列を抽出\n",
    "# Extracting column 0 of all rows\n",
    "# 行要素：カンマより前は行の範囲、後ろは列の範囲\n",
    "# Row element : Before the comma is the row range, after it is the column range\n",
    "# : は全ての要素を意味するので「全ての行の0列目」\n",
    "# : means all elements, so [:, 0] means \"0 column of all rows\n",
    "n8 = n2[:, 0]\n",
    "print(n8)"
   ]
  },
  {
   "cell_type": "code",
   "execution_count": 10,
   "metadata": {},
   "outputs": [
    {
     "name": "stdout",
     "output_type": "stream",
     "text": [
      "[[ 4  5  6]\n",
      " [10 11 12]]\n"
     ]
    }
   ],
   "source": [
    "# 1行目と3行目を抽出\n",
    "# Extracting 1st and 3rd row\n",
    "# True/False の要素の配列で指定する\n",
    "# Specify as an array of True/False elements \n",
    "# 指定の仕方は下記の通り行と同じ要素数を持つTrue/Falseを配置\n",
    "# To specify, place True/False with the same number of elements as the row as shown below.\n",
    "#    [1, 2, 3],     False\n",
    "#    [4, 5, 6],     True\n",
    "#    [7, 8, 9],     False\n",
    "#    [10, 11, 12]   True\n",
    "\n",
    "n2_index = np.array([False, True, False, True])\n",
    "n9 = n2[n2_index]\n",
    "print(n9)"
   ]
  },
  {
   "cell_type": "markdown",
   "metadata": {},
   "source": [
    "### reshape関数\n",
    "### reshape function"
   ]
  },
  {
   "cell_type": "code",
   "execution_count": 11,
   "metadata": {},
   "outputs": [
    {
     "name": "stdout",
     "output_type": "stream",
     "text": [
      "[ 0  1  2  3  4  5  6  7  8  9 10 11 12 13 14 15 16 17 18 19 20 21 22 23]\n",
      "[[ 0  1  2  3  4  5  6  7]\n",
      " [ 8  9 10 11 12 13 14 15]\n",
      " [16 17 18 19 20 21 22 23]]\n"
     ]
    }
   ],
   "source": [
    "# reshape関数のトレーニング\n",
    "# Training of reshape function\n",
    "\n",
    "n10 = np.array(range(24))\n",
    "\n",
    "#  結果確認\n",
    "# Check results\n",
    "print(n10)\n",
    "\n",
    "# n10を3x8の2階配列に変形\n",
    "# Convert n10 to 3x8 two rank array\n",
    "n11 = n10.reshape(3,8)\n",
    "\n",
    "# 結果確認\n",
    "# Check result\n",
    "print(n11)"
   ]
  },
  {
   "cell_type": "code",
   "execution_count": 12,
   "metadata": {},
   "outputs": [
    {
     "name": "stdout",
     "output_type": "stream",
     "text": [
      "(2, 3, 4)\n"
     ]
    }
   ],
   "source": [
    "# -1を１箇所だけ設定可能\n",
    "# -1 can be set only in one place.\n",
    "# -1を指定すると自動計算\n",
    "# Automatic calculation if you specify -1.\n",
    "# 2 * x * 4 = 24、x = 3\n",
    "n12  = n10.reshape(2, -1, 4)\n",
    "\n",
    "# 結果確認\n",
    "# Check results\n",
    "print(n12.shape)"
   ]
  },
  {
   "cell_type": "code",
   "execution_count": 13,
   "metadata": {},
   "outputs": [
    {
     "name": "stdout",
     "output_type": "stream",
     "text": [
      "(24,)\n",
      "(1, 24)\n"
     ]
    }
   ],
   "source": [
    "# N要素のベクトルn10を、1行N列に変形\n",
    "# Transform vector n10 of N elements into 1 row and N columns\n",
    "\n",
    "# 元の変数（1階配列）\n",
    "# Original variable (1 rank array)\n",
    "print(n10.shape)\n",
    "\n",
    "# 変形\n",
    "# Transform\n",
    "n13 = n10.reshape(1, -1)\n",
    "\n",
    "# 結果確認\n",
    "# Check results\n",
    "print(n13.shape)"
   ]
  },
  {
   "cell_type": "markdown",
   "metadata": {},
   "source": [
    "### 軸の入れ替え\n",
    "### Swapping the axis"
   ]
  },
  {
   "cell_type": "code",
   "execution_count": 14,
   "metadata": {},
   "outputs": [
    {
     "name": "stdout",
     "output_type": "stream",
     "text": [
      "[[ 1  2  3]\n",
      " [ 4  5  6]\n",
      " [ 7  8  9]\n",
      " [10 11 12]]\n",
      "[[ 1  4  7 10]\n",
      " [ 2  5  8 11]\n",
      " [ 3  6  9 12]]\n"
     ]
    }
   ],
   "source": [
    "# 転置行列\n",
    "# Transpose matrix\n",
    "print(n2)\n",
    "\n",
    "n14 = n2.T\n",
    "print(n14)"
   ]
  },
  {
   "cell_type": "code",
   "execution_count": 15,
   "metadata": {},
   "outputs": [
    {
     "name": "stdout",
     "output_type": "stream",
     "text": [
      "(2, 3, 4)\n",
      "[[[ 0  1  2  3]\n",
      "  [ 4  5  6  7]\n",
      "  [ 8  9 10 11]]\n",
      "\n",
      " [[12 13 14 15]\n",
      "  [16 17 18 19]\n",
      "  [20 21 22 23]]]\n",
      "(3, 4, 2)\n",
      "[[[ 0 12]\n",
      "  [ 1 13]\n",
      "  [ 2 14]\n",
      "  [ 3 15]]\n",
      "\n",
      " [[ 4 16]\n",
      "  [ 5 17]\n",
      "  [ 6 18]\n",
      "  [ 7 19]]\n",
      "\n",
      " [[ 8 20]\n",
      "  [ 9 21]\n",
      "  [10 22]\n",
      "  [11 23]]]\n"
     ]
    }
   ],
   "source": [
    "# 軸の順番を入れ替える\n",
    "# Reorder the axis\n",
    "\n",
    "# 元の変数\n",
    "# Original variable \n",
    "print(n12.shape)\n",
    "print(n12)\n",
    "\n",
    "# 軸を(1, 2, 0)の順に入れ替える\n",
    "# Swap the axes in the order of (1,2,0) \n",
    "n14 = np.transpose(n12, (1, 2, 0))\n",
    "\n",
    "# 結果確認\n",
    "# Check results\n",
    "print(n14.shape)\n",
    "print(n14)"
   ]
  },
  {
   "cell_type": "markdown",
   "metadata": {},
   "source": [
    "### 行列の連結\n",
    "### Concatenation of matrices"
   ]
  },
  {
   "cell_type": "code",
   "execution_count": 16,
   "metadata": {},
   "outputs": [
    {
     "name": "stdout",
     "output_type": "stream",
     "text": [
      "[[1 2 3]\n",
      " [4 5 6]]\n",
      "[[ 7  8  9]\n",
      " [10 11 12]]\n",
      "[14 15 16]\n",
      "[17 18]\n"
     ]
    }
   ],
   "source": [
    "# 操作元の配列\n",
    "# Original array\n",
    "\n",
    "# 2行3列の行列\n",
    "# 2x3 matrix\n",
    "n16 = np.array(range(1, 7)).reshape(2, 3)\n",
    "n17 = np.array(range(7, 13)).reshape(2, 3)\n",
    "\n",
    "# 3要素のベクトル\n",
    "# Three elements vector\n",
    "n18 = np.array(range(14, 17))\n",
    "\n",
    "# 2要素のベクトル\n",
    "# Two elements vector\n",
    "n19 = np.array(range(17, 19))\n",
    "\n",
    "print(n16)\n",
    "print(n17)\n",
    "print(n18)\n",
    "print(n19)"
   ]
  },
  {
   "cell_type": "code",
   "execution_count": 17,
   "metadata": {},
   "outputs": [
    {
     "name": "stdout",
     "output_type": "stream",
     "text": [
      "[[ 1  2  3]\n",
      " [ 4  5  6]\n",
      " [ 7  8  9]\n",
      " [10 11 12]]\n",
      "[[ 1  2  3]\n",
      " [ 4  5  6]\n",
      " [14 15 16]]\n"
     ]
    }
   ],
   "source": [
    "# 行列同士の縦連結\n",
    "# Vertical concatenation of matrices\n",
    "n20 = np.vstack([n16, n17])\n",
    "print(n20)\n",
    "\n",
    "# 行列とベクトル間の縦連結\n",
    "# Vertical concatenation between matrices and vectors\n",
    "n21 = np.vstack([n16, n18])\n",
    "print(n21)"
   ]
  },
  {
   "cell_type": "code",
   "execution_count": 18,
   "metadata": {},
   "outputs": [
    {
     "name": "stdout",
     "output_type": "stream",
     "text": [
      "[[ 1  2  3  7  8  9]\n",
      " [ 4  5  6 10 11 12]]\n",
      "[[ 1  2  3 17]\n",
      " [ 4  5  6 18]]\n"
     ]
    }
   ],
   "source": [
    "# 行列同士の横連結\n",
    "# Horizontal concatenation of matrices\n",
    "n22 = np.hstack([n16, n17])\n",
    "print(n22)\n",
    "\n",
    "# 行列とベクトル間の横連結\n",
    "# Horizontal concatenation between matrices and vectors\n",
    "# ベクトルのshapeを(N, 1)形式にする\n",
    "# Change vector shape to (n, 1) format\n",
    "n23 = n19.reshape(-1, 1)\n",
    "n24 = np.hstack([n16, n23])\n",
    "print(n24)"
   ]
  },
  {
   "cell_type": "markdown",
   "metadata": {},
   "source": [
    "## 演算\n",
    "## Calculation"
   ]
  },
  {
   "cell_type": "markdown",
   "metadata": {},
   "source": [
    "### Numpy変数間の演算\n",
    "## Calculation between numpy variable"
   ]
  },
  {
   "cell_type": "code",
   "execution_count": 19,
   "metadata": {},
   "outputs": [
    {
     "name": "stdout",
     "output_type": "stream",
     "text": [
      "[[1 2 3]\n",
      " [4 5 6]]\n",
      "[[ 7  8  9]\n",
      " [10 11 12]]\n",
      "[[ 8 10 12]\n",
      " [14 16 18]]\n"
     ]
    }
   ],
   "source": [
    "# 演算元変数\n",
    "# Original variable\n",
    "print(n16)\n",
    "print(n17)\n",
    "\n",
    "# 行列間の演算\n",
    "# Calculation between matrices\n",
    "n25 = n16 + n17\n",
    "\n",
    "# 結果の確認 \n",
    "# Check results\n",
    "print(n25)"
   ]
  },
  {
   "cell_type": "markdown",
   "metadata": {},
   "source": [
    "### ブロードキャスト機能\n",
    "### Broadcast"
   ]
  },
  {
   "cell_type": "code",
   "execution_count": 20,
   "metadata": {},
   "outputs": [
    {
     "name": "stdout",
     "output_type": "stream",
     "text": [
      "[1 2 3 4 5 6 7]\n",
      "[-3 -2 -1  0  1  2  3]\n"
     ]
    }
   ],
   "source": [
    "# ブロードキャスト機能\n",
    "# Broadcast\n",
    "\n",
    "# 演算元変数\n",
    "# Original variable\n",
    "print(n1)\n",
    "\n",
    "# 全ての要素から同じ値を引く\n",
    "# Subtract the same value from all elements\n",
    "n22 = n1 - 4\n",
    "\n",
    "# 結果確認\n",
    "# Check results\n",
    "print(n22)"
   ]
  },
  {
   "cell_type": "markdown",
   "metadata": {},
   "source": [
    "### ユニバーサル機能\n",
    "### Universal function"
   ]
  },
  {
   "cell_type": "code",
   "execution_count": 21,
   "metadata": {},
   "outputs": [
    {
     "name": "stdout",
     "output_type": "stream",
     "text": [
      "[ 0.       0.25882  0.5      0.70711  0.86603  0.96593  1.       0.96593\n",
      "  0.86603  0.70711  0.5      0.25882  0.      -0.25882 -0.5     -0.70711\n",
      " -0.86603 -0.96593 -1.      -0.96593 -0.86603 -0.70711 -0.5     -0.25882\n",
      " -0.     ]\n"
     ]
    }
   ],
   "source": [
    "# xの配列の準備\n",
    "# Preparing x array\n",
    "# 区間[0, 2PI]を24等分\n",
    "# Devide the interval [0, 2PI] into 24 equal parts\n",
    "x = np.linspace(0, 2*np.pi, 25)\n",
    "\n",
    "# y = sin(x)の計算\n",
    "# Calculating y = sin(x)\n",
    "# ユニバーサル関数呼び出し\n",
    "# Call universal function\n",
    "y = np.sin(x)\n",
    "print(y)"
   ]
  },
  {
   "cell_type": "markdown",
   "metadata": {},
   "source": [
    "### 集約関数\n",
    "### Aggregate function"
   ]
  },
  {
   "cell_type": "code",
   "execution_count": 22,
   "metadata": {},
   "outputs": [
    {
     "name": "stdout",
     "output_type": "stream",
     "text": [
      "元の変数: [1 2 3 4 5 6 7]\n",
      "和: 28\n",
      "平均: 4.0\n",
      "最大値: 7\n",
      "最小値: 1\n"
     ]
    }
   ],
   "source": [
    "# 集約関数\n",
    "# Aggregate function\n",
    "\n",
    "print(f'元の変数: {n1}')\n",
    "\n",
    " # 和の計算 sum関数\n",
    " # Calculating column / sum function\n",
    "n23 = np.sum(n1)\n",
    "print(f'和: {n23}')\n",
    "\n",
    " # 平均の計算 mean関数\n",
    " # Calculating average / mean function\n",
    "n24 = np.mean(n1)\n",
    "print(f'平均: {n24}')\n",
    "\n",
    " # 最大の計算 max関数\n",
    " # Calculating maximum / max function\n",
    "n25 = np.max(n1)\n",
    "print(f'最大値: {n25}')\n",
    "\n",
    "# 最小の計算 min関数\n",
    "# Calculating minimum / min function\n",
    "# こういう書き方もできる\n",
    "# You can also write it like this\n",
    "n26 = n1.min()\n",
    "print(f'最小値: {n26}')"
   ]
  },
  {
   "cell_type": "markdown",
   "metadata": {},
   "source": [
    "## 応用例\n",
    "## Application example"
   ]
  },
  {
   "cell_type": "markdown",
   "metadata": {},
   "source": [
    "### 2つの変数の一致数から精度計算\n",
    "### Calculating accuracy from the number of matches between two variables"
   ]
  },
  {
   "cell_type": "code",
   "execution_count": 23,
   "metadata": {},
   "outputs": [
    {
     "name": "stdout",
     "output_type": "stream",
     "text": [
      "[1 1 0 1 0 1 1 0 1 1]\n",
      "[1 1 0 1 0 1 1 1 1 1]\n"
     ]
    }
   ],
   "source": [
    "# 2つの変数の一致数から精度計算\n",
    "# 0か1かの予測するモデルに対して正解値と予測値の一致率（Accuracy）を計算する\n",
    "\n",
    "# 2つのNumPy配列の準備\n",
    "# 正解値\n",
    "\n",
    "yt = np.array([1, 1, 0, 1, 0, 1, 1, 0, 1, 1])\n",
    "yp = np.array([1, 1, 0, 1, 0, 1, 1, 1, 1, 1])\n",
    "\n",
    "# 内容表示\n",
    "print(yt)\n",
    "print(yp)"
   ]
  },
  {
   "cell_type": "code",
   "execution_count": 24,
   "metadata": {},
   "outputs": [
    {
     "name": "stdout",
     "output_type": "stream",
     "text": [
      "[ True  True  True  True  True  True  True False  True  True]\n"
     ]
    }
   ],
   "source": [
    "# 配列の各要素を同時に比較する\n",
    "matched = (yt == yp)\n",
    "print(matched)"
   ]
  },
  {
   "cell_type": "code",
   "execution_count": 25,
   "metadata": {},
   "outputs": [
    {
     "name": "stdout",
     "output_type": "stream",
     "text": [
      "正解数: 9 全体数: 10 精度:  0.900\n"
     ]
    }
   ],
   "source": [
    "# さらにこの結果にsum関数をかける\n",
    "# 対象変数がブーリアン型の場合 True -> 1 False -> 0 に変換される\n",
    "\n",
    "# 正解数がブーリアン型の場合\n",
    "correct = matched.sum()\n",
    "\n",
    "# 全体数はlen(matched)で計算可能\n",
    "total = len(matched)\n",
    "\n",
    "# 精度の計算\n",
    "accuracy = correct / total\n",
    "\n",
    "print(f'正解数: {correct} 全体数: {total} 精度: {accuracy: .3f}')"
   ]
  },
  {
   "cell_type": "markdown",
   "metadata": {},
   "source": [
    "### ベクトルの数値を1次関数で変換して[0, 1]の範囲に収まるようにする"
   ]
  },
  {
   "cell_type": "code",
   "execution_count": 26,
   "metadata": {},
   "outputs": [
    {
     "name": "stdout",
     "output_type": "stream",
     "text": [
      "[1 2 3 4 5 6 7]\n",
      "7 1\n"
     ]
    }
   ],
   "source": [
    "# ベクトルの数値を1次関数で変換して[0, 1]の範囲に収まるようにする\n",
    "# 集約関数とブロードキャストの組み合わせ例\n",
    "\n",
    "# 全ての値を[0, 1]の範囲に入るように変換する\n",
    "\n",
    "# 元の変数\n",
    "print(n1)\n",
    "\n",
    "# 最大値と最小値を集約関数で取得\n",
    "n1_max = n1.max()\n",
    "n1_min = n1.min()\n",
    "print(n1_max, n1_min)"
   ]
  },
  {
   "cell_type": "code",
   "execution_count": 27,
   "metadata": {},
   "outputs": [
    {
     "name": "stdout",
     "output_type": "stream",
     "text": [
      "[0.      0.16667 0.33333 0.5     0.66667 0.83333 1.     ]\n"
     ]
    }
   ],
   "source": [
    "# 変換（ブロードキャスト機能の利用）\n",
    "# n27 = ([1 2 3 4 5 6 7] - 1) / (7 - 1)\n",
    "# n1_minとn1_maxは定数なので、全体としてn1の1次間数になっている\n",
    "n27 = (n1 - n1_min) / (n1_max - n1_min)\n",
    "print(n27)"
   ]
  },
  {
   "cell_type": "markdown",
   "metadata": {},
   "source": [
    "### ある条件を満たす行の抽出"
   ]
  },
  {
   "cell_type": "code",
   "execution_count": 28,
   "metadata": {},
   "outputs": [
    {
     "name": "stdout",
     "output_type": "stream",
     "text": [
      "[[ 1  2  3]\n",
      " [ 4  5  6]\n",
      " [ 7  8  9]\n",
      " [10 11 12]]\n",
      "[False  True False  True]\n"
     ]
    }
   ],
   "source": [
    "# 「n2の0列が偶数」を判断\n",
    "\n",
    "# 元の変数\n",
    "print(n2)\n",
    "\n",
    "# n2[:, 0]は特定行・列の抽出\n",
    "# ブロードキャスト機能を利用\n",
    "n28 = n2[:, 0] % 2 == 0 \n",
    "\n",
    "# 結果確認\n",
    "print(n28)"
   ]
  },
  {
   "cell_type": "code",
   "execution_count": 29,
   "metadata": {},
   "outputs": [
    {
     "name": "stdout",
     "output_type": "stream",
     "text": [
      "[[ 1  2  3]\n",
      " [ 4  5  6]\n",
      " [ 7  8  9]\n",
      " [10 11 12]]\n",
      "[[ 4  5  6]\n",
      " [10 11 12]]\n"
     ]
    }
   ],
   "source": [
    "# n28がTrueの行のみを抽出\n",
    "\n",
    "print(n2)\n",
    "n29 = n2[n28]\n",
    "\n",
    "# 結果確認\n",
    "print(n29)"
   ]
  }
 ],
 "metadata": {
  "kernelspec": {
   "display_name": "pytorch",
   "language": "python",
   "name": "python3"
  },
  "language_info": {
   "codemirror_mode": {
    "name": "ipython",
    "version": 3
   },
   "file_extension": ".py",
   "mimetype": "text/x-python",
   "name": "python",
   "nbconvert_exporter": "python",
   "pygments_lexer": "ipython3",
   "version": "3.11.4"
  },
  "orig_nbformat": 4
 },
 "nbformat": 4,
 "nbformat_minor": 2
}

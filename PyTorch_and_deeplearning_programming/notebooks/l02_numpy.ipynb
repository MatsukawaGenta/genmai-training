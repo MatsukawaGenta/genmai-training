{
 "cells": [
  {
   "attachments": {},
   "cell_type": "markdown",
   "metadata": {},
   "source": [
    "## ライブラリのインポート"
   ]
  },
  {
   "cell_type": "code",
   "execution_count": 2,
   "metadata": {},
   "outputs": [],
   "source": [
    "# ライブラリのインポート\n",
    "import numpy as np\n",
    "\n",
    "# Numpyの浮動小数点の表示精度\n",
    "np.set_printoptions(suppress=True, precision=5)"
   ]
  },
  {
   "attachments": {},
   "cell_type": "markdown",
   "metadata": {},
   "source": [
    "## 定義"
   ]
  },
  {
   "cell_type": "code",
   "execution_count": 3,
   "metadata": {},
   "outputs": [
    {
     "name": "stdout",
     "output_type": "stream",
     "text": [
      "[1 2 3 4 5 6 7]\n",
      "(7,)\n",
      "7\n"
     ]
    }
   ],
   "source": [
    "# array関数によるベクトル（1階配列）変数の定義\n",
    "n1 = np.array([1, 2, 3, 4, 5, 6, 7])\n",
    "\n",
    "# 結果確認\n",
    "print(n1)\n",
    "\n",
    "# 要素数確認\n",
    "print(n1.shape)\n",
    "\n",
    "# もう1つの方法\n",
    "print(len(n1))"
   ]
  },
  {
   "cell_type": "code",
   "execution_count": 6,
   "metadata": {},
   "outputs": [
    {
     "name": "stdout",
     "output_type": "stream",
     "text": [
      "[[ 1  2  3]\n",
      " [ 4  5  6]\n",
      " [ 7  8  9]\n",
      " [10 11 12]]\n",
      "(4, 3)\n",
      "4\n"
     ]
    }
   ],
   "source": [
    "# array関数により行列（2階配列）変数の定義\n",
    "n2 = np.array([\n",
    "    [1, 2, 3],\n",
    "    [4, 5, 6],\n",
    "    [7, 8, 9],\n",
    "    [10, 11, 12]\n",
    "])\n",
    "\n",
    "# 結果確認\n",
    "print(n2)\n",
    "\n",
    "# 要素数確認\n",
    "print(n2.shape)\n",
    "\n",
    "# もう1つの方法\n",
    "print(len(n2))"
   ]
  },
  {
   "cell_type": "code",
   "execution_count": 7,
   "metadata": {},
   "outputs": [
    {
     "name": "stdout",
     "output_type": "stream",
     "text": [
      "[0. 0. 0. 0. 0.]\n",
      "(5,)\n"
     ]
    }
   ],
   "source": [
    "# zeros関数ですべての要素=0のベクトルを定義\n",
    "n3 = np.zeros(5)\n",
    "\n",
    "# 結果確認\n",
    "print(n3)\n",
    "\n",
    "# 要素数確認\n",
    "print(n3.shape)\n"
   ]
  },
  {
   "cell_type": "code",
   "execution_count": 8,
   "metadata": {},
   "outputs": [
    {
     "name": "stdout",
     "output_type": "stream",
     "text": [
      "[[1. 1. 1.]\n",
      " [1. 1. 1.]]\n",
      "(2, 3)\n"
     ]
    }
   ],
   "source": [
    "# ones関数で全ての要素=1の行列を定義\n",
    "n4 = np.ones((2, 3))\n",
    "\n",
    "# 結果確認\n",
    "print(n4)\n",
    "\n",
    "# 要素数確認\n",
    "print(n4.shape)"
   ]
  },
  {
   "cell_type": "code",
   "execution_count": 9,
   "metadata": {},
   "outputs": [
    {
     "name": "stdout",
     "output_type": "stream",
     "text": [
      "[[[-0.69659  1.62451  0.02738 -0.30406]\n",
      "  [-0.50303  1.84323 -0.21807 -0.01983]\n",
      "  [-2.45935  1.07962 -1.31554 -0.92254]]\n",
      "\n",
      " [[ 0.93206 -1.78111  0.64711 -0.33888]\n",
      "  [ 0.43662 -0.04861 -0.99886 -0.44065]\n",
      "  [-0.75657  0.02427  0.69656 -0.32799]]]\n",
      "(2, 3, 4)\n"
     ]
    }
   ],
   "source": [
    "# 全ての要素が正規分布変数の3階配列\n",
    "# 3行4列を2つ作る。乱数は平均0、分散1の正規分布関数で作られる。\n",
    "n5 = np.random.randn(2, 3, 4)\n",
    "\n",
    "# 結果確認\n",
    "print(n5)\n",
    "\n",
    "# 要素数確認\n",
    "print(n5.shape)"
   ]
  },
  {
   "cell_type": "code",
   "execution_count": 10,
   "metadata": {},
   "outputs": [
    {
     "name": "stdout",
     "output_type": "stream",
     "text": [
      "[-1.  -0.8 -0.6 -0.4 -0.2  0.   0.2  0.4  0.6  0.8  1. ]\n"
     ]
    }
   ],
   "source": [
    "# linspace関数によるグラフ描画用数値配列\n",
    "\n",
    "# 等間隔に点を取る\n",
    "# 第1引数：始点（最小値）\n",
    "# 第2引数：終点（最大値）\n",
    "# 3番目の引数がこの区間に作る点の数/(植木算)になる点に注意。区間を10等分する場合は11個とる必要がある\n",
    "n6 = np.linspace(-1, 1, 11)\n",
    "\n",
    "# 結果確認\n",
    "print(n6)"
   ]
  },
  {
   "cell_type": "code",
   "execution_count": 11,
   "metadata": {},
   "outputs": [
    {
     "name": "stdout",
     "output_type": "stream",
     "text": [
      "[-1.  -0.8 -0.6 -0.4 -0.2 -0.   0.2  0.4  0.6  0.8  1. ]\n"
     ]
    }
   ],
   "source": [
    "# arange関数によるグラフ描画用配列\n",
    "\n",
    "# 等間隔に点を取る\n",
    "# 第1引数：区間の始点（最小値）\n",
    "# 第2引数：区間の終点 (第2引数は最大値だが、「この値未満」であることに注意)\n",
    "# 第3引数：刻み幅\n",
    "n7 = np.arange(-1, 1.2, 0.2)\n",
    "\n",
    "# 結果確認\n",
    "print(n7)"
   ]
  },
  {
   "cell_type": "markdown",
   "metadata": {},
   "source": [
    "\n",
    "## 操作"
   ]
  },
  {
   "cell_type": "code",
   "execution_count": 13,
   "metadata": {},
   "outputs": [
    {
     "name": "stdout",
     "output_type": "stream",
     "text": [
      "[[ 1  2  3]\n",
      " [ 4  5  6]\n",
      " [ 7  8  9]\n",
      " [10 11 12]]\n",
      "[ 1  4  7 10]\n"
     ]
    }
   ],
   "source": [
    "# 特定行・列の抽出\n",
    "\n",
    "# 元の変数\n",
    "print(n2)\n",
    "\n",
    "# すべての行の0列を抽出\n",
    "# 行要素：カンマより前は行の範囲、後ろは列の範囲\n",
    "# : は全ての要素を意味するので「全ての行の0列目」\n",
    "n8 = n2[:, 0]\n",
    "print(n8)"
   ]
  },
  {
   "cell_type": "code",
   "execution_count": 14,
   "metadata": {},
   "outputs": [
    {
     "name": "stdout",
     "output_type": "stream",
     "text": [
      "[[ 4  5  6]\n",
      " [10 11 12]]\n"
     ]
    }
   ],
   "source": [
    "# 1行目と3行目を抽出\n",
    "# True / False の要素の配列で指定する\n",
    "# 指定の仕方は下記の通り行と同じ要素数を持つTrue/Falseを配置\n",
    "#    [1, 2, 3],     False\n",
    "#    [4, 5, 6],     True\n",
    "#    [7, 8, 9],     False\n",
    "#    [10, 11, 12]   True\n",
    "\n",
    "n2_index = np.array([False, True, False, True])\n",
    "n9 = n2[n2_index]\n",
    "print(n9)"
   ]
  },
  {
   "cell_type": "code",
   "execution_count": 15,
   "metadata": {},
   "outputs": [
    {
     "name": "stdout",
     "output_type": "stream",
     "text": [
      "[ 0  1  2  3  4  5  6  7  8  9 10 11 12 13 14 15 16 17 18 19 20 21 22 23]\n",
      "[[ 0  1  2  3  4  5  6  7]\n",
      " [ 8  9 10 11 12 13 14 15]\n",
      " [16 17 18 19 20 21 22 23]]\n"
     ]
    }
   ],
   "source": [
    "# reshape関数のトレーニング\n",
    "\n",
    "n10 = np.array(range(24))\n",
    "\n",
    "#  結果確認\n",
    "print(n10)\n",
    "\n",
    "# 3x8の2階配列に変形\n",
    "n11 = n10.reshape(3,8)\n",
    "\n",
    "# 結果確認\n",
    "print(n11)"
   ]
  },
  {
   "cell_type": "code",
   "execution_count": 16,
   "metadata": {},
   "outputs": [
    {
     "name": "stdout",
     "output_type": "stream",
     "text": [
      "(2, 3, 4)\n"
     ]
    }
   ],
   "source": [
    "# -1を指定すると自動計算\n",
    "# 2 * x * 4 = 24、x = 3\n",
    "n12  = n10.reshape(2, -1, 4)\n",
    "\n",
    "# 結果確認\n",
    "print(n12.shape)"
   ]
  },
  {
   "cell_type": "code",
   "execution_count": 18,
   "metadata": {},
   "outputs": [
    {
     "name": "stdout",
     "output_type": "stream",
     "text": [
      "(24,)\n",
      "(1, 24)\n"
     ]
    }
   ],
   "source": [
    "# N要素のベクトルn10を、1行N列に変形\n",
    "\n",
    "# 元の変数（1階配列）\n",
    "print(n10.shape)\n",
    "\n",
    "# 変形\n",
    "n13 = n10.reshape(1, -1)\n",
    "\n",
    "#結果確認\n",
    "print(n13.shape)"
   ]
  }
 ],
 "metadata": {
  "kernelspec": {
   "display_name": "pytorch",
   "language": "python",
   "name": "python3"
  },
  "language_info": {
   "codemirror_mode": {
    "name": "ipython",
    "version": 3
   },
   "file_extension": ".py",
   "mimetype": "text/x-python",
   "name": "python",
   "nbconvert_exporter": "python",
   "pygments_lexer": "ipython3",
   "version": "3.11.4"
  },
  "orig_nbformat": 4
 },
 "nbformat": 4,
 "nbformat_minor": 2
}

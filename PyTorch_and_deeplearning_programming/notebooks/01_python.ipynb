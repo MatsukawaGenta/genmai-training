{
 "cells": [
  {
   "cell_type": "code",
   "execution_count": 1,
   "metadata": {},
   "outputs": [],
   "source": [
    "%matplotlib inline\n",
    "import numpy as np\n",
    "import matplotlib.pyplot as plt"
   ]
  },
  {
   "cell_type": "markdown",
   "metadata": {},
   "source": [
    "# Be careful with variables of container data type"
   ]
  },
  {
   "cell_type": "code",
   "execution_count": 2,
   "metadata": {},
   "outputs": [
    {
     "name": "stdout",
     "output_type": "stream",
     "text": [
      "[5 7 9]\n",
      "[5 7 9]\n"
     ]
    }
   ],
   "source": [
    "# Define NumPy array x1\n",
    "x = np.array([5, 7, 9])\n",
    "\n",
    "# Assign x to y\n",
    "# In this time, instance remains common\n",
    "y = x\n",
    "\n",
    "# Confirm results\n",
    "print(x)\n",
    "print(y)"
   ]
  },
  {
   "cell_type": "code",
   "execution_count": 3,
   "metadata": {},
   "outputs": [
    {
     "name": "stdout",
     "output_type": "stream",
     "text": [
      "[ 5 -1  9]\n",
      "[ 5 -1  9]\n"
     ]
    }
   ],
   "source": [
    "# problem!\n",
    "\n",
    "# Now, change the value of a particular element of x\n",
    "x[1] = -1\n",
    "\n",
    "# Then, the y's value is also changed automatically.\n",
    "print(x)\n",
    "print(y)"
   ]
  },
  {
   "cell_type": "code",
   "execution_count": 4,
   "metadata": {},
   "outputs": [
    {
     "name": "stdout",
     "output_type": "stream",
     "text": [
      "[ 5 -1  9]\n",
      "[5 7 9]\n"
     ]
    }
   ],
   "source": [
    "# if you don't want to chenge y's value, use copy function\n",
    "x = np.array([5, 7, 9])\n",
    "y = x.copy()\n",
    "\n",
    "# The y's value isn't changed by the change of x's value\n",
    "x[1] = -1\n",
    "print(x)\n",
    "print(y)"
   ]
  },
  {
   "cell_type": "code",
   "execution_count": 5,
   "metadata": {},
   "outputs": [
    {
     "name": "stdout",
     "output_type": "stream",
     "text": [
      "tensor([1., 1., 1., 1., 1.])\n",
      "[1. 1. 1. 1. 1.]\n"
     ]
    }
   ],
   "source": [
    "import torch\n",
    "\n",
    "# x1: all values of shape=[5] are tensor of 1\n",
    "x1 = torch.ones(5)\n",
    "\n",
    "# Confirm result\n",
    "print(x1)\n",
    "\n",
    "# x2: Numpy generated from x1\n",
    "x2 = x1.data.numpy()\n",
    "\n",
    "# Confirm result\n",
    "print(x2)"
   ]
  },
  {
   "cell_type": "code",
   "execution_count": 6,
   "metadata": {},
   "outputs": [
    {
     "name": "stdout",
     "output_type": "stream",
     "text": [
      "tensor([ 1., -1.,  1.,  1.,  1.])\n",
      "[ 1. -1.  1.  1.  1.]\n"
     ]
    }
   ],
   "source": [
    "# Problem!\n",
    "\n",
    "# Change the value of x1\n",
    "x1[1] = -1\n",
    "\n",
    "# The value of x2 is automaically changed\n",
    "print(x1)\n",
    "print(x2)"
   ]
  },
  {
   "cell_type": "code",
   "execution_count": 7,
   "metadata": {},
   "outputs": [
    {
     "name": "stdout",
     "output_type": "stream",
     "text": [
      "tensor([ 1., -1.,  1.,  1.,  1.])\n",
      "[1. 1. 1. 1. 1.]\n"
     ]
    }
   ],
   "source": [
    "# How to change safely\n",
    "\n",
    "# x1: tensor\n",
    "x1 = torch.ones(5)\n",
    "\n",
    "# x2: Numpy copied from x1\n",
    "x2 = x1.data.numpy().copy()\n",
    "\n",
    "x1[1] = -1\n",
    "\n",
    "# Confirm results\n",
    "print(x1)\n",
    "print(x2)"
   ]
  },
  {
   "cell_type": "markdown",
   "metadata": {},
   "source": [
    "# Composite function and how to implement it by Python"
   ]
  },
  {
   "cell_type": "code",
   "execution_count": null,
   "metadata": {},
   "outputs": [],
   "source": []
  }
 ],
 "metadata": {
  "kernelspec": {
   "display_name": "pytorch",
   "language": "python",
   "name": "python3"
  },
  "language_info": {
   "codemirror_mode": {
    "name": "ipython",
    "version": 3
   },
   "file_extension": ".py",
   "mimetype": "text/x-python",
   "name": "python",
   "nbconvert_exporter": "python",
   "pygments_lexer": "ipython3",
   "version": "3.11.4"
  },
  "orig_nbformat": 4
 },
 "nbformat": 4,
 "nbformat_minor": 2
}

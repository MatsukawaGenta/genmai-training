{
 "cells": [
  {
   "attachments": {},
   "cell_type": "markdown",
   "metadata": {},
   "source": [
    "# 基本的なデータ型\n",
    "# Basic data types"
   ]
  },
  {
   "cell_type": "code",
   "execution_count": 13,
   "metadata": {},
   "outputs": [],
   "source": [
    "# 整数型\n",
    "# Integer type\n",
    "# 数値表現が整数の場合、代入先変数は自動的に整数型になります\n",
    "# If you assign an integer, the variable will automatibally become an integer type\n",
    "a = 1\n",
    "\n",
    "# 浮動小数点型i\n",
    "# floating point type\n",
    "# 数値表現に小数点が含まれると、代入先変数は自動的に浮動小数点型になります。\n",
    "# If you assign a decimal number, the variable will be automatically become a floating point type\n",
    "b = 2.0\n",
    "\n",
    "# 文字列型\n",
    "# String type\n",
    "# 文字列はシングルクオート(')で囲みます。あるいはダブルクオート(\")でもいいです。\n",
    "# Enclose strings in single quotes (') or double quotes (\")\n",
    "c = 'abc'\n",
    "\n",
    "# ブーリアン型\n",
    "# boolean type\n",
    "# True またはFalseをとる変数の型です\n",
    "# This is the type of the variable that can take True or False\n",
    "d = True"
   ]
  },
  {
   "cell_type": "markdown",
   "metadata": {},
   "source": [
    "### print関数とtype関数\n",
    "### print function and type function"
   ]
  },
  {
   "cell_type": "code",
   "execution_count": 14,
   "metadata": {},
   "outputs": [
    {
     "name": "stdout",
     "output_type": "stream",
     "text": [
      "1\n",
      "<class 'int'>\n",
      "2.0\n",
      "<class 'float'>\n",
      "abc\n",
      "<class 'str'>\n",
      "True\n",
      "<class 'bool'>\n"
     ]
    }
   ],
   "source": [
    "# 整数型変数aの値とtype\n",
    "# Value and type of integer variable a \n",
    "print(a)\n",
    "print(type(a))\n",
    "\n",
    "# 浮動小数点型変数bの値とtype\n",
    "# Value and type of floating point variable b\n",
    "print(b)\n",
    "print(type(b))\n",
    "\n",
    "# 文字列型変数cの値とtype\n",
    "# Value and type of string variable c\n",
    "print(c)\n",
    "print(type(c))\n",
    "\n",
    "# ブーリアン型変数dの値とtype\n",
    "# Value and type of boolean variable d\n",
    "print(d)\n",
    "print(type(d))\n"
   ]
  },
  {
   "attachments": {},
   "cell_type": "markdown",
   "metadata": {},
   "source": [
    "# 演算\n",
    "# Calculation"
   ]
  },
  {
   "cell_type": "markdown",
   "metadata": {},
   "source": [
    "### 2項演算\n",
    "### Binary Operation"
   ]
  },
  {
   "cell_type": "code",
   "execution_count": 1,
   "metadata": {},
   "outputs": [
    {
     "name": "stdout",
     "output_type": "stream",
     "text": [
      "3\n",
      "1\n",
      "15\n",
      "2.6\n",
      "3\n",
      "2\n",
      "32\n"
     ]
    }
   ],
   "source": [
    "# 加算\n",
    "# Addition\n",
    "a1 = 1 + 2\n",
    "print(a1)\n",
    "\n",
    "# 減算\n",
    "# Subtraction\n",
    "a2 = 3 - 2\n",
    "print(a2)\n",
    "\n",
    "# 乗算\n",
    "# Multiplication\n",
    "a3 = 3 * 5\n",
    "print(a3)\n",
    "\n",
    "# 除算\n",
    "# Division\n",
    "a4 = 13 / 5\n",
    "print(a4)\n",
    "\n",
    "# 剰余演算\n",
    "# Remainder operation\n",
    "a5 = 13 % 5\n",
    "print(a5)\n",
    "\n",
    "# 整数除算\n",
    "# Integer division\n",
    "a6 = 13 // 5\n",
    "print(a6)\n",
    "\n",
    "# べき乗\n",
    "# Exponentiation\n",
    "a7 = 2 ** 5\n",
    "print(a7)"
   ]
  },
  {
   "cell_type": "markdown",
   "metadata": {},
   "source": [
    "### ブール演算\n",
    "### Boolean operations"
   ]
  },
  {
   "cell_type": "code",
   "execution_count": 2,
   "metadata": {},
   "outputs": [
    {
     "name": "stdout",
     "output_type": "stream",
     "text": [
      "True\n",
      "True\n",
      "True\n"
     ]
    }
   ],
   "source": [
    "t1 = True\n",
    "t2 = True\n",
    "f1 = False\n",
    "f2 = False\n",
    "\n",
    "# AND演算\n",
    "# And operation\n",
    "b1 = t1 and t2\n",
    "print(b1)\n",
    "\n",
    "# OR演算\n",
    "# OR operation\n",
    "b2 = t1 or f1\n",
    "print(b2)\n",
    "\n",
    "# NOT演算\n",
    "# NOT operation\n",
    "b3 = not f1\n",
    "print(b3)"
   ]
  },
  {
   "cell_type": "markdown",
   "metadata": {},
   "source": [
    "### 代入演算\n",
    "### algebraic operations"
   ]
  },
  {
   "cell_type": "code",
   "execution_count": 3,
   "metadata": {},
   "outputs": [
    {
     "name": "stdout",
     "output_type": "stream",
     "text": [
      "7\n",
      "4\n"
     ]
    }
   ],
   "source": [
    "# 代入演算\n",
    "# Algebraic operations\n",
    "\n",
    "c1 = 5\n",
    "\n",
    "# Same as c1 = c1 + 2\n",
    "c1 += 2\n",
    "print(c1)\n",
    "\n",
    "# Same as c1 = c1 - 3\n",
    "c1 -= 3\n",
    "print(c1)"
   ]
  },
  {
   "attachments": {},
   "cell_type": "markdown",
   "metadata": {},
   "source": [
    "## リスト\n",
    "## List"
   ]
  },
  {
   "cell_type": "markdown",
   "metadata": {},
   "source": [
    "### リストの定義\n",
    "### The definition of list"
   ]
  },
  {
   "cell_type": "code",
   "execution_count": 18,
   "metadata": {},
   "outputs": [
    {
     "name": "stdout",
     "output_type": "stream",
     "text": [
      "[1, 2, 3, 5, 8, 13]\n",
      "<class 'list'>\n"
     ]
    }
   ],
   "source": [
    "# リストの定義\n",
    "# THe difinition of list\n",
    "l = [1, 2, 3, 5, 8, 13]\n",
    "\n",
    "# リストの値とtype\n",
    "# Value and type of list\n",
    "print(l)\n",
    "print(type(l))"
   ]
  },
  {
   "cell_type": "markdown",
   "metadata": {},
   "source": [
    "### リストの要素数\n",
    "### Number of elements in list"
   ]
  },
  {
   "cell_type": "code",
   "execution_count": 4,
   "metadata": {},
   "outputs": [
    {
     "ename": "NameError",
     "evalue": "name 'l' is not defined",
     "output_type": "error",
     "traceback": [
      "\u001b[0;31m---------------------------------------------------------------------------\u001b[0m",
      "\u001b[0;31mNameError\u001b[0m                                 Traceback (most recent call last)",
      "Cell \u001b[0;32mIn[4], line 3\u001b[0m\n\u001b[1;32m      1\u001b[0m \u001b[38;5;66;03m# リストの要素数\u001b[39;00m\n\u001b[1;32m      2\u001b[0m \u001b[38;5;66;03m# number of elements in list\u001b[39;00m\n\u001b[0;32m----> 3\u001b[0m \u001b[38;5;28mprint\u001b[39m(\u001b[38;5;28mlen\u001b[39m(\u001b[43ml\u001b[49m))\n",
      "\u001b[0;31mNameError\u001b[0m: name 'l' is not defined"
     ]
    }
   ],
   "source": [
    "# リストの要素数\n",
    "# number of elements in list\n",
    "print(len(l))"
   ]
  },
  {
   "cell_type": "markdown",
   "metadata": {},
   "source": [
    "### リスト要素の参照\n",
    "### Reference to list element"
   ]
  },
  {
   "cell_type": "code",
   "execution_count": 20,
   "metadata": {},
   "outputs": [
    {
     "name": "stdout",
     "output_type": "stream",
     "text": [
      "1\n",
      "3\n",
      "13\n"
     ]
    }
   ],
   "source": [
    "# リストの要素参照\n",
    "# Reference to list element\n",
    "\n",
    "# 最初の要素\n",
    "# First element\n",
    "print(l[0])\n",
    "\n",
    "# 3番目の要素\n",
    "# Thrid element\n",
    "print(l[2])\n",
    "\n",
    "# 最後の要素（こういう指定方法も可能）\n",
    "# Last element (this method of specification is also possible)\n",
    "print(l[-1])"
   ]
  },
  {
   "cell_type": "markdown",
   "metadata": {},
   "source": [
    "### 部分リスト参照1\n",
    "### Partial list reference 1"
   ]
  },
  {
   "cell_type": "code",
   "execution_count": 5,
   "metadata": {},
   "outputs": [
    {
     "ename": "NameError",
     "evalue": "name 'l' is not defined",
     "output_type": "error",
     "traceback": [
      "\u001b[0;31m---------------------------------------------------------------------------\u001b[0m",
      "\u001b[0;31mNameError\u001b[0m                                 Traceback (most recent call last)",
      "Cell \u001b[0;32mIn[5], line 3\u001b[0m\n\u001b[1;32m      1\u001b[0m \u001b[38;5;66;03m# 部分リスト インデックス：2以上 インデックス：5未満\u001b[39;00m\n\u001b[1;32m      2\u001b[0m \u001b[38;5;66;03m# Partial list / index: more than 2 / index: less than 5\u001b[39;00m\n\u001b[0;32m----> 3\u001b[0m \u001b[38;5;28mprint\u001b[39m(\u001b[43ml\u001b[49m[\u001b[38;5;241m2\u001b[39m:\u001b[38;5;241m5\u001b[39m])\n\u001b[1;32m      5\u001b[0m \u001b[38;5;66;03m# 部分リスト インデックス：0以上 インデックス：3未満\u001b[39;00m\n\u001b[1;32m      6\u001b[0m \u001b[38;5;66;03m# Partial list / index: more than 0 / index: less than 3\u001b[39;00m\n\u001b[1;32m      7\u001b[0m \u001b[38;5;28mprint\u001b[39m(l[\u001b[38;5;241m0\u001b[39m:\u001b[38;5;241m3\u001b[39m])\n",
      "\u001b[0;31mNameError\u001b[0m: name 'l' is not defined"
     ]
    }
   ],
   "source": [
    "# 部分リスト インデックス：2以上 インデックス：5未満\n",
    "# Partial list / index: more than 2 / index: less than 5\n",
    "print(l[2:5])\n",
    "\n",
    "# 部分リスト インデックス：0以上 インデックス：3未満\n",
    "# Partial list / index: more than 0 / index: less than 3\n",
    "print(l[0:3])\n",
    "\n",
    "# 開始インデックスが0の場合は省略可能\n",
    "# Optional if starting index is 0\n",
    "print(l[:3])"
   ]
  },
  {
   "cell_type": "markdown",
   "metadata": {},
   "source": [
    "### 部分リスト参照2\n",
    "### Partial list reference 2"
   ]
  },
  {
   "cell_type": "code",
   "execution_count": 1,
   "metadata": {},
   "outputs": [
    {
     "ename": "NameError",
     "evalue": "name 'l' is not defined",
     "output_type": "error",
     "traceback": [
      "\u001b[0;31m---------------------------------------------------------------------------\u001b[0m",
      "\u001b[0;31mNameError\u001b[0m                                 Traceback (most recent call last)",
      "Cell \u001b[0;32mIn[1], line 5\u001b[0m\n\u001b[1;32m      1\u001b[0m \u001b[38;5;66;03m# 部分リスト インデックス：4以上最後まで\u001b[39;00m\n\u001b[1;32m      2\u001b[0m \u001b[38;5;66;03m# Partial list / index: more than 4 and until the end\u001b[39;00m\n\u001b[1;32m      3\u001b[0m \u001b[38;5;66;03m# リストの長さを求める\u001b[39;00m\n\u001b[1;32m      4\u001b[0m \u001b[38;5;66;03m# Calculate the length of list\u001b[39;00m\n\u001b[0;32m----> 5\u001b[0m n \u001b[38;5;241m=\u001b[39m \u001b[38;5;28mlen\u001b[39m(\u001b[43ml\u001b[49m)\n\u001b[1;32m      6\u001b[0m \u001b[38;5;28mprint\u001b[39m(l[\u001b[38;5;241m4\u001b[39m:n])\n\u001b[1;32m      8\u001b[0m \u001b[38;5;66;03m# 最終インデックスが最終要素の場合は省略可\u001b[39;00m\n\u001b[1;32m      9\u001b[0m \u001b[38;5;66;03m# It is optional if the final index is the finale element \u001b[39;00m\n",
      "\u001b[0;31mNameError\u001b[0m: name 'l' is not defined"
     ]
    }
   ],
   "source": [
    "# 部分リスト インデックス：4以上最後まで\n",
    "# Partial list / index: more than 4 and until the end\n",
    "# リストの長さを求める\n",
    "# Calculate the length of list\n",
    "n = len(l)\n",
    "print(l[4:n])\n",
    "\n",
    "# 最終インデックスが最終要素の場合は省略可\n",
    "# It is optional if the final index is the finale element \n",
    "print(l[4:])\n",
    "\n",
    "# 後ろから2つ\n",
    "# two from the end\n",
    "print(l[-2:])\n",
    "\n",
    "# 最初も最後も省略するとリスト全体になる\n",
    "# It bocome entire list if you don't input first and final index\n",
    "print(l[:])\n"
   ]
  },
  {
   "attachments": {},
   "cell_type": "markdown",
   "metadata": {},
   "source": [
    "## タプル\n",
    "## Tuple"
   ]
  },
  {
   "cell_type": "code",
   "execution_count": 23,
   "metadata": {},
   "outputs": [
    {
     "name": "stdout",
     "output_type": "stream",
     "text": [
      "(1, 2, 3, 5, 8, 13)\n",
      "<class 'tuple'>\n",
      "6\n",
      "2\n"
     ]
    }
   ],
   "source": [
    "# タプルの定義\n",
    "# The difinition of tuple\n",
    "t = (1, 2, 3, 5, 8, 13)\n",
    "\n",
    "# タプルの値表示\n",
    "# Show value of tuple\n",
    "print(t)\n",
    "\n",
    "# タプルの型表示\n",
    "# Show type of tuple\n",
    "print(type(t))\n",
    "\n",
    "# タプルの要素数\n",
    "# Element number of tuple\n",
    "print(len(t))\n",
    "\n",
    "# タプルの要素参照\n",
    "# Element reference of tuple\n",
    "print(t[1])\n"
   ]
  },
  {
   "cell_type": "code",
   "execution_count": 2,
   "metadata": {},
   "outputs": [
    {
     "ename": "NameError",
     "evalue": "name 't' is not defined",
     "output_type": "error",
     "traceback": [
      "\u001b[0;31m---------------------------------------------------------------------------\u001b[0m",
      "\u001b[0;31mNameError\u001b[0m                                 Traceback (most recent call last)",
      "Cell \u001b[0;32mIn[2], line 3\u001b[0m\n\u001b[1;32m      1\u001b[0m \u001b[38;5;66;03m# タプルは書き換えができないのでエラーが出る\u001b[39;00m\n\u001b[1;32m      2\u001b[0m \u001b[38;5;66;03m# AN error occurs because tuples can't be rewritten.\u001b[39;00m\n\u001b[0;32m----> 3\u001b[0m \u001b[43mt\u001b[49m[\u001b[38;5;241m1\u001b[39m] \u001b[38;5;241m=\u001b[39m \u001b[38;5;241m1\u001b[39m\n",
      "\u001b[0;31mNameError\u001b[0m: name 't' is not defined"
     ]
    }
   ],
   "source": [
    "# タプルは書き換えができないのでエラーが出る\n",
    "# AN error occurs because tuples can't be rewritten.\n",
    "t[1] = 1"
   ]
  },
  {
   "cell_type": "code",
   "execution_count": 25,
   "metadata": {},
   "outputs": [
    {
     "name": "stdout",
     "output_type": "stream",
     "text": [
      "<class 'tuple'>\n"
     ]
    }
   ],
   "source": [
    "# 2つの変数の組を新しい変数に代入\n",
    "# Assign a pair of two variables to a new variable\n",
    "x = 1\n",
    "y = 2\n",
    "z = (x, y)\n",
    "print(type(z))"
   ]
  },
  {
   "cell_type": "code",
   "execution_count": 26,
   "metadata": {},
   "outputs": [
    {
     "name": "stdout",
     "output_type": "stream",
     "text": [
      "1\n",
      "2\n"
     ]
    }
   ],
   "source": [
    "a, b = z\n",
    "print(a)\n",
    "print(b)"
   ]
  },
  {
   "attachments": {},
   "cell_type": "markdown",
   "metadata": {},
   "source": [
    "## 辞書\n",
    "## Dictionary"
   ]
  },
  {
   "cell_type": "markdown",
   "metadata": {},
   "source": [
    "### 辞書の定義\n",
    "### The define of dictionary"
   ]
  },
  {
   "cell_type": "code",
   "execution_count": 3,
   "metadata": {},
   "outputs": [
    {
     "name": "stdout",
     "output_type": "stream",
     "text": [
      "{'yes': 1, 'no': 0}\n",
      "<class 'dict'>\n"
     ]
    }
   ],
   "source": [
    "# 辞書の定義\n",
    "# The define of dictionary\n",
    "my_dict = {'yes': 1, 'no': 0}\n",
    "\n",
    "# print分の結果\n",
    "# Show dictionary\n",
    "print(my_dict)\n",
    "\n",
    "# type関数の結果\n",
    "# Show type of dictionary\n",
    "print(type(my_dict))"
   ]
  },
  {
   "cell_type": "markdown",
   "metadata": {},
   "source": [
    "### 辞書の参照\n",
    "### Dictionary reference"
   ]
  },
  {
   "cell_type": "code",
   "execution_count": 28,
   "metadata": {},
   "outputs": [
    {
     "name": "stdout",
     "output_type": "stream",
     "text": [
      "1\n",
      "0\n"
     ]
    }
   ],
   "source": [
    "# キーから値を参照\n",
    "# Refer the value from key\n",
    "\n",
    "# key='yes'で検索\n",
    "# Search with key='yes' \n",
    "value1 = my_dict['yes']\n",
    "print(value1)\n",
    "\n",
    "# key='no'で検索\n",
    "# Search with key='no'\n",
    "value2 = my_dict['no']\n",
    "print(value2)\n"
   ]
  },
  {
   "cell_type": "markdown",
   "metadata": {},
   "source": [
    "### 辞書の追加\n",
    "### Add dictionary"
   ]
  },
  {
   "cell_type": "code",
   "execution_count": 4,
   "metadata": {},
   "outputs": [
    {
     "name": "stdout",
     "output_type": "stream",
     "text": [
      "{'yes': 1, 'no': 0, 'neutral': 2}\n"
     ]
    }
   ],
   "source": [
    "# 辞書への項目追加\n",
    "# Add item to dictionary\n",
    "my_dict['neutral'] = 2\n",
    "\n",
    "# 結果確認\n",
    "# Show results\n",
    "print(my_dict)"
   ]
  },
  {
   "attachments": {},
   "cell_type": "markdown",
   "metadata": {},
   "source": [
    "## 制御構造\n",
    "## Control structure"
   ]
  },
  {
   "cell_type": "markdown",
   "metadata": {},
   "source": [
    "### ループ処理\n",
    "### Loop process"
   ]
  },
  {
   "cell_type": "code",
   "execution_count": 5,
   "metadata": {},
   "outputs": [
    {
     "name": "stdout",
     "output_type": "stream",
     "text": [
      "One\n",
      "Two\n",
      "Three\n",
      "Four\n"
     ]
    }
   ],
   "source": [
    "# ループ処理\n",
    "# Loop process\n",
    "\n",
    "# リストの定義\n",
    "# The definition of list\n",
    "list4 = ['One', 'Two', 'Three', 'Four']\n",
    "\n",
    "# ループ処理\n",
    "# Loop process \n",
    "for item in list4:\n",
    "    print(item)"
   ]
  },
  {
   "cell_type": "markdown",
   "metadata": {},
   "source": [
    "### range関数を使ったループ処理\n",
    "### Loop process using range function"
   ]
  },
  {
   "cell_type": "code",
   "execution_count": 6,
   "metadata": {},
   "outputs": [
    {
     "name": "stdout",
     "output_type": "stream",
     "text": [
      "0\n",
      "1\n",
      "2\n",
      "3\n"
     ]
    }
   ],
   "source": [
    "# range関数を使ったループ処理\n",
    "# Loop process using range function\n",
    "# range関数はリストを自動生成する\n",
    "# Range function automatically generate list  \n",
    "\n",
    "for item in range(4):\n",
    "    print(item)"
   ]
  },
  {
   "cell_type": "code",
   "execution_count": 32,
   "metadata": {},
   "outputs": [
    {
     "name": "stdout",
     "output_type": "stream",
     "text": [
      "1\n",
      "2\n",
      "3\n",
      "4\n"
     ]
    }
   ],
   "source": [
    "# 引数2つのrange関数\n",
    "# Range function with two argument\n",
    "\n",
    "for item in range(1, 5):\n",
    "    print(item)"
   ]
  },
  {
   "cell_type": "markdown",
   "metadata": {},
   "source": [
    "### 辞書のitems関数を使ったループ処理\n",
    "### Loop process using item function of dictionary"
   ]
  },
  {
   "cell_type": "code",
   "execution_count": 7,
   "metadata": {},
   "outputs": [
    {
     "name": "stdout",
     "output_type": "stream",
     "text": [
      "dict_items([('yes', 1), ('no', 0), ('neutral', 2)])\n",
      "yes : 1\n",
      "no : 0\n",
      "neutral : 2\n"
     ]
    }
   ],
   "source": [
    "# 辞書とループ処理\n",
    "# dictionary and loop process\n",
    "\n",
    "# items関数\n",
    "# Item function\n",
    "print(my_dict.items())\n",
    "\n",
    "# items関数を使ったループ処理\n",
    "# Loop process using item function\n",
    "\n",
    "for key, value in my_dict.items():\n",
    "    print(key, ':', value)\n",
    "    "
   ]
  },
  {
   "cell_type": "markdown",
   "metadata": {},
   "source": [
    "### 条件分岐(if文)\n",
    "### Conditional branch"
   ]
  },
  {
   "cell_type": "code",
   "execution_count": 34,
   "metadata": {},
   "outputs": [
    {
     "name": "stdout",
     "output_type": "stream",
     "text": [
      "1 は奇数です\n",
      "2 は偶数です\n",
      "3 は奇数です\n",
      "4 は偶数です\n"
     ]
    }
   ],
   "source": [
    "# if文のサンプル\n",
    "# Sample of if statement\n",
    "for i in range(1, 5):\n",
    "    if i % 2 == 0:\n",
    "        print(i, 'は偶数です')\n",
    "    else:\n",
    "        print(i, 'は奇数です')"
   ]
  },
  {
   "cell_type": "markdown",
   "metadata": {},
   "source": [
    "### 関数\n",
    "### Function"
   ]
  },
  {
   "cell_type": "code",
   "execution_count": 8,
   "metadata": {},
   "outputs": [
    {
     "name": "stdout",
     "output_type": "stream",
     "text": [
      "13 169\n"
     ]
    }
   ],
   "source": [
    "# 関数の定義例1\n",
    "# The difinition example of function 1\n",
    "def square(x):\n",
    "    p2 = x * x\n",
    "    return (p2)\n",
    "\n",
    "# 関数の呼び出し例1\n",
    "# The example of calling function 1\n",
    "x1 = 13\n",
    "r1 = square(x1)\n",
    "print(x1, r1)"
   ]
  },
  {
   "cell_type": "code",
   "execution_count": 9,
   "metadata": {},
   "outputs": [
    {
     "name": "stdout",
     "output_type": "stream",
     "text": [
      "13 169 2197\n"
     ]
    }
   ],
   "source": [
    "# 関数の定義例2\n",
    "# The definition example of function 2\n",
    "def squares(x):\n",
    "    p2 = x * x\n",
    "    p3 = x * x * x\n",
    "    return (p2, p3)\n",
    "\n",
    "# 関数の呼び出し例2\n",
    "# The example of calling function 2\n",
    "x1 = 13\n",
    "p2, p3 = squares(x1)\n",
    "print(x1, p2, p3)"
   ]
  },
  {
   "attachments": {},
   "cell_type": "markdown",
   "metadata": {},
   "source": [
    "## その他の機能\n",
    "## Other features"
   ]
  },
  {
   "cell_type": "markdown",
   "metadata": {},
   "source": [
    "### ライブラリの導入\n",
    "### Introducign libraries"
   ]
  },
  {
   "cell_type": "code",
   "execution_count": 37,
   "metadata": {},
   "outputs": [],
   "source": [
    "# 必要ライブラリのインポート\n",
    "# Import required libraries\n",
    "import pandas as pd\n",
    "import numpy as np\n",
    "import matplotlib.pyplot as plt\n",
    "\n",
    "# データフレーム表示用関数\n",
    "# Display function for data frame\n",
    "from IPython.display import display"
   ]
  },
  {
   "cell_type": "markdown",
   "metadata": {},
   "source": [
    "### ワーニングの非表示\n",
    "### Ignore warning"
   ]
  },
  {
   "cell_type": "code",
   "execution_count": 38,
   "metadata": {},
   "outputs": [],
   "source": [
    "# 余計なワーニングを非表示にする\n",
    "# Ignore warning\n",
    "# この関数が次のバージョンで使えなくなる予定ですみたいなwarningを非表示にする\n",
    "# Kill warning like \"This function will not be available in the next version\"\n",
    "import warnings\n",
    "warnings.filterwarnings('ignore')"
   ]
  },
  {
   "cell_type": "markdown",
   "metadata": {},
   "source": [
    "### 数値の整形出力"
   ]
  },
  {
   "cell_type": "code",
   "execution_count": 39,
   "metadata": {},
   "outputs": [
    {
     "name": "stdout",
     "output_type": "stream",
     "text": [
      "a1 = 0.14285714285714285      a2 = 123\n"
     ]
    }
   ],
   "source": [
    "# f文字列の表示\n",
    "# Show f strings\n",
    "a1 = 1.0 / 7.0\n",
    "a2 = 123\n",
    "\n",
    "str1 = f'a1 = {a1}      a2 = {a2}'\n",
    "print(str1)"
   ]
  },
  {
   "cell_type": "code",
   "execution_count": 40,
   "metadata": {},
   "outputs": [
    {
     "name": "stdout",
     "output_type": "stream",
     "text": [
      "a1 = 0.1429      a2 = 0123\n",
      "a1 = 1.4286e-01     a2 = 0x7b\n"
     ]
    }
   ],
   "source": [
    "# f文字列の詳細オプション\n",
    "# F string advanced options \n",
    "\n",
    "# .4f：小数点以下4桁の固定小数点表示\n",
    "# .4f : Show fixed decimal point with 4 digits after the decimal point\n",
    "# 04：整数を0詰め4桁表示\n",
    "# 04 : Integer padded with 0 and displayed as 4 digits \n",
    "str2 = f'a1 = {a1:.4f}      a2 = {a2:04}'\n",
    "print(str2)\n",
    "\n",
    "# 04e：小数点以下4桁の浮動小数点表示\n",
    "# 04e : Show floated decimal point with 4 digits after the decimal point\n",
    "# #x：整数の16進数表示\n",
    "# #x : Show integer hexadecimal\n",
    "str3 = f'a1 = {a1:.04e}     a2 = {a2:#x}'\n",
    "print(str3)"
   ]
  }
 ],
 "metadata": {
  "kernelspec": {
   "display_name": "Python 3",
   "language": "python",
   "name": "python3"
  },
  "language_info": {
   "codemirror_mode": {
    "name": "ipython",
    "version": 3
   },
   "file_extension": ".py",
   "mimetype": "text/x-python",
   "name": "python",
   "nbconvert_exporter": "python",
   "pygments_lexer": "ipython3",
   "version": "3.10.7"
  }
 },
 "nbformat": 4,
 "nbformat_minor": 4
}

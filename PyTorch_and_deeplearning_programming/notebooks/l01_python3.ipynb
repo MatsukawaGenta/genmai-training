{
 "cells": [
  {
   "attachments": {},
   "cell_type": "markdown",
   "metadata": {},
   "source": [
    "## 基本的なデータ型"
   ]
  },
  {
   "cell_type": "code",
   "execution_count": 4,
   "metadata": {},
   "outputs": [],
   "source": [
    "# 整数型\n",
    "# 数値表現が整数の場合、代入先変数は自動的に整数型になります\n",
    "a = 1\n",
    "\n",
    "# 浮動小数点型\n",
    "# 数値表現に小数点が含まれると、代入先変数は自動的に浮動小数点型になります。\n",
    "b = 2.0\n",
    "\n",
    "# 文字列型\n",
    "# 文字列はシングルクオート(')で囲みます\n",
    "# あるいはダブルクオート(')でもいいです。\n",
    "c = 'abc'\n",
    "\n",
    "# ブーリアン型\n",
    "# True またはFalseをとる変数の型です\n",
    "d = True"
   ]
  },
  {
   "cell_type": "code",
   "execution_count": 3,
   "metadata": {},
   "outputs": [
    {
     "name": "stdout",
     "output_type": "stream",
     "text": [
      "1\n",
      "<class 'int'>\n",
      "2.0\n",
      "<class 'float'>\n",
      "abc\n",
      "<class 'str'>\n",
      "True\n",
      "<class 'bool'>\n"
     ]
    }
   ],
   "source": [
    "# 整数型変数aの値とtype\n",
    "print(a)\n",
    "print(type(a))\n",
    "\n",
    "# 浮動小数点型変数bの値とtype\n",
    "print(b)\n",
    "print(type(b))\n",
    "\n",
    "# 文字列型変数cの値とtype\n",
    "print(c)\n",
    "print(type(c))\n",
    "\n",
    "# ブーリアン型変数dの値とtype\n",
    "print(d)\n",
    "print(type(d))\n"
   ]
  },
  {
   "attachments": {},
   "cell_type": "markdown",
   "metadata": {},
   "source": [
    "## 演算"
   ]
  },
  {
   "cell_type": "code",
   "execution_count": 5,
   "metadata": {},
   "outputs": [
    {
     "name": "stdout",
     "output_type": "stream",
     "text": [
      "3\n",
      "1\n",
      "15\n",
      "2.6\n",
      "3\n",
      "2\n",
      "32\n"
     ]
    }
   ],
   "source": [
    "# 加算\n",
    "a1 = 1 + 2\n",
    "print(a1)\n",
    "\n",
    "# 減算\n",
    "a2 = 3 - 2\n",
    "print(a2)\n",
    "\n",
    "# 乗算\n",
    "a3 = 3 * 5\n",
    "print(a3)\n",
    "\n",
    "# 除算\n",
    "a4 = 13 / 5\n",
    "print(a4)\n",
    "\n",
    "# 剰余演算\n",
    "a5 = 13 % 5\n",
    "print(a5)\n",
    "\n",
    "# 整数除算\n",
    "a6 = 13 // 5\n",
    "print(a6)\n",
    "\n",
    "# べき乗\n",
    "a7 = 2 ** 5\n",
    "print(a7)"
   ]
  },
  {
   "cell_type": "code",
   "execution_count": 6,
   "metadata": {},
   "outputs": [
    {
     "name": "stdout",
     "output_type": "stream",
     "text": [
      "True\n",
      "True\n",
      "True\n"
     ]
    }
   ],
   "source": [
    "t1 = True\n",
    "t2 = True\n",
    "f1 = False\n",
    "f2 = False\n",
    "\n",
    "# AND演算\n",
    "b1 = t1 and t2\n",
    "print(b1)\n",
    "\n",
    "# OR演算\n",
    "b2 = t1 or f1\n",
    "print(b2)\n",
    "\n",
    "# NOT演算\n",
    "b3 = not f1\n",
    "print(b3)"
   ]
  },
  {
   "cell_type": "code",
   "execution_count": 7,
   "metadata": {},
   "outputs": [
    {
     "name": "stdout",
     "output_type": "stream",
     "text": [
      "7\n",
      "4\n"
     ]
    }
   ],
   "source": [
    "# 代入演算\n",
    "\n",
    "c1 = 5\n",
    "\n",
    "# c1 = c1 + 2と同じ\n",
    "c1 += 2\n",
    "print(c1)\n",
    "\n",
    "# c1 = c1 - 3と同じ\n",
    "c1 -= 3\n",
    "print(c1)"
   ]
  },
  {
   "attachments": {},
   "cell_type": "markdown",
   "metadata": {},
   "source": [
    "## リスト"
   ]
  },
  {
   "cell_type": "code",
   "execution_count": 1,
   "metadata": {},
   "outputs": [
    {
     "name": "stdout",
     "output_type": "stream",
     "text": [
      "[1, 2, 3, 5, 8, 13]\n",
      "<class 'list'>\n",
      "6\n"
     ]
    }
   ],
   "source": [
    "# リストの定義\n",
    "l = [1, 2, 3, 5, 8, 13]\n",
    "\n",
    "# リストの値とtype\n",
    "print(l)\n",
    "print(type(l))\n",
    "\n",
    "# リストの要素数\n",
    "print(len(l))"
   ]
  },
  {
   "cell_type": "code",
   "execution_count": 4,
   "metadata": {},
   "outputs": [
    {
     "name": "stdout",
     "output_type": "stream",
     "text": [
      "1\n",
      "3\n",
      "13\n"
     ]
    }
   ],
   "source": [
    "# リストの要素参照\n",
    "\n",
    "# 最初の要素\n",
    "print(l[0])\n",
    "\n",
    "# 3番目の要素\n",
    "print(l[2])\n",
    "\n",
    "# 最後の要素（こういう指定方法も可能）\n",
    "print(l[-1])"
   ]
  },
  {
   "cell_type": "code",
   "execution_count": 5,
   "metadata": {},
   "outputs": [
    {
     "name": "stdout",
     "output_type": "stream",
     "text": [
      "[3, 5, 8]\n",
      "[1, 2, 3]\n",
      "[1, 2, 3]\n"
     ]
    }
   ],
   "source": [
    "# 部分リスト インデックス：2以上 インデックス：5未満\n",
    "print(l[2:5])\n",
    "\n",
    "# 部分リスト インデックス：0以上 インデックス：3未満\n",
    "print(l[0:3])\n",
    "\n",
    "# 開始インデックスが0の場合は省略可能\n",
    "print(l[:3])"
   ]
  },
  {
   "cell_type": "code",
   "execution_count": 6,
   "metadata": {},
   "outputs": [
    {
     "name": "stdout",
     "output_type": "stream",
     "text": [
      "[8, 13]\n",
      "[8, 13]\n",
      "[8, 13]\n",
      "[1, 2, 3, 5, 8, 13]\n"
     ]
    }
   ],
   "source": [
    "# 部分リスト インデックス：4以上最後まで\n",
    "# リストの長さを求める\n",
    "n = len(l)\n",
    "print(l[4:n])\n",
    "\n",
    "# 最終インデックスが最終要素の場合は省略可\n",
    "print(l[4:])\n",
    "\n",
    "# 後ろから2つ\n",
    "print(l[-2:])\n",
    "\n",
    "# 最初も最後も省略するとリスト全体になる\n",
    "print(l[:])\n"
   ]
  },
  {
   "attachments": {},
   "cell_type": "markdown",
   "metadata": {},
   "source": [
    "## タプル"
   ]
  },
  {
   "cell_type": "code",
   "execution_count": 8,
   "metadata": {},
   "outputs": [
    {
     "name": "stdout",
     "output_type": "stream",
     "text": [
      "(1, 2, 3, 5, 8, 13)\n",
      "<class 'tuple'>\n",
      "6\n",
      "2\n"
     ]
    }
   ],
   "source": [
    "# タプルの定義\n",
    "t = (1, 2, 3, 5, 8, 13)\n",
    "\n",
    "# タプルの値表示\n",
    "print(t)\n",
    "\n",
    "# タプルの型表示\n",
    "print(type(t))\n",
    "\n",
    "# タプルの要素数\n",
    "print(len(t))\n",
    "\n",
    "# タプルの要素参照\n",
    "print(t[1])\n"
   ]
  },
  {
   "cell_type": "code",
   "execution_count": 9,
   "metadata": {},
   "outputs": [
    {
     "ename": "TypeError",
     "evalue": "'tuple' object does not support item assignment",
     "output_type": "error",
     "traceback": [
      "\u001b[0;31m---------------------------------------------------------------------------\u001b[0m",
      "\u001b[0;31mTypeError\u001b[0m                                 Traceback (most recent call last)",
      "Cell \u001b[0;32mIn[9], line 1\u001b[0m\n\u001b[0;32m----> 1\u001b[0m t[\u001b[39m1\u001b[39m] \u001b[39m=\u001b[39m \u001b[39m1\u001b[39m\n",
      "\u001b[0;31mTypeError\u001b[0m: 'tuple' object does not support item assignment"
     ]
    }
   ],
   "source": [
    "# タプルは書き換えができないのでエラーが出る\n",
    "t[1] = 1"
   ]
  },
  {
   "cell_type": "code",
   "execution_count": 10,
   "metadata": {},
   "outputs": [
    {
     "name": "stdout",
     "output_type": "stream",
     "text": [
      "<class 'tuple'>\n"
     ]
    }
   ],
   "source": [
    "# 2つの変数の組を新しい変数に代入\n",
    "x = 1\n",
    "y = 2\n",
    "z = (x, y)\n",
    "print(type(z))"
   ]
  },
  {
   "cell_type": "code",
   "execution_count": 14,
   "metadata": {},
   "outputs": [
    {
     "name": "stdout",
     "output_type": "stream",
     "text": [
      "1\n",
      "2\n"
     ]
    }
   ],
   "source": [
    "a, b = z\n",
    "print(a)\n",
    "print(b)"
   ]
  },
  {
   "attachments": {},
   "cell_type": "markdown",
   "metadata": {},
   "source": [
    "## 辞書"
   ]
  },
  {
   "cell_type": "code",
   "execution_count": 15,
   "metadata": {},
   "outputs": [
    {
     "name": "stdout",
     "output_type": "stream",
     "text": [
      "{'yes': 1, 'no': 0}\n",
      "<class 'dict'>\n"
     ]
    }
   ],
   "source": [
    "# 辞書の定義\n",
    "my_dict = {'yes': 1, 'no': 0}\n",
    "\n",
    "# print分の結果\n",
    "print(my_dict)\n",
    "\n",
    "# type関数の結果\n",
    "print(type(my_dict))"
   ]
  },
  {
   "cell_type": "code",
   "execution_count": 16,
   "metadata": {},
   "outputs": [
    {
     "name": "stdout",
     "output_type": "stream",
     "text": [
      "1\n",
      "0\n"
     ]
    }
   ],
   "source": [
    "# キーから値を参照\n",
    "\n",
    "# key='yes'で検索\n",
    "value1 = my_dict['yes']\n",
    "print(value1)\n",
    "\n",
    "# key='no'で検索\n",
    "value2 = my_dict['no']\n",
    "print(value2)\n"
   ]
  },
  {
   "cell_type": "code",
   "execution_count": 17,
   "metadata": {},
   "outputs": [
    {
     "name": "stdout",
     "output_type": "stream",
     "text": [
      "{'yes': 1, 'no': 0, 'neutral': 2}\n"
     ]
    }
   ],
   "source": [
    "# 辞書への項目追加\n",
    "my_dict['neutral'] = 2\n",
    "\n",
    "# 結果確認\n",
    "print(my_dict)"
   ]
  },
  {
   "attachments": {},
   "cell_type": "markdown",
   "metadata": {},
   "source": [
    "## 制御構造"
   ]
  },
  {
   "cell_type": "code",
   "execution_count": 18,
   "metadata": {},
   "outputs": [
    {
     "name": "stdout",
     "output_type": "stream",
     "text": [
      "One\n",
      "Two\n",
      "Three\n",
      "Four\n"
     ]
    }
   ],
   "source": [
    "# ループ処理\n",
    "\n",
    "# リストの定義\n",
    "list4 = ['One', 'Two', 'Three', 'Four']\n",
    "\n",
    "# ループ処理\n",
    "for item in list4:\n",
    "    print(item)"
   ]
  },
  {
   "cell_type": "code",
   "execution_count": 19,
   "metadata": {},
   "outputs": [
    {
     "name": "stdout",
     "output_type": "stream",
     "text": [
      "0\n",
      "1\n",
      "2\n",
      "3\n"
     ]
    }
   ],
   "source": [
    "# range関数を使ったループ処理\n",
    "# range関数はリストを自動生成する\n",
    "\n",
    "for item in range(4):\n",
    "    print(item)"
   ]
  },
  {
   "cell_type": "code",
   "execution_count": 20,
   "metadata": {},
   "outputs": [
    {
     "name": "stdout",
     "output_type": "stream",
     "text": [
      "1\n",
      "2\n",
      "3\n",
      "4\n"
     ]
    }
   ],
   "source": [
    "# 引数2つのrange関数\n",
    "\n",
    "for item in range(1, 5):\n",
    "    print(item)"
   ]
  },
  {
   "cell_type": "code",
   "execution_count": 21,
   "metadata": {},
   "outputs": [
    {
     "name": "stdout",
     "output_type": "stream",
     "text": [
      "dict_items([('yes', 1), ('no', 0), ('neutral', 2)])\n",
      "yes : 1\n",
      "no : 0\n",
      "neutral : 2\n"
     ]
    }
   ],
   "source": [
    "# 辞書とループ処理\n",
    "\n",
    "# items関数\n",
    "print(my_dict.items())\n",
    "\n",
    "# items関数を使ったループ処理\n",
    "\n",
    "for key, value in my_dict.items():\n",
    "    print(key, ':', value)\n",
    "    "
   ]
  },
  {
   "cell_type": "code",
   "execution_count": 22,
   "metadata": {},
   "outputs": [
    {
     "name": "stdout",
     "output_type": "stream",
     "text": [
      "1 は奇数です\n",
      "2 は偶数です\n",
      "3 は奇数です\n",
      "4 は偶数です\n"
     ]
    }
   ],
   "source": [
    "# if文のサンプル\n",
    "for i in range(1, 5):\n",
    "    if i % 2 == 0:\n",
    "        print(i, 'は偶数です')\n",
    "    else:\n",
    "        print(i, 'は奇数です')"
   ]
  },
  {
   "cell_type": "code",
   "execution_count": 23,
   "metadata": {},
   "outputs": [
    {
     "name": "stdout",
     "output_type": "stream",
     "text": [
      "13 169\n"
     ]
    }
   ],
   "source": [
    "# 関数の定義例1\n",
    "def square(x):\n",
    "    p2 = x * x\n",
    "    return (p2)\n",
    "\n",
    "# 関数の呼び出し例1\n",
    "x1 = 13\n",
    "r1 = square(x1)\n",
    "print(x1, r1)"
   ]
  },
  {
   "cell_type": "code",
   "execution_count": 24,
   "metadata": {},
   "outputs": [
    {
     "name": "stdout",
     "output_type": "stream",
     "text": [
      "13 169 2197\n"
     ]
    }
   ],
   "source": [
    "# 関数の定義例2\n",
    "def squares(x):\n",
    "    p2 = x * x\n",
    "    p3 = x * x * x\n",
    "    return (p2, p3)\n",
    "\n",
    "# 関数の呼び出し例2\n",
    "x1 = 13\n",
    "p2, p3 = squares(x1)\n",
    "print(x1, p2, p3)"
   ]
  },
  {
   "attachments": {},
   "cell_type": "markdown",
   "metadata": {},
   "source": [
    "## その他の機能"
   ]
  },
  {
   "cell_type": "code",
   "execution_count": 25,
   "metadata": {},
   "outputs": [],
   "source": [
    "# 必要ライブラリのインポート\n",
    "import pandas as pd\n",
    "import numpy as np\n",
    "import matplotlib.pyplot as plt\n",
    "\n",
    "# データフレーム表示用関数\n",
    "from IPython.display import display"
   ]
  },
  {
   "cell_type": "code",
   "execution_count": null,
   "metadata": {},
   "outputs": [],
   "source": [
    "# 余計なワーニングを非表示にする\n",
    "# この関数が次のバージョンで使えなくなる予定ですみたいなwarningを非表示にする\n",
    "import warnings\n",
    "warnings.filterwarnings('ignore')"
   ]
  },
  {
   "cell_type": "code",
   "execution_count": 27,
   "metadata": {},
   "outputs": [
    {
     "name": "stdout",
     "output_type": "stream",
     "text": [
      "a1 = 0.14285714285714285      a2 = 123\n"
     ]
    }
   ],
   "source": [
    "# 数字の整形出力\n",
    "\n",
    "# f文字列の表示\n",
    "a1 = 1.0 / 7.0\n",
    "a2 = 123\n",
    "\n",
    "str1 = f'a1 = {a1}      a2 = {a2}'\n",
    "print(str1)"
   ]
  },
  {
   "cell_type": "code",
   "execution_count": 28,
   "metadata": {},
   "outputs": [
    {
     "name": "stdout",
     "output_type": "stream",
     "text": [
      "a1 = 0.1429      a2 = 0123\n",
      "a1 = 1.4286e-01     a2 = 0x7b\n"
     ]
    }
   ],
   "source": [
    "# f文字列の詳細オプション\n",
    "\n",
    "# .4f：小数点以下4桁の固定小数点表示\n",
    "# 04：整数を0詰め4桁表示\n",
    "str2 = f'a1 = {a1:.4f}      a2 = {a2:04}'\n",
    "print(str2)\n",
    "\n",
    "# 04e：小数点以下4桁の浮動小数点表示\n",
    "# #x：整数の16進数表示\n",
    "str3 = f'a1 = {a1:.04e}     a2 = {a2:#x}'\n",
    "print(str3)"
   ]
  }
 ],
 "metadata": {
  "kernelspec": {
   "display_name": "Python 3",
   "language": "python",
   "name": "python3"
  },
  "language_info": {
   "codemirror_mode": {
    "name": "ipython",
    "version": 3
   },
   "file_extension": ".py",
   "mimetype": "text/x-python",
   "name": "python",
   "nbconvert_exporter": "python",
   "pygments_lexer": "ipython3",
   "version": "3.11.4"
  }
 },
 "nbformat": 4,
 "nbformat_minor": 4
}

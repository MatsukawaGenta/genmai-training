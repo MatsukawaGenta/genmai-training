{
 "cells": [
  {
   "cell_type": "markdown",
   "metadata": {},
   "source": [
    "# 2. Introduction of PyTorch"
   ]
  },
  {
   "cell_type": "code",
   "execution_count": 1,
   "metadata": {},
   "outputs": [],
   "source": [
    "# Import required libraries\n",
    "%matplotlib inline\n",
    "import numpy as np\n",
    "import matplotlib.pyplot as plt\n",
    "import japanize_matplotlib\n",
    "from IPython.display import display"
   ]
  },
  {
   "cell_type": "code",
   "execution_count": 2,
   "metadata": {},
   "outputs": [],
   "source": [
    "# Set default font size\n",
    "plt.rcParams['font.size'] = 14\n",
    "\n",
    "# Set default graph size\n",
    "plt.rcParams['figure.figsize'] = (6,6)\n",
    "\n",
    "# Show grid\n",
    "plt.rcParams['axes.grid'] = True"
   ]
  },
  {
   "cell_type": "markdown",
   "metadata": {},
   "source": [
    "## 2.2 Tensor"
   ]
  },
  {
   "cell_type": "markdown",
   "metadata": {},
   "source": [
    "### Import library"
   ]
  },
  {
   "cell_type": "code",
   "execution_count": 3,
   "metadata": {},
   "outputs": [],
   "source": [
    "# Pytorch library\n",
    "import torch"
   ]
  },
  {
   "cell_type": "markdown",
   "metadata": {},
   "source": [
    "### Create tensors of various ranks"
   ]
  },
  {
   "cell_type": "code",
   "execution_count": 4,
   "metadata": {},
   "outputs": [
    {
     "name": "stdout",
     "output_type": "stream",
     "text": [
      "<class 'torch.Tensor'>\n",
      "torch.float32\n"
     ]
    }
   ],
   "source": [
    "# Rank 0 tensor (scalar)\n",
    "# Don't be forget to convert from dtype to float32. Numpy convert dtype to float64, and some Libraries doesn't work it. \n",
    "r0 = torch.tensor(1.0).float()\n",
    "\n",
    "# Show type\n",
    "print(type(r0))\n",
    "\n",
    "# Show dtype\n",
    "print(r0.dtype)"
   ]
  },
  {
   "cell_type": "code",
   "execution_count": 5,
   "metadata": {},
   "outputs": [
    {
     "name": "stdout",
     "output_type": "stream",
     "text": [
      "torch.Size([])\n",
      "tensor(1.)\n"
     ]
    }
   ],
   "source": [
    "# Show shape\n",
    "print(r0.shape)\n",
    "\n",
    "# Show data\n",
    "print(r0.data)"
   ]
  },
  {
   "cell_type": "code",
   "execution_count": 7,
   "metadata": {},
   "outputs": [
    {
     "name": "stdout",
     "output_type": "stream",
     "text": [
      "(5,)\n",
      "torch.float32\n",
      "torch.Size([5])\n",
      "tensor([1., 2., 3., 4., 5.])\n"
     ]
    }
   ],
   "source": [
    "# Rank 1 tensor (vector)\n",
    "\n",
    "# Create rank 1 NumPy variable\n",
    "r1_np = np.array([1, 2, 3, 4, 5])\n",
    "print(r1_np.shape)\n",
    "\n",
    "# Convert from NumPy to tensor\n",
    "r1 = torch.tensor(r1_np).float()\n",
    "\n",
    "# Show dtype\n",
    "print(r1.dtype)\n",
    "\n",
    "# Show shape\n",
    "print(r1.shape)\n",
    "\n",
    "# Show data\n",
    "print(r1.data)"
   ]
  },
  {
   "cell_type": "code",
   "execution_count": 8,
   "metadata": {},
   "outputs": [
    {
     "name": "stdout",
     "output_type": "stream",
     "text": [
      "(2, 3)\n",
      "torch.Size([2, 3])\n",
      "tensor([[1., 5., 6.],\n",
      "        [4., 3., 2.]])\n"
     ]
    }
   ],
   "source": [
    "# Rank 2 tensor (matrix)\n",
    "\n",
    "# Create rank 2 Numpy variable\n",
    "r2_np = np.array([[1, 5, 6], [4, 3, 2]])\n",
    "print(r2_np.shape)\n",
    "\n",
    "# Convert from NumPy to tensor\n",
    "r2 = torch.tensor(r2_np).float()\n",
    "\n",
    "# Show shape\n",
    "print(r2.shape)\n",
    "\n",
    "# Show data\n",
    "print(r2.data)"
   ]
  },
  {
   "cell_type": "code",
   "execution_count": 9,
   "metadata": {},
   "outputs": [
    {
     "name": "stdout",
     "output_type": "stream",
     "text": [
      "torch.Size([3, 2, 2])\n",
      "tensor([[[-0.1115,  0.1204],\n",
      "         [-0.3696, -0.2404]],\n",
      "\n",
      "        [[-1.1969,  0.2093],\n",
      "         [-0.9724, -0.7550]],\n",
      "\n",
      "        [[ 0.3239, -0.1085],\n",
      "         [ 0.2103, -0.3908]]])\n"
     ]
    }
   ],
   "source": [
    "# Rank 3 tensor\n",
    "\n",
    "# Initialize a random seed\n",
    "torch.manual_seed(123)\n",
    "\n",
    "# Create a normal distributed variable tensor with shape=[3, 2, 2]\n",
    "# Function randn sets normal distributeed random numbers (average:0, variance:1) to elements\n",
    "r3 = torch.randn((3, 2, 2))\n",
    "\n",
    "# Show shape\n",
    "print(r3.shape)\n",
    "\n",
    "# Show data\n",
    "print(r3.data)"
   ]
  },
  {
   "cell_type": "code",
   "execution_count": 10,
   "metadata": {},
   "outputs": [
    {
     "name": "stdout",
     "output_type": "stream",
     "text": [
      "torch.Size([2, 3, 2, 2])\n",
      "tensor([[[[1., 1.],\n",
      "          [1., 1.]],\n",
      "\n",
      "         [[1., 1.],\n",
      "          [1., 1.]],\n",
      "\n",
      "         [[1., 1.],\n",
      "          [1., 1.]]],\n",
      "\n",
      "\n",
      "        [[[1., 1.],\n",
      "          [1., 1.]],\n",
      "\n",
      "         [[1., 1.],\n",
      "          [1., 1.]],\n",
      "\n",
      "         [[1., 1.],\n",
      "          [1., 1.]]]])\n"
     ]
    }
   ],
   "source": [
    "# Rank 4 tensor\n",
    "\n",
    "# Create tensor with shape=[2, 3, 2, 2] and all elements of it are 1\n",
    "# function ones sets 1.0 to all elements\n",
    "r4 = torch.ones((2, 3, 2, 2))\n",
    "\n",
    "# Show shape\n",
    "print(r4.shape)\n",
    "\n",
    "# Show data\n",
    "print(r4.data)"
   ]
  },
  {
   "cell_type": "markdown",
   "metadata": {},
   "source": [
    "### Create tensor of integer"
   ]
  },
  {
   "cell_type": "code",
   "execution_count": 12,
   "metadata": {},
   "outputs": [
    {
     "name": "stdout",
     "output_type": "stream",
     "text": [
      "torch.int64\n",
      "tensor([1, 2, 3, 4, 5])\n"
     ]
    }
   ],
   "source": [
    "# r1 is a rank 1 tensor that has float32 data\n",
    "# This tensor is converted torch.int64 by long function \n",
    "r5 = r1.long()\n",
    "\n",
    "# Show dtype\n",
    "print(r5.dtype)\n",
    "\n",
    "# Show value\n",
    "print(r5)"
   ]
  },
  {
   "cell_type": "markdown",
   "metadata": {},
   "source": [
    "### view function"
   ]
  },
  {
   "cell_type": "code",
   "execution_count": 13,
   "metadata": {},
   "outputs": [
    {
     "name": "stdout",
     "output_type": "stream",
     "text": [
      "torch.Size([3, 4])\n",
      "tensor([[-0.1115,  0.1204, -0.3696, -0.2404],\n",
      "        [-1.1969,  0.2093, -0.9724, -0.7550],\n",
      "        [ 0.3239, -0.1085,  0.2103, -0.3908]])\n"
     ]
    }
   ],
   "source": [
    "# How to convert other rank like reshape of NumPy\n",
    "# Convert to rank 2 from rank 3 \n",
    "# Set -1 to only an element, then it will be automatically tuned.\n",
    "r6 = r3.view(3, -1)\n",
    "\n",
    "# Show shape\n",
    "# In this case, the number of r3 elements is 12 ([3, 2, 2]:3*2*2=12)\n",
    "# And the number of r6 elements will be tuned to match 12, so r6.shape will be [3, 4]([3, x]:3*x=12)\n",
    "print(r6.shape)\n",
    "\n",
    "# Show data\n",
    "print(r6.data)"
   ]
  },
  {
   "cell_type": "code",
   "execution_count": 14,
   "metadata": {},
   "outputs": [
    {
     "name": "stdout",
     "output_type": "stream",
     "text": [
      "torch.Size([12])\n",
      "tensor([-0.1115,  0.1204, -0.3696, -0.2404, -1.1969,  0.2093, -0.9724, -0.7550,\n",
      "         0.3239, -0.1085,  0.2103, -0.3908])\n"
     ]
    }
   ],
   "source": [
    "# How to convert other rank like reshape of NumPy\n",
    "# Convert to rank 1 from rank 3 \n",
    "# Set -1 to only an element, then it will be automatically tuned.\n",
    "r7 = r3.view(-1)\n",
    "\n",
    "# Show shape\n",
    "# In this case, the number of r3 elements is 12 ([3, 2, 2]:3*2*2=12)\n",
    "# And the number of r6 elements will be tuned to match 12, so r7.shape will be [12]([12]:x=12)\n",
    "print(r7.shape)\n",
    "\n",
    "# Show data\n",
    "print(r7.data)"
   ]
  },
  {
   "cell_type": "markdown",
   "metadata": {},
   "source": [
    "### Other attriburtes\n"
   ]
  },
  {
   "cell_type": "code",
   "execution_count": 15,
   "metadata": {},
   "outputs": [
    {
     "name": "stdout",
     "output_type": "stream",
     "text": [
      "requires_grad:  False\n",
      "device:  cpu\n"
     ]
    }
   ],
   "source": [
    "# Requires_grad\n",
    "print('requires_grad: ', r1.requires_grad)\n",
    "\n",
    "# device\n",
    "print('device: ', r1.device)"
   ]
  },
  {
   "cell_type": "markdown",
   "metadata": {},
   "source": [
    "### item function"
   ]
  },
  {
   "cell_type": "code",
   "execution_count": 16,
   "metadata": {},
   "outputs": [
    {
     "name": "stdout",
     "output_type": "stream",
     "text": [
      "<class 'float'>\n",
      "1.0\n"
     ]
    }
   ],
   "source": [
    "# item function can get value of class with scaler tensor (rank 0)\n",
    "\n",
    "item = r0.item()\n",
    "\n",
    "print(type(item))\n",
    "print(item)"
   ]
  },
  {
   "cell_type": "code",
   "execution_count": 17,
   "metadata": {},
   "outputs": [
    {
     "ename": "RuntimeError",
     "evalue": "a Tensor with 5 elements cannot be converted to Scalar",
     "output_type": "error",
     "traceback": [
      "\u001b[0;31m---------------------------------------------------------------------------\u001b[0m",
      "\u001b[0;31mRuntimeError\u001b[0m                              Traceback (most recent call last)",
      "Cell \u001b[0;32mIn[17], line 3\u001b[0m\n\u001b[1;32m      1\u001b[0m \u001b[39m# Be careful with item function. It can only use rank 0 tensor.\u001b[39;00m\n\u001b[0;32m----> 3\u001b[0m \u001b[39mprint\u001b[39m(r1\u001b[39m.\u001b[39mitem())\n",
      "\u001b[0;31mRuntimeError\u001b[0m: a Tensor with 5 elements cannot be converted to Scalar"
     ]
    }
   ],
   "source": [
    "# Be careful with item function. It can only use rank 0 tensor.\n",
    "\n",
    "print(r1.item())"
   ]
  },
  {
   "cell_type": "code",
   "execution_count": 19,
   "metadata": {},
   "outputs": [
    {
     "name": "stdout",
     "output_type": "stream",
     "text": [
      "torch.Size([1])\n",
      "1.0\n"
     ]
    }
   ],
   "source": [
    "# When the number of elements is only one, it's OK to use rank more than 1 tensor.\n",
    "# example: shape is [1], or [1, 1]\n",
    "t1 = torch.ones(1)\n",
    "\n",
    "# show shape\n",
    "print(t1.shape)\n",
    "\n",
    "# call item function\n",
    "print(t1.item())"
   ]
  },
  {
   "cell_type": "markdown",
   "metadata": {},
   "source": [
    "### max function"
   ]
  },
  {
   "cell_type": "code",
   "execution_count": 21,
   "metadata": {},
   "outputs": [
    {
     "name": "stdout",
     "output_type": "stream",
     "text": [
      "tensor([[1., 5., 6.],\n",
      "        [4., 3., 2.]])\n",
      "tensor(6.)\n"
     ]
    }
   ],
   "source": [
    "# Show original tensor r2 (shape is [2, 3])\n",
    "print(r2)\n",
    "\n",
    "# Call max function without argument, and it will be able to get maximum value of all elements\n",
    "print(r2.max())"
   ]
  }
 ],
 "metadata": {
  "kernelspec": {
   "display_name": "pytorch",
   "language": "python",
   "name": "python3"
  },
  "language_info": {
   "codemirror_mode": {
    "name": "ipython",
    "version": 3
   },
   "file_extension": ".py",
   "mimetype": "text/x-python",
   "name": "python",
   "nbconvert_exporter": "python",
   "pygments_lexer": "ipython3",
   "version": "3.11.4"
  },
  "orig_nbformat": 4
 },
 "nbformat": 4,
 "nbformat_minor": 2
}

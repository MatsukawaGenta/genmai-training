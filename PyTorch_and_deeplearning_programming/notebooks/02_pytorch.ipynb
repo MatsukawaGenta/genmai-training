{
 "cells": [
  {
   "cell_type": "markdown",
   "metadata": {},
   "source": [
    "# 2. Introduction of PyTorch"
   ]
  },
  {
   "cell_type": "code",
   "execution_count": 1,
   "metadata": {},
   "outputs": [],
   "source": [
    "# Import required libraries\n",
    "%matplotlib inline\n",
    "import numpy as np\n",
    "import matplotlib.pyplot as plt\n",
    "import japanize_matplotlib\n",
    "from IPython.display import display"
   ]
  },
  {
   "cell_type": "code",
   "execution_count": 2,
   "metadata": {},
   "outputs": [],
   "source": [
    "# Set default font size\n",
    "plt.rcParams['font.size'] = 14\n",
    "\n",
    "# Set default graph size\n",
    "plt.rcParams['figure.figsize'] = (6,6)\n",
    "\n",
    "# Show grid\n",
    "plt.rcParams['axes.grid'] = True"
   ]
  },
  {
   "cell_type": "markdown",
   "metadata": {},
   "source": [
    "## 2.2 Tensor"
   ]
  },
  {
   "cell_type": "markdown",
   "metadata": {},
   "source": [
    "### Import library"
   ]
  },
  {
   "cell_type": "code",
   "execution_count": 3,
   "metadata": {},
   "outputs": [],
   "source": [
    "# Pytorch library\n",
    "import torch"
   ]
  },
  {
   "cell_type": "markdown",
   "metadata": {},
   "source": [
    "### Create tensors of various ranks"
   ]
  },
  {
   "cell_type": "code",
   "execution_count": 4,
   "metadata": {},
   "outputs": [
    {
     "name": "stdout",
     "output_type": "stream",
     "text": [
      "<class 'torch.Tensor'>\n",
      "torch.float32\n"
     ]
    }
   ],
   "source": [
    "# Rank 0 tensor (scalar)\n",
    "# Don't be forget to convert from dtype to float32. \n",
    "# If you forgot this about NumPy variable, dtype will be converted to float64, and some Libraries doesn't work it. \n",
    "r0 = torch.tensor(1.0).float()\n",
    "\n",
    "# Show type\n",
    "print(type(r0))\n",
    "\n",
    "# Show dtype\n",
    "print(r0.dtype)"
   ]
  },
  {
   "cell_type": "code",
   "execution_count": 5,
   "metadata": {},
   "outputs": [
    {
     "name": "stdout",
     "output_type": "stream",
     "text": [
      "torch.Size([])\n",
      "tensor(1.)\n"
     ]
    }
   ],
   "source": [
    "# Show shape\n",
    "print(r0.shape)\n",
    "\n",
    "# Show data\n",
    "print(r0.data)"
   ]
  },
  {
   "cell_type": "code",
   "execution_count": 6,
   "metadata": {},
   "outputs": [
    {
     "name": "stdout",
     "output_type": "stream",
     "text": [
      "(5,)\n",
      "torch.float32\n",
      "torch.Size([5])\n",
      "tensor([1., 2., 3., 4., 5.])\n"
     ]
    }
   ],
   "source": [
    "# Rank 1 tensor (vector)\n",
    "\n",
    "# Create rank 1 NumPy variable\n",
    "r1_np = np.array([1, 2, 3, 4, 5])\n",
    "print(r1_np.shape)\n",
    "\n",
    "# Convert from NumPy to tensor\n",
    "r1 = torch.tensor(r1_np).float()\n",
    "\n",
    "# Show dtype\n",
    "print(r1.dtype)\n",
    "\n",
    "# Show shape\n",
    "print(r1.shape)\n",
    "\n",
    "# Show data\n",
    "print(r1.data)"
   ]
  },
  {
   "cell_type": "code",
   "execution_count": 7,
   "metadata": {},
   "outputs": [
    {
     "name": "stdout",
     "output_type": "stream",
     "text": [
      "(2, 3)\n",
      "torch.Size([2, 3])\n",
      "tensor([[1., 5., 6.],\n",
      "        [4., 3., 2.]])\n"
     ]
    }
   ],
   "source": [
    "# Rank 2 tensor (matrix)\n",
    "\n",
    "# Create rank 2 Numpy variable\n",
    "r2_np = np.array([[1, 5, 6], [4, 3, 2]])\n",
    "print(r2_np.shape)\n",
    "\n",
    "# Convert from NumPy to tensor\n",
    "r2 = torch.tensor(r2_np).float()\n",
    "\n",
    "# Show shape\n",
    "print(r2.shape)\n",
    "\n",
    "# Show data\n",
    "print(r2.data)"
   ]
  },
  {
   "cell_type": "code",
   "execution_count": 8,
   "metadata": {},
   "outputs": [
    {
     "name": "stdout",
     "output_type": "stream",
     "text": [
      "torch.Size([3, 2, 2])\n",
      "tensor([[[-0.1115,  0.1204],\n",
      "         [-0.3696, -0.2404]],\n",
      "\n",
      "        [[-1.1969,  0.2093],\n",
      "         [-0.9724, -0.7550]],\n",
      "\n",
      "        [[ 0.3239, -0.1085],\n",
      "         [ 0.2103, -0.3908]]])\n"
     ]
    }
   ],
   "source": [
    "# Rank 3 tensor\n",
    "\n",
    "# Initialize a random seed\n",
    "torch.manual_seed(123)\n",
    "\n",
    "# Create a normal distributed variable tensor with shape=[3, 2, 2]\n",
    "# Function randn sets normal distributeed random numbers (average:0, variance:1) to elements\n",
    "r3 = torch.randn((3, 2, 2))\n",
    "\n",
    "# Show shape\n",
    "print(r3.shape)\n",
    "\n",
    "# Show data\n",
    "print(r3.data)"
   ]
  },
  {
   "cell_type": "code",
   "execution_count": 9,
   "metadata": {},
   "outputs": [
    {
     "name": "stdout",
     "output_type": "stream",
     "text": [
      "torch.Size([2, 3, 2, 2])\n",
      "tensor([[[[1., 1.],\n",
      "          [1., 1.]],\n",
      "\n",
      "         [[1., 1.],\n",
      "          [1., 1.]],\n",
      "\n",
      "         [[1., 1.],\n",
      "          [1., 1.]]],\n",
      "\n",
      "\n",
      "        [[[1., 1.],\n",
      "          [1., 1.]],\n",
      "\n",
      "         [[1., 1.],\n",
      "          [1., 1.]],\n",
      "\n",
      "         [[1., 1.],\n",
      "          [1., 1.]]]])\n"
     ]
    }
   ],
   "source": [
    "# Rank 4 tensor\n",
    "\n",
    "# Create tensor with shape=[2, 3, 2, 2] and all elements of it are 1\n",
    "# function ones sets 1.0 to all elements\n",
    "r4 = torch.ones((2, 3, 2, 2))\n",
    "\n",
    "# Show shape\n",
    "print(r4.shape)\n",
    "\n",
    "# Show data\n",
    "print(r4.data)"
   ]
  },
  {
   "cell_type": "markdown",
   "metadata": {},
   "source": [
    "### Create tensor of integer"
   ]
  },
  {
   "cell_type": "code",
   "execution_count": 10,
   "metadata": {},
   "outputs": [
    {
     "name": "stdout",
     "output_type": "stream",
     "text": [
      "torch.int64\n",
      "tensor([1, 2, 3, 4, 5])\n"
     ]
    }
   ],
   "source": [
    "# r1 is a rank 1 tensor that has float32 data\n",
    "# This tensor is converted torch.int64 by long function \n",
    "r5 = r1.long()\n",
    "\n",
    "# Show dtype\n",
    "print(r5.dtype)\n",
    "\n",
    "# Show value\n",
    "print(r5)"
   ]
  },
  {
   "cell_type": "markdown",
   "metadata": {},
   "source": [
    "### view function"
   ]
  },
  {
   "cell_type": "code",
   "execution_count": 11,
   "metadata": {},
   "outputs": [
    {
     "name": "stdout",
     "output_type": "stream",
     "text": [
      "torch.Size([3, 4])\n",
      "tensor([[-0.1115,  0.1204, -0.3696, -0.2404],\n",
      "        [-1.1969,  0.2093, -0.9724, -0.7550],\n",
      "        [ 0.3239, -0.1085,  0.2103, -0.3908]])\n"
     ]
    }
   ],
   "source": [
    "# How to convert other rank like reshape of NumPy\n",
    "# Convert to rank 2 from rank 3 \n",
    "# Set -1 to only an element, then it will be automatically tuned.\n",
    "r6 = r3.view(3, -1)\n",
    "\n",
    "# Show shape\n",
    "# In this case, the number of r3 elements is 12 ([3, 2, 2]:3*2*2=12)\n",
    "# And the number of r6 elements will be tuned to match 12, so r6.shape will be [3, 4]([3, x]:3*x=12)\n",
    "print(r6.shape)\n",
    "\n",
    "# Show data\n",
    "print(r6.data)"
   ]
  },
  {
   "cell_type": "code",
   "execution_count": 12,
   "metadata": {},
   "outputs": [
    {
     "name": "stdout",
     "output_type": "stream",
     "text": [
      "torch.Size([12])\n",
      "tensor([-0.1115,  0.1204, -0.3696, -0.2404, -1.1969,  0.2093, -0.9724, -0.7550,\n",
      "         0.3239, -0.1085,  0.2103, -0.3908])\n"
     ]
    }
   ],
   "source": [
    "# How to convert other rank like reshape of NumPy\n",
    "# Convert to rank 1 from rank 3 \n",
    "# Set -1 to only an element, then it will be automatically tuned.\n",
    "r7 = r3.view(-1)\n",
    "\n",
    "# Show shape\n",
    "# In this case, the number of r3 elements is 12 ([3, 2, 2]:3*2*2=12)\n",
    "# And the number of r6 elements will be tuned to match 12, so r7.shape will be [12]([12]:x=12)\n",
    "print(r7.shape)\n",
    "\n",
    "# Show data\n",
    "print(r7.data)"
   ]
  },
  {
   "cell_type": "markdown",
   "metadata": {},
   "source": [
    "### Other attriburtes\n"
   ]
  },
  {
   "cell_type": "code",
   "execution_count": 13,
   "metadata": {},
   "outputs": [
    {
     "name": "stdout",
     "output_type": "stream",
     "text": [
      "requires_grad:  False\n",
      "device:  cpu\n"
     ]
    }
   ],
   "source": [
    "# Requires_grad\n",
    "print('requires_grad: ', r1.requires_grad)\n",
    "\n",
    "# device\n",
    "print('device: ', r1.device)"
   ]
  },
  {
   "cell_type": "markdown",
   "metadata": {},
   "source": [
    "### item function"
   ]
  },
  {
   "cell_type": "code",
   "execution_count": 14,
   "metadata": {},
   "outputs": [
    {
     "name": "stdout",
     "output_type": "stream",
     "text": [
      "<class 'float'>\n",
      "1.0\n"
     ]
    }
   ],
   "source": [
    "# item function can get value of class with scaler tensor (rank 0)\n",
    "\n",
    "item = r0.item()\n",
    "\n",
    "print(type(item))\n",
    "print(item)"
   ]
  },
  {
   "cell_type": "code",
   "execution_count": 15,
   "metadata": {},
   "outputs": [
    {
     "ename": "RuntimeError",
     "evalue": "a Tensor with 5 elements cannot be converted to Scalar",
     "output_type": "error",
     "traceback": [
      "\u001b[0;31m---------------------------------------------------------------------------\u001b[0m",
      "\u001b[0;31mRuntimeError\u001b[0m                              Traceback (most recent call last)",
      "Cell \u001b[0;32mIn[15], line 3\u001b[0m\n\u001b[1;32m      1\u001b[0m \u001b[39m# Be careful with item function. It can only use rank 0 tensor.\u001b[39;00m\n\u001b[0;32m----> 3\u001b[0m \u001b[39mprint\u001b[39m(r1\u001b[39m.\u001b[39mitem())\n",
      "\u001b[0;31mRuntimeError\u001b[0m: a Tensor with 5 elements cannot be converted to Scalar"
     ]
    }
   ],
   "source": [
    "# Be careful with item function. It can only use rank 0 tensor.\n",
    "\n",
    "print(r1.item())"
   ]
  },
  {
   "cell_type": "code",
   "execution_count": 16,
   "metadata": {},
   "outputs": [
    {
     "name": "stdout",
     "output_type": "stream",
     "text": [
      "torch.Size([1])\n",
      "1.0\n"
     ]
    }
   ],
   "source": [
    "# When the number of elements is only one, it's OK to use rank more than 1 tensor.\n",
    "# example: shape is [1], or [1, 1]\n",
    "t1 = torch.ones(1)\n",
    "\n",
    "# show shape\n",
    "print(t1.shape)\n",
    "\n",
    "# call item function\n",
    "print(t1.item())"
   ]
  },
  {
   "cell_type": "markdown",
   "metadata": {},
   "source": [
    "### max function"
   ]
  },
  {
   "cell_type": "code",
   "execution_count": 17,
   "metadata": {},
   "outputs": [
    {
     "name": "stdout",
     "output_type": "stream",
     "text": [
      "tensor([[1., 5., 6.],\n",
      "        [4., 3., 2.]])\n",
      "tensor(6.)\n"
     ]
    }
   ],
   "source": [
    "# Show original tensor r2 (shape is [2, 3])\n",
    "print(r2)\n",
    "\n",
    "# Call max function without argument, and it will be able to get a maximum value from all elements\n",
    "print(r2.max())"
   ]
  },
  {
   "cell_type": "code",
   "execution_count": 18,
   "metadata": {},
   "outputs": [
    {
     "name": "stdout",
     "output_type": "stream",
     "text": [
      "torch.return_types.max(\n",
      "values=tensor([6., 4.]),\n",
      "indices=tensor([2, 0]))\n",
      "torch.return_types.max(\n",
      "values=tensor([4., 5., 6.]),\n",
      "indices=tensor([1, 0, 0]))\n"
     ]
    }
   ],
   "source": [
    "# torch.max function\n",
    "# Second augument means which axis do you want to select\n",
    "# The case of rank 2 : axis=1 is row, axis=0 is column\n",
    "print(torch.max(r2, 1))\n",
    "print(torch.max(r2, 0))"
   ]
  },
  {
   "cell_type": "code",
   "execution_count": 19,
   "metadata": {},
   "outputs": [
    {
     "name": "stdout",
     "output_type": "stream",
     "text": [
      "tensor([2, 0])\n"
     ]
    }
   ],
   "source": [
    "# You can find out which order takes the maximum value by showing indices.\n",
    "# You can get only indices with putting [1] to \"print(torch.max(r2, 1))\"\n",
    "# The following calculation is a pattern that is often used when obtaining predicted labels in multi-level classification. \n",
    "print(torch.max(r2, 1)[1])"
   ]
  },
  {
   "cell_type": "markdown",
   "metadata": {},
   "source": [
    "### Convert to NumPy variable"
   ]
  },
  {
   "cell_type": "markdown",
   "metadata": {},
   "source": [
    "In following example, the tensor variable and the NumPy array are pointed same data, so use .copy() if you need.\n",
    "\n",
    "(More details are explained in 1.2)"
   ]
  },
  {
   "cell_type": "code",
   "execution_count": 20,
   "metadata": {},
   "outputs": [
    {
     "name": "stdout",
     "output_type": "stream",
     "text": [
      "<class 'numpy.ndarray'>\n",
      "[[1. 5. 6.]\n",
      " [4. 3. 2.]]\n"
     ]
    }
   ],
   "source": [
    "# Convert to NumPy\n",
    "r2_np = r2.data.numpy()\n",
    "\n",
    "# Show type\n",
    "print(type(r2_np))\n",
    "\n",
    "# Show value\n",
    "print(r2_np)"
   ]
  },
  {
   "cell_type": "markdown",
   "metadata": {},
   "source": [
    "## 2.4 Gradient calculation of quadratic function"
   ]
  },
  {
   "cell_type": "markdown",
   "metadata": {},
   "source": [
    "### (1) The definition of variable for gradient calculation"
   ]
  },
  {
   "cell_type": "code",
   "execution_count": 21,
   "metadata": {},
   "outputs": [
    {
     "name": "stdout",
     "output_type": "stream",
     "text": [
      "[-2.   -1.75 -1.5  -1.25 -1.   -0.75 -0.5  -0.25  0.    0.25  0.5   0.75\n",
      "  1.    1.25  1.5   1.75  2.  ]\n"
     ]
    }
   ],
   "source": [
    "# Define x with NumPy array\n",
    "x_np = np.arange(-2, 2.1, 0.25)\n",
    "\n",
    "# Show the value of x\n",
    "print(x_np)"
   ]
  },
  {
   "cell_type": "code",
   "execution_count": 22,
   "metadata": {},
   "outputs": [
    {
     "name": "stdout",
     "output_type": "stream",
     "text": [
      "tensor([-2.0000, -1.7500, -1.5000, -1.2500, -1.0000, -0.7500, -0.5000, -0.2500,\n",
      "         0.0000,  0.2500,  0.5000,  0.7500,  1.0000,  1.2500,  1.5000,  1.7500,\n",
      "         2.0000], requires_grad=True)\n"
     ]
    }
   ],
   "source": [
    "# (1) The definition of cariable for gradient calculation\n",
    "\n",
    "# Set requires_grad = True\n",
    "x = torch.tensor(x_np, requires_grad=True, dtype=torch.float32)\n",
    "\n",
    "# Show result\n",
    "print(x)"
   ]
  },
  {
   "cell_type": "markdown",
   "metadata": {},
   "source": [
    "About \"dtype=torch.float32\"\n",
    "\n",
    "Here we are specifying a dtype parameter instead of calling the float function.\n",
    "\n",
    "This is because when the float function is called, the copy function is called as a computation graph, and x is no longer a leaf node that can calculate the gradient value.\n",
    "\n",
    "In normal machine learning, the parameters are differentiated instead of x, so this is only supported this time."
   ]
  },
  {
   "cell_type": "markdown",
   "metadata": {},
   "source": [
    "### (2) Calculate with tensor variables"
   ]
  },
  {
   "cell_type": "code",
   "execution_count": 23,
   "metadata": {},
   "outputs": [
    {
     "name": "stdout",
     "output_type": "stream",
     "text": [
      "tensor([10.0000,  8.1250,  6.5000,  5.1250,  4.0000,  3.1250,  2.5000,  2.1250,\n",
      "         2.0000,  2.1250,  2.5000,  3.1250,  4.0000,  5.1250,  6.5000,  8.1250,\n",
      "        10.0000], grad_fn=<AddBackward0>)\n"
     ]
    }
   ],
   "source": [
    "# Calculate quadratic function\n",
    "# Computation graph is automatically generated\n",
    "y = 2 * x**2 +2\n",
    "\n",
    "# Show the result of calculation of y\n",
    "print(y)"
   ]
  },
  {
   "cell_type": "code",
   "execution_count": 24,
   "metadata": {},
   "outputs": [
    {
     "data": {
      "image/png": "[encoded data removed]",
      "text/plain": [
       "<Figure size 600x600 with 1 Axes>"
      ]
     },
     "metadata": {},
     "output_type": "display_data"
    }
   ],
   "source": [
    "# Show scatter plot\n",
    "\n",
    "plt.plot(x.data, y.data)\n",
    "plt.show()"
   ]
  },
  {
   "cell_type": "code",
   "execution_count": 25,
   "metadata": {},
   "outputs": [],
   "source": [
    "# For gradient calculation, convert function value of rank 1 tensor to scalar with sum function\n",
    "# (You can get the result of defferentiation of the original function, \n",
    "# because result of partial differentiation of the sum function with respect to each element is 1)\n",
    "# (For details, refer to the explanation on the support site)\n",
    "\n",
    "z = y.sum()"
   ]
  },
  {
   "cell_type": "markdown",
   "metadata": {},
   "source": [
    "### (3) Visualization of computational graphs"
   ]
  },
  {
   "cell_type": "code",
   "execution_count": 26,
   "metadata": {},
   "outputs": [
    {
     "data": {
      "image/svg+xml": [
       "<?xml version=\"1.0\" encoding=\"UTF-8\" standalone=\"no\"?>\n",
       "<!DOCTYPE svg PUBLIC \"-//W3C//DTD SVG 1.1//EN\"\n",
       " \"http://www.w3.org/Graphics/SVG/1.1/DTD/svg11.dtd\">\n",
       "<!-- Generated by graphviz version 6.0.1 (20220911.1526)\n",
       " -->\n",
       "<!-- Pages: 1 -->\n",
       "<svg width=\"109pt\" height=\"380pt\"\n",
       " viewBox=\"0.00 0.00 109.00 380.00\" xmlns=\"http://www.w3.org/2000/svg\" xmlns:xlink=\"http://www.w3.org/1999/xlink\">\n",
       "<g id=\"graph0\" class=\"graph\" transform=\"scale(1 1) rotate(0) translate(4 376)\">\n",
       "<polygon fill=\"white\" stroke=\"none\" points=\"-4,4 -4,-376 105,-376 105,4 -4,4\"/>\n",
       "<!-- 5042037104 -->\n",
       "<g id=\"node1\" class=\"node\">\n",
       "<title>5042037104</title>\n",
       "<polygon fill=\"#caff70\" stroke=\"black\" points=\"77.5,-31 23.5,-31 23.5,0 77.5,0 77.5,-31\"/>\n",
       "<text text-anchor=\"middle\" x=\"50.5\" y=\"-7\" font-family=\"monospace\" font-size=\"10.00\"> ()</text>\n",
       "</g>\n",
       "<!-- 4991384976 -->\n",
       "<g id=\"node2\" class=\"node\">\n",
       "<title>4991384976</title>\n",
       "<polygon fill=\"lightgrey\" stroke=\"black\" points=\"95,-86 6,-86 6,-67 95,-67 95,-86\"/>\n",
       "<text text-anchor=\"middle\" x=\"50.5\" y=\"-74\" font-family=\"monospace\" font-size=\"10.00\">SumBackward0</text>\n",
       "</g>\n",
       "<!-- 4991384976&#45;&gt;5042037104 -->\n",
       "<g id=\"edge6\" class=\"edge\">\n",
       "<title>4991384976&#45;&gt;5042037104</title>\n",
       "<path fill=\"none\" stroke=\"black\" d=\"M50.5,-66.79C50.5,-60.07 50.5,-50.4 50.5,-41.34\"/>\n",
       "<polygon fill=\"black\" stroke=\"black\" points=\"54,-41.19 50.5,-31.19 47,-41.19 54,-41.19\"/>\n",
       "</g>\n",
       "<!-- 4991384832 -->\n",
       "<g id=\"node3\" class=\"node\">\n",
       "<title>4991384832</title>\n",
       "<polygon fill=\"lightgrey\" stroke=\"black\" points=\"95,-141 6,-141 6,-122 95,-122 95,-141\"/>\n",
       "<text text-anchor=\"middle\" x=\"50.5\" y=\"-129\" font-family=\"monospace\" font-size=\"10.00\">AddBackward0</text>\n",
       "</g>\n",
       "<!-- 4991384832&#45;&gt;4991384976 -->\n",
       "<g id=\"edge1\" class=\"edge\">\n",
       "<title>4991384832&#45;&gt;4991384976</title>\n",
       "<path fill=\"none\" stroke=\"black\" d=\"M50.5,-121.75C50.5,-114.8 50.5,-104.85 50.5,-96.13\"/>\n",
       "<polygon fill=\"black\" stroke=\"black\" points=\"54,-96.09 50.5,-86.09 47,-96.09 54,-96.09\"/>\n",
       "</g>\n",
       "<!-- 4991384688 -->\n",
       "<g id=\"node4\" class=\"node\">\n",
       "<title>4991384688</title>\n",
       "<polygon fill=\"lightgrey\" stroke=\"black\" points=\"95,-196 6,-196 6,-177 95,-177 95,-196\"/>\n",
       "<text text-anchor=\"middle\" x=\"50.5\" y=\"-184\" font-family=\"monospace\" font-size=\"10.00\">MulBackward0</text>\n",
       "</g>\n",
       "<!-- 4991384688&#45;&gt;4991384832 -->\n",
       "<g id=\"edge2\" class=\"edge\">\n",
       "<title>4991384688&#45;&gt;4991384832</title>\n",
       "<path fill=\"none\" stroke=\"black\" d=\"M50.5,-176.75C50.5,-169.8 50.5,-159.85 50.5,-151.13\"/>\n",
       "<polygon fill=\"black\" stroke=\"black\" points=\"54,-151.09 50.5,-141.09 47,-151.09 54,-151.09\"/>\n",
       "</g>\n",
       "<!-- 4991384544 -->\n",
       "<g id=\"node5\" class=\"node\">\n",
       "<title>4991384544</title>\n",
       "<polygon fill=\"lightgrey\" stroke=\"black\" points=\"95,-251 6,-251 6,-232 95,-232 95,-251\"/>\n",
       "<text text-anchor=\"middle\" x=\"50.5\" y=\"-239\" font-family=\"monospace\" font-size=\"10.00\">PowBackward0</text>\n",
       "</g>\n",
       "<!-- 4991384544&#45;&gt;4991384688 -->\n",
       "<g id=\"edge3\" class=\"edge\">\n",
       "<title>4991384544&#45;&gt;4991384688</title>\n",
       "<path fill=\"none\" stroke=\"black\" d=\"M50.5,-231.75C50.5,-224.8 50.5,-214.85 50.5,-206.13\"/>\n",
       "<polygon fill=\"black\" stroke=\"black\" points=\"54,-206.09 50.5,-196.09 47,-206.09 54,-206.09\"/>\n",
       "</g>\n",
       "<!-- 4991384448 -->\n",
       "<g id=\"node6\" class=\"node\">\n",
       "<title>4991384448</title>\n",
       "<polygon fill=\"lightgrey\" stroke=\"black\" points=\"101,-306 0,-306 0,-287 101,-287 101,-306\"/>\n",
       "<text text-anchor=\"middle\" x=\"50.5\" y=\"-294\" font-family=\"monospace\" font-size=\"10.00\">AccumulateGrad</text>\n",
       "</g>\n",
       "<!-- 4991384448&#45;&gt;4991384544 -->\n",
       "<g id=\"edge4\" class=\"edge\">\n",
       "<title>4991384448&#45;&gt;4991384544</title>\n",
       "<path fill=\"none\" stroke=\"black\" d=\"M50.5,-286.75C50.5,-279.8 50.5,-269.85 50.5,-261.13\"/>\n",
       "<polygon fill=\"black\" stroke=\"black\" points=\"54,-261.09 50.5,-251.09 47,-261.09 54,-261.09\"/>\n",
       "</g>\n",
       "<!-- 5042033184 -->\n",
       "<g id=\"node7\" class=\"node\">\n",
       "<title>5042033184</title>\n",
       "<polygon fill=\"lightblue\" stroke=\"black\" points=\"77.5,-372 23.5,-372 23.5,-342 77.5,-342 77.5,-372\"/>\n",
       "<text text-anchor=\"middle\" x=\"50.5\" y=\"-360\" font-family=\"monospace\" font-size=\"10.00\">x</text>\n",
       "<text text-anchor=\"middle\" x=\"50.5\" y=\"-349\" font-family=\"monospace\" font-size=\"10.00\"> (17)</text>\n",
       "</g>\n",
       "<!-- 5042033184&#45;&gt;4991384448 -->\n",
       "<g id=\"edge5\" class=\"edge\">\n",
       "<title>5042033184&#45;&gt;4991384448</title>\n",
       "<path fill=\"none\" stroke=\"black\" d=\"M50.5,-341.84C50.5,-334.21 50.5,-324.7 50.5,-316.45\"/>\n",
       "<polygon fill=\"black\" stroke=\"black\" points=\"54,-316.27 50.5,-306.27 47,-316.27 54,-316.27\"/>\n",
       "</g>\n",
       "</g>\n",
       "</svg>\n"
      ],
      "text/plain": [
       "<graphviz.graphs.Digraph at 0x12c79fe10>"
      ]
     },
     "metadata": {},
     "output_type": "display_data"
    }
   ],
   "source": [
    "# (3) Visualization of computational graphs\n",
    "\n",
    "# import required library\n",
    "from torchviz import make_dot\n",
    "\n",
    "# Call the visualization function\n",
    "g = make_dot(z, params={'x': x})\n",
    "display(g)"
   ]
  },
  {
   "cell_type": "markdown",
   "metadata": {},
   "source": [
    "x: Leaf node. Variables for which gradient values ​​can be calculated. (17) is shape and it means rank 1 and 17 dimensions.\n",
    "\n",
    "AccumulateGrad: This is where to store gradient values.\n",
    " \n",
    "PowBackword0: Call exponential function (x**2)\n",
    "\n",
    "MulBackword0: Call multiplication function (2 * x**2)\n",
    "\n",
    "AddBackword0: Call add function (2 * x**2 + 2)\n",
    "\n",
    "SumBackword0: Call sum function (create scalar z from y)\n",
    "\n",
    "(): Output. () is shape and it means rank 0 and scalar "
   ]
  },
  {
   "cell_type": "markdown",
   "metadata": {},
   "source": [
    "### (4) Gradient calculation"
   ]
  },
  {
   "cell_type": "code",
   "execution_count": 27,
   "metadata": {},
   "outputs": [],
   "source": [
    "# (4) Gradient calculation\n",
    "\n",
    "z.backward()"
   ]
  },
  {
   "cell_type": "markdown",
   "metadata": {},
   "source": [
    "### (5) Get the gradient value"
   ]
  },
  {
   "cell_type": "code",
   "execution_count": 28,
   "metadata": {},
   "outputs": [
    {
     "name": "stdout",
     "output_type": "stream",
     "text": [
      "tensor([-8., -7., -6., -5., -4., -3., -2., -1.,  0.,  1.,  2.,  3.,  4.,  5.,\n",
      "         6.,  7.,  8.])\n"
     ]
    }
   ],
   "source": [
    "# (5) Get gradient values\n",
    "print(x.grad)"
   ]
  },
  {
   "cell_type": "code",
   "execution_count": 29,
   "metadata": {},
   "outputs": [
    {
     "data": {
      "image/png": "[encoded data removed]",
      "text/plain": [
       "<Figure size 600x600 with 1 Axes>"
      ]
     },
     "metadata": {},
     "output_type": "display_data"
    }
   ],
   "source": [
    "# Show graph of the original function and gradient\n",
    "\n",
    "plt.plot(x.data, y.data, c='b', label='y')\n",
    "plt.plot(x.data, x.grad.data, c='k', label='y.grad')\n",
    "plt.legend()\n",
    "plt.show()"
   ]
  },
  {
   "cell_type": "markdown",
   "metadata": {},
   "source": [
    "Since the original function is a quadratic function, it is reasonable that the result of the gradient calculation is a straight line."
   ]
  },
  {
   "cell_type": "markdown",
   "metadata": {},
   "source": [
    "### (6) Initialize gradient values"
   ]
  },
  {
   "cell_type": "markdown",
   "metadata": {},
   "source": [
    "Here let's calculate gradient again."
   ]
  },
  {
   "cell_type": "code",
   "execution_count": 30,
   "metadata": {},
   "outputs": [
    {
     "name": "stdout",
     "output_type": "stream",
     "text": [
      "tensor([-16., -14., -12., -10.,  -8.,  -6.,  -4.,  -2.,   0.,   2.,   4.,   6.,\n",
      "          8.,  10.,  12.,  14.,  16.])\n"
     ]
    }
   ],
   "source": [
    "# This is bad example because x.grad keeps results so far\n",
    "# Second gradient computation without gradient initialization\n",
    "\n",
    "y = 2 * x**2 + 2\n",
    "z = y.sum()\n",
    "z.backward()\n",
    "\n",
    "# Show gradient of x\n",
    "print(x.grad)"
   ]
  },
  {
   "cell_type": "markdown",
   "metadata": {},
   "source": [
    "As for the gradient value, the result of the gradient calculation is added more and more. So if you want to calculate a new value, you need to reset the gradient value."
   ]
  },
  {
   "cell_type": "code",
   "execution_count": 31,
   "metadata": {},
   "outputs": [
    {
     "name": "stdout",
     "output_type": "stream",
     "text": [
      "tensor([0., 0., 0., 0., 0., 0., 0., 0., 0., 0., 0., 0., 0., 0., 0., 0., 0.])\n"
     ]
    }
   ],
   "source": [
    "# (6) Initialize gradient values with zero_() function\n",
    "\n",
    "x.grad.zero_()\n",
    "print(x.grad)"
   ]
  },
  {
   "cell_type": "markdown",
   "metadata": {},
   "source": [
    "## 2.5 Gradient calculation of sigmoid function"
   ]
  },
  {
   "cell_type": "markdown",
   "metadata": {},
   "source": [
    "The sigmoid function can be experssed in the following form, but this time, we will use the function provided by PyTorch.  \n",
    "$ y = \\dfrac{1}{1 + \\exp{(-x)}} $"
   ]
  },
  {
   "cell_type": "code",
   "execution_count": 32,
   "metadata": {},
   "outputs": [],
   "source": [
    "# The definition of sigmoid function\n",
    "sigmoid = torch.nn.Sigmoid()"
   ]
  },
  {
   "cell_type": "code",
   "execution_count": 33,
   "metadata": {},
   "outputs": [],
   "source": [
    "# (2) Calculate value of y\n",
    "y = sigmoid(x)"
   ]
  },
  {
   "cell_type": "code",
   "execution_count": 34,
   "metadata": {},
   "outputs": [
    {
     "data": {
      "image/png": "[encoded data removed]",
      "text/plain": [
       "<Figure size 600x600 with 1 Axes>"
      ]
     },
     "metadata": {},
     "output_type": "display_data"
    }
   ],
   "source": [
    "# Show scatter plot\n",
    "plt.plot(x.data, y.data)\n",
    "plt.show()"
   ]
  },
  {
   "cell_type": "markdown",
   "metadata": {},
   "source": [
    "### Processing that scalarizes the final result"
   ]
  },
  {
   "cell_type": "code",
   "execution_count": 35,
   "metadata": {},
   "outputs": [],
   "source": [
    "# For the gradient calculation, the final value must be a scalar, so a dummy sum function is applied\n",
    "z = y.sum()"
   ]
  },
  {
   "cell_type": "markdown",
   "metadata": {},
   "source": [
    "### (3) Visualization of computational graph"
   ]
  },
  {
   "cell_type": "code",
   "execution_count": 36,
   "metadata": {},
   "outputs": [
    {
     "data": {
      "image/svg+xml": [
       "<?xml version=\"1.0\" encoding=\"UTF-8\" standalone=\"no\"?>\n",
       "<!DOCTYPE svg PUBLIC \"-//W3C//DTD SVG 1.1//EN\"\n",
       " \"http://www.w3.org/Graphics/SVG/1.1/DTD/svg11.dtd\">\n",
       "<!-- Generated by graphviz version 6.0.1 (20220911.1526)\n",
       " -->\n",
       "<!-- Pages: 1 -->\n",
       "<svg width=\"121pt\" height=\"270pt\"\n",
       " viewBox=\"0.00 0.00 121.00 270.00\" xmlns=\"http://www.w3.org/2000/svg\" xmlns:xlink=\"http://www.w3.org/1999/xlink\">\n",
       "<g id=\"graph0\" class=\"graph\" transform=\"scale(1 1) rotate(0) translate(4 266)\">\n",
       "<polygon fill=\"white\" stroke=\"none\" points=\"-4,4 -4,-266 117,-266 117,4 -4,4\"/>\n",
       "<!-- 5043739360 -->\n",
       "<g id=\"node1\" class=\"node\">\n",
       "<title>5043739360</title>\n",
       "<polygon fill=\"#caff70\" stroke=\"black\" points=\"83.5,-31 29.5,-31 29.5,0 83.5,0 83.5,-31\"/>\n",
       "<text text-anchor=\"middle\" x=\"56.5\" y=\"-7\" font-family=\"monospace\" font-size=\"10.00\"> ()</text>\n",
       "</g>\n",
       "<!-- 4991384256 -->\n",
       "<g id=\"node2\" class=\"node\">\n",
       "<title>4991384256</title>\n",
       "<polygon fill=\"lightgrey\" stroke=\"black\" points=\"101,-86 12,-86 12,-67 101,-67 101,-86\"/>\n",
       "<text text-anchor=\"middle\" x=\"56.5\" y=\"-74\" font-family=\"monospace\" font-size=\"10.00\">SumBackward0</text>\n",
       "</g>\n",
       "<!-- 4991384256&#45;&gt;5043739360 -->\n",
       "<g id=\"edge4\" class=\"edge\">\n",
       "<title>4991384256&#45;&gt;5043739360</title>\n",
       "<path fill=\"none\" stroke=\"black\" d=\"M56.5,-66.79C56.5,-60.07 56.5,-50.4 56.5,-41.34\"/>\n",
       "<polygon fill=\"black\" stroke=\"black\" points=\"60,-41.19 56.5,-31.19 53,-41.19 60,-41.19\"/>\n",
       "</g>\n",
       "<!-- 4991385216 -->\n",
       "<g id=\"node3\" class=\"node\">\n",
       "<title>4991385216</title>\n",
       "<polygon fill=\"lightgrey\" stroke=\"black\" points=\"113,-141 0,-141 0,-122 113,-122 113,-141\"/>\n",
       "<text text-anchor=\"middle\" x=\"56.5\" y=\"-129\" font-family=\"monospace\" font-size=\"10.00\">SigmoidBackward0</text>\n",
       "</g>\n",
       "<!-- 4991385216&#45;&gt;4991384256 -->\n",
       "<g id=\"edge1\" class=\"edge\">\n",
       "<title>4991385216&#45;&gt;4991384256</title>\n",
       "<path fill=\"none\" stroke=\"black\" d=\"M56.5,-121.75C56.5,-114.8 56.5,-104.85 56.5,-96.13\"/>\n",
       "<polygon fill=\"black\" stroke=\"black\" points=\"60,-96.09 56.5,-86.09 53,-96.09 60,-96.09\"/>\n",
       "</g>\n",
       "<!-- 4991384736 -->\n",
       "<g id=\"node4\" class=\"node\">\n",
       "<title>4991384736</title>\n",
       "<polygon fill=\"lightgrey\" stroke=\"black\" points=\"107,-196 6,-196 6,-177 107,-177 107,-196\"/>\n",
       "<text text-anchor=\"middle\" x=\"56.5\" y=\"-184\" font-family=\"monospace\" font-size=\"10.00\">AccumulateGrad</text>\n",
       "</g>\n",
       "<!-- 4991384736&#45;&gt;4991385216 -->\n",
       "<g id=\"edge2\" class=\"edge\">\n",
       "<title>4991384736&#45;&gt;4991385216</title>\n",
       "<path fill=\"none\" stroke=\"black\" d=\"M56.5,-176.75C56.5,-169.8 56.5,-159.85 56.5,-151.13\"/>\n",
       "<polygon fill=\"black\" stroke=\"black\" points=\"60,-151.09 56.5,-141.09 53,-151.09 60,-151.09\"/>\n",
       "</g>\n",
       "<!-- 5042033184 -->\n",
       "<g id=\"node5\" class=\"node\">\n",
       "<title>5042033184</title>\n",
       "<polygon fill=\"lightblue\" stroke=\"black\" points=\"83.5,-262 29.5,-262 29.5,-232 83.5,-232 83.5,-262\"/>\n",
       "<text text-anchor=\"middle\" x=\"56.5\" y=\"-250\" font-family=\"monospace\" font-size=\"10.00\">x</text>\n",
       "<text text-anchor=\"middle\" x=\"56.5\" y=\"-239\" font-family=\"monospace\" font-size=\"10.00\"> (17)</text>\n",
       "</g>\n",
       "<!-- 5042033184&#45;&gt;4991384736 -->\n",
       "<g id=\"edge3\" class=\"edge\">\n",
       "<title>5042033184&#45;&gt;4991384736</title>\n",
       "<path fill=\"none\" stroke=\"black\" d=\"M56.5,-231.84C56.5,-224.21 56.5,-214.7 56.5,-206.45\"/>\n",
       "<polygon fill=\"black\" stroke=\"black\" points=\"60,-206.27 56.5,-196.27 53,-206.27 60,-206.27\"/>\n",
       "</g>\n",
       "</g>\n",
       "</svg>\n"
      ],
      "text/plain": [
       "<graphviz.graphs.Digraph at 0x12ca7bbd0>"
      ]
     },
     "metadata": {},
     "output_type": "display_data"
    }
   ],
   "source": [
    "# Visualizaion of computational graph\n",
    "g = make_dot(z, params={'x': x})\n",
    "display(g)"
   ]
  },
  {
   "cell_type": "code",
   "execution_count": 37,
   "metadata": {},
   "outputs": [
    {
     "name": "stdout",
     "output_type": "stream",
     "text": [
      "tensor([0.1050, 0.1261, 0.1491, 0.1731, 0.1966, 0.2179, 0.2350, 0.2461, 0.2500,\n",
      "        0.2461, 0.2350, 0.2179, 0.1966, 0.1731, 0.1491, 0.1261, 0.1050])\n"
     ]
    }
   ],
   "source": [
    "# (4) gradient calculation\n",
    "z.backward()\n",
    "\n",
    "# (5) Show gradient value\n",
    "print(x.grad)"
   ]
  },
  {
   "cell_type": "code",
   "execution_count": 38,
   "metadata": {},
   "outputs": [
    {
     "data": {
      "image/png": "[encoded data removed]",
      "text/plain": [
       "<Figure size 600x600 with 1 Axes>"
      ]
     },
     "metadata": {},
     "output_type": "display_data"
    }
   ],
   "source": [
    "# Show original graph and gradient\n",
    "\n",
    "plt.plot(x.data, y.data, c='b', label='y')\n",
    "plt.plot(x.data, x.grad.data, c='k', label='y.grad')\n",
    "plt.legend()\n",
    "plt.show()"
   ]
  },
  {
   "cell_type": "markdown",
   "metadata": {},
   "source": [
    "The gradient of sigmoid function is $y(1-y)$ .\n",
    "\n",
    "This is quadratic function, so when it is $y=\\dfrac{1}{2}$ (x=0), it takes muximum value $\\dfrac{1}{4}$.\n",
    "\n",
    "The graph above is consistent with this result."
   ]
  },
  {
   "cell_type": "markdown",
   "metadata": {},
   "source": [
    "### (Reference) An example of a manually implementation of the sigmoid function "
   ]
  },
  {
   "cell_type": "code",
   "execution_count": 39,
   "metadata": {},
   "outputs": [],
   "source": [
    "# The definition of sigmoid function\n",
    "def sigmoid(x):\n",
    "    return(1/(1 + torch.exp(-x)))"
   ]
  },
  {
   "cell_type": "code",
   "execution_count": 40,
   "metadata": {},
   "outputs": [],
   "source": [
    "# (2) Calculate the value of y\n",
    "y = sigmoid(x)"
   ]
  },
  {
   "cell_type": "code",
   "execution_count": 41,
   "metadata": {},
   "outputs": [
    {
     "data": {
      "image/png": "[encoded data removed]",
      "text/plain": [
       "<Figure size 600x600 with 1 Axes>"
      ]
     },
     "metadata": {},
     "output_type": "display_data"
    }
   ],
   "source": [
    "# Show scatter graph\n",
    "plt.plot(x.data, y.data)\n",
    "plt.xlabel('x')\n",
    "plt.ylabel('y')\n",
    "plt.title('The graph of sigmoid function')\n",
    "plt.show()"
   ]
  },
  {
   "cell_type": "code",
   "execution_count": 42,
   "metadata": {},
   "outputs": [],
   "source": [
    "# For the gradient calculation, the final value must be a scalar, so a dummy sum function is applied\n",
    "z = y.sum()"
   ]
  },
  {
   "cell_type": "code",
   "execution_count": 43,
   "metadata": {},
   "outputs": [
    {
     "data": {
      "image/svg+xml": [
       "<?xml version=\"1.0\" encoding=\"UTF-8\" standalone=\"no\"?>\n",
       "<!DOCTYPE svg PUBLIC \"-//W3C//DTD SVG 1.1//EN\"\n",
       " \"http://www.w3.org/Graphics/SVG/1.1/DTD/svg11.dtd\">\n",
       "<!-- Generated by graphviz version 6.0.1 (20220911.1526)\n",
       " -->\n",
       "<!-- Pages: 1 -->\n",
       "<svg width=\"139pt\" height=\"490pt\"\n",
       " viewBox=\"0.00 0.00 139.00 490.00\" xmlns=\"http://www.w3.org/2000/svg\" xmlns:xlink=\"http://www.w3.org/1999/xlink\">\n",
       "<g id=\"graph0\" class=\"graph\" transform=\"scale(1 1) rotate(0) translate(4 486)\">\n",
       "<polygon fill=\"white\" stroke=\"none\" points=\"-4,4 -4,-486 135,-486 135,4 -4,4\"/>\n",
       "<!-- 5043881136 -->\n",
       "<g id=\"node1\" class=\"node\">\n",
       "<title>5043881136</title>\n",
       "<polygon fill=\"#caff70\" stroke=\"black\" points=\"92.5,-31 38.5,-31 38.5,0 92.5,0 92.5,-31\"/>\n",
       "<text text-anchor=\"middle\" x=\"65.5\" y=\"-7\" font-family=\"monospace\" font-size=\"10.00\"> ()</text>\n",
       "</g>\n",
       "<!-- 4992259296 -->\n",
       "<g id=\"node2\" class=\"node\">\n",
       "<title>4992259296</title>\n",
       "<polygon fill=\"lightgrey\" stroke=\"black\" points=\"110,-86 21,-86 21,-67 110,-67 110,-86\"/>\n",
       "<text text-anchor=\"middle\" x=\"65.5\" y=\"-74\" font-family=\"monospace\" font-size=\"10.00\">SumBackward0</text>\n",
       "</g>\n",
       "<!-- 4992259296&#45;&gt;5043881136 -->\n",
       "<g id=\"edge8\" class=\"edge\">\n",
       "<title>4992259296&#45;&gt;5043881136</title>\n",
       "<path fill=\"none\" stroke=\"black\" d=\"M65.5,-66.79C65.5,-60.07 65.5,-50.4 65.5,-41.34\"/>\n",
       "<polygon fill=\"black\" stroke=\"black\" points=\"69,-41.19 65.5,-31.19 62,-41.19 69,-41.19\"/>\n",
       "</g>\n",
       "<!-- 4992255744 -->\n",
       "<g id=\"node3\" class=\"node\">\n",
       "<title>4992255744</title>\n",
       "<polygon fill=\"lightgrey\" stroke=\"black\" points=\"110,-141 21,-141 21,-122 110,-122 110,-141\"/>\n",
       "<text text-anchor=\"middle\" x=\"65.5\" y=\"-129\" font-family=\"monospace\" font-size=\"10.00\">MulBackward0</text>\n",
       "</g>\n",
       "<!-- 4992255744&#45;&gt;4992259296 -->\n",
       "<g id=\"edge1\" class=\"edge\">\n",
       "<title>4992255744&#45;&gt;4992259296</title>\n",
       "<path fill=\"none\" stroke=\"black\" d=\"M65.5,-121.75C65.5,-114.8 65.5,-104.85 65.5,-96.13\"/>\n",
       "<polygon fill=\"black\" stroke=\"black\" points=\"69,-96.09 65.5,-86.09 62,-96.09 69,-96.09\"/>\n",
       "</g>\n",
       "<!-- 4992259872 -->\n",
       "<g id=\"node4\" class=\"node\">\n",
       "<title>4992259872</title>\n",
       "<polygon fill=\"lightgrey\" stroke=\"black\" points=\"131,-196 0,-196 0,-177 131,-177 131,-196\"/>\n",
       "<text text-anchor=\"middle\" x=\"65.5\" y=\"-184\" font-family=\"monospace\" font-size=\"10.00\">ReciprocalBackward0</text>\n",
       "</g>\n",
       "<!-- 4992259872&#45;&gt;4992255744 -->\n",
       "<g id=\"edge2\" class=\"edge\">\n",
       "<title>4992259872&#45;&gt;4992255744</title>\n",
       "<path fill=\"none\" stroke=\"black\" d=\"M65.5,-176.75C65.5,-169.8 65.5,-159.85 65.5,-151.13\"/>\n",
       "<polygon fill=\"black\" stroke=\"black\" points=\"69,-151.09 65.5,-141.09 62,-151.09 69,-151.09\"/>\n",
       "</g>\n",
       "<!-- 4992263376 -->\n",
       "<g id=\"node5\" class=\"node\">\n",
       "<title>4992263376</title>\n",
       "<polygon fill=\"lightgrey\" stroke=\"black\" points=\"110,-251 21,-251 21,-232 110,-232 110,-251\"/>\n",
       "<text text-anchor=\"middle\" x=\"65.5\" y=\"-239\" font-family=\"monospace\" font-size=\"10.00\">AddBackward0</text>\n",
       "</g>\n",
       "<!-- 4992263376&#45;&gt;4992259872 -->\n",
       "<g id=\"edge3\" class=\"edge\">\n",
       "<title>4992263376&#45;&gt;4992259872</title>\n",
       "<path fill=\"none\" stroke=\"black\" d=\"M65.5,-231.75C65.5,-224.8 65.5,-214.85 65.5,-206.13\"/>\n",
       "<polygon fill=\"black\" stroke=\"black\" points=\"69,-206.09 65.5,-196.09 62,-206.09 69,-206.09\"/>\n",
       "</g>\n",
       "<!-- 4992255456 -->\n",
       "<g id=\"node6\" class=\"node\">\n",
       "<title>4992255456</title>\n",
       "<polygon fill=\"lightgrey\" stroke=\"black\" points=\"110,-306 21,-306 21,-287 110,-287 110,-306\"/>\n",
       "<text text-anchor=\"middle\" x=\"65.5\" y=\"-294\" font-family=\"monospace\" font-size=\"10.00\">ExpBackward0</text>\n",
       "</g>\n",
       "<!-- 4992255456&#45;&gt;4992263376 -->\n",
       "<g id=\"edge4\" class=\"edge\">\n",
       "<title>4992255456&#45;&gt;4992263376</title>\n",
       "<path fill=\"none\" stroke=\"black\" d=\"M65.5,-286.75C65.5,-279.8 65.5,-269.85 65.5,-261.13\"/>\n",
       "<polygon fill=\"black\" stroke=\"black\" points=\"69,-261.09 65.5,-251.09 62,-261.09 69,-261.09\"/>\n",
       "</g>\n",
       "<!-- 4992261840 -->\n",
       "<g id=\"node7\" class=\"node\">\n",
       "<title>4992261840</title>\n",
       "<polygon fill=\"lightgrey\" stroke=\"black\" points=\"110,-361 21,-361 21,-342 110,-342 110,-361\"/>\n",
       "<text text-anchor=\"middle\" x=\"65.5\" y=\"-349\" font-family=\"monospace\" font-size=\"10.00\">NegBackward0</text>\n",
       "</g>\n",
       "<!-- 4992261840&#45;&gt;4992255456 -->\n",
       "<g id=\"edge5\" class=\"edge\">\n",
       "<title>4992261840&#45;&gt;4992255456</title>\n",
       "<path fill=\"none\" stroke=\"black\" d=\"M65.5,-341.75C65.5,-334.8 65.5,-324.85 65.5,-316.13\"/>\n",
       "<polygon fill=\"black\" stroke=\"black\" points=\"69,-316.09 65.5,-306.09 62,-316.09 69,-316.09\"/>\n",
       "</g>\n",
       "<!-- 4992262992 -->\n",
       "<g id=\"node8\" class=\"node\">\n",
       "<title>4992262992</title>\n",
       "<polygon fill=\"lightgrey\" stroke=\"black\" points=\"116,-416 15,-416 15,-397 116,-397 116,-416\"/>\n",
       "<text text-anchor=\"middle\" x=\"65.5\" y=\"-404\" font-family=\"monospace\" font-size=\"10.00\">AccumulateGrad</text>\n",
       "</g>\n",
       "<!-- 4992262992&#45;&gt;4992261840 -->\n",
       "<g id=\"edge6\" class=\"edge\">\n",
       "<title>4992262992&#45;&gt;4992261840</title>\n",
       "<path fill=\"none\" stroke=\"black\" d=\"M65.5,-396.75C65.5,-389.8 65.5,-379.85 65.5,-371.13\"/>\n",
       "<polygon fill=\"black\" stroke=\"black\" points=\"69,-371.09 65.5,-361.09 62,-371.09 69,-371.09\"/>\n",
       "</g>\n",
       "<!-- 5042033184 -->\n",
       "<g id=\"node9\" class=\"node\">\n",
       "<title>5042033184</title>\n",
       "<polygon fill=\"lightblue\" stroke=\"black\" points=\"92.5,-482 38.5,-482 38.5,-452 92.5,-452 92.5,-482\"/>\n",
       "<text text-anchor=\"middle\" x=\"65.5\" y=\"-470\" font-family=\"monospace\" font-size=\"10.00\">x</text>\n",
       "<text text-anchor=\"middle\" x=\"65.5\" y=\"-459\" font-family=\"monospace\" font-size=\"10.00\"> (17)</text>\n",
       "</g>\n",
       "<!-- 5042033184&#45;&gt;4992262992 -->\n",
       "<g id=\"edge7\" class=\"edge\">\n",
       "<title>5042033184&#45;&gt;4992262992</title>\n",
       "<path fill=\"none\" stroke=\"black\" d=\"M65.5,-451.84C65.5,-444.21 65.5,-434.7 65.5,-426.45\"/>\n",
       "<polygon fill=\"black\" stroke=\"black\" points=\"69,-426.27 65.5,-416.27 62,-426.27 69,-426.27\"/>\n",
       "</g>\n",
       "</g>\n",
       "</svg>\n"
      ],
      "text/plain": [
       "<graphviz.graphs.Digraph at 0x12c86b210>"
      ]
     },
     "metadata": {},
     "output_type": "display_data"
    }
   ],
   "source": [
    "# (3) Visualization of computational graph\n",
    "params = {'x': x}\n",
    "g = make_dot(z, params=params)\n",
    "display(g)"
   ]
  },
  {
   "cell_type": "code",
   "execution_count": 44,
   "metadata": {},
   "outputs": [
    {
     "name": "stdout",
     "output_type": "stream",
     "text": [
      "tensor([0., 0., 0., 0., 0., 0., 0., 0., 0., 0., 0., 0., 0., 0., 0., 0., 0.])\n"
     ]
    }
   ],
   "source": [
    "# Reset x.grad\n",
    "x.grad.zero_()\n",
    "print(x.grad)"
   ]
  },
  {
   "cell_type": "code",
   "execution_count": 45,
   "metadata": {},
   "outputs": [
    {
     "name": "stdout",
     "output_type": "stream",
     "text": [
      "tensor([0.1050, 0.1261, 0.1491, 0.1731, 0.1966, 0.2179, 0.2350, 0.2461, 0.2500,\n",
      "        0.2461, 0.2350, 0.2179, 0.1966, 0.1731, 0.1491, 0.1261, 0.1050])\n"
     ]
    }
   ],
   "source": [
    "# (4) Gradient calculation\n",
    "z.backward()\n",
    "\n",
    "# (5) Show gradient value\n",
    "print(x.grad)"
   ]
  },
  {
   "cell_type": "code",
   "execution_count": 46,
   "metadata": {},
   "outputs": [
    {
     "data": {
      "image/png": "[encoded data removed]",
      "text/plain": [
       "<Figure size 600x600 with 1 Axes>"
      ]
     },
     "metadata": {},
     "output_type": "display_data"
    }
   ],
   "source": [
    "# Show original function and gradient\n",
    "plt.plot(x.data, y.data, c='b', label='y')\n",
    "plt.plot(x.data, x.grad.data, c='k', label='y.grad')\n",
    "plt.legend()\n",
    "plt.show()"
   ]
  }
 ],
 "metadata": {
  "kernelspec": {
   "display_name": "pytorch",
   "language": "python",
   "name": "python3"
  },
  "language_info": {
   "codemirror_mode": {
    "name": "ipython",
    "version": 3
   },
   "file_extension": ".py",
   "mimetype": "text/x-python",
   "name": "python",
   "nbconvert_exporter": "python",
   "pygments_lexer": "ipython3",
   "version": "3.11.4"
  },
  "orig_nbformat": 4
 },
 "nbformat": 4,
 "nbformat_minor": 2
}

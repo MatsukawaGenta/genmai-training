{
  "cells": [
    {
      "cell_type": "markdown",
      "metadata": {
        "id": "XngXq1SGWTKh"
      },
      "source": [
        "# Introduction"
      ]
    },
    {
      "cell_type": "markdown",
      "metadata": {
        "id": "C3Veo_gOEX6r"
      },
      "source": [
        "### Preparing for libralies and commands"
      ]
    },
    {
      "cell_type": "code",
      "execution_count": null,
      "metadata": {
        "id": "NxUum-JUWN-s"
      },
      "outputs": [],
      "source": [
        "# Import required libralies\n",
        "\n",
        "%matplotlib inline\n",
        "import numpy as np\n",
        "import matplotlib.pyplot as plt\n",
        "\n",
        "import torch\n",
        "import torch.nn as nn\n",
        "import torch.optim as optim\n",
        "import torchvision.datasets as datasets\n",
        "import torchvision.transforms as transforms\n",
        "from torch.utils.data import DataLoader"
      ]
    },
    {
      "cell_type": "markdown",
      "metadata": {
        "id": "2J_3IJXGEX6s"
      },
      "source": [
        "### Initial setting"
      ]
    },
    {
      "cell_type": "code",
      "execution_count": null,
      "metadata": {
        "id": "Ky9ZRueUWiQr"
      },
      "outputs": [],
      "source": [
        "# Change default font size\n",
        "plt.rcParams['font.size'] = 14\n",
        "\n",
        "# Ignore warning signs\n",
        "import warnings\n",
        "warnings.simplefilter('ignore')"
      ]
    },
    {
      "cell_type": "code",
      "execution_count": null,
      "metadata": {
        "id": "GzMnr3qmWqgB"
      },
      "outputs": [],
      "source": [
        "# Device allocation (Chapter 8)\n",
        "\n",
        "device = torch.device(\"cuda:0\" if torch.cuda.is_available() else \"cpu\")\n",
        "print(device)"
      ]
    },
    {
      "cell_type": "code",
      "execution_count": null,
      "metadata": {
        "id": "0u2kbtvKWuGw"
      },
      "outputs": [],
      "source": [
        "# Load common function (Capter 9)\n",
        "\n",
        "# Download common function\n",
        "!git clone https://github.com/makaishi2/pythonlibs.git\n",
        "\n",
        "# Load common function\n",
        "from pythonlibs.torch_lib1 import *\n",
        "\n",
        "# Existance check for common function\n",
        "print(README)"
      ]
    },
    {
      "cell_type": "markdown",
      "metadata": {
        "id": "r45T9pLkEX6t"
      },
      "source": [
        "### Load training data"
      ]
    },
    {
      "cell_type": "code",
      "execution_count": null,
      "metadata": {
        "id": "mqgQOcSr8do-"
      },
      "outputs": [],
      "source": [
        "# Load training data (Chapter 12)\n",
        "\n",
        "# Dowmload training images\n",
        "w = !wget https://github.com/makaishi2/pythonlibs/raw/main/images/dog_wolf.zip\n",
        "print(w[-2])\n",
        "\n",
        "# Unzip training images\n",
        "w = !unzip dog_wolf.zip\n",
        "print(w[-1])\n",
        "\n",
        "# Set directory name\n",
        "data_dir = 'dog_wolf'\n",
        "\n",
        "# Set train and test directory name\n",
        "import os\n",
        "train_dir = os.path.join(data_dir, 'train')\n",
        "test_dir = os.path.join(data_dir, 'test')\n",
        "\n",
        "# Set class names\n",
        "classes = ['dog', 'wolf']\n",
        "\n",
        "# Show tree of dog-wolf images\n",
        "!tree dog_wolf"
      ]
    },
    {
      "cell_type": "code",
      "execution_count": null,
      "metadata": {
        "id": "hCf-dM21XQrs"
      },
      "outputs": [],
      "source": [
        "# Prepare for training data (Chapter 8, 10, 12)\n",
        "\n",
        "# Definition of transform\n",
        "# Set for test data: nomalization only \n",
        "test_transform = transforms.Compose([\n",
        "    transforms.Resize(224),\n",
        "    transforms.CenterCrop(224),\n",
        "    transforms.ToTensor(),\n",
        "    transforms.Normalize(0.5, 0.5)\n",
        "])\n",
        "\n",
        "# Set for trainig data: nomalization, reverse and RandomErasing\n",
        "train_transform = transforms.Compose([\n",
        "    transforms.RandomHorizontalFlip(p=0.5), \n",
        "    transforms.Resize(224),\n",
        "    transforms.CenterCrop(224),\n",
        "    transforms.ToTensor(),\n",
        "    transforms.Normalize(0.5, 0.5),\n",
        "    transforms.RandomErasing(p=0.5, scale=(0.02, 0.33), ratio=(0.3, 3.3), value=0, inplace=False)   \n",
        "])\n",
        "\n",
        "# Definition of datasets\n",
        "train_data = datasets.ImageFolder(train_dir, transform=train_transform)\n",
        "train_data2 = datasets.ImageFolder(train_dir, transform=test_transform)\n",
        "test_data = datasets.ImageFolder(test_dir, transform=test_transform)\n",
        "\n",
        "# Definition of dataloader\n",
        "batch_size = 5\n",
        "#train_loader = DataLoader(train_data, batch_size=batch_size, shuffle=True)\n",
        "train_loader = DataLoader(train_data, batch_size=5, shuffle=True)\n",
        "train_loader2 = DataLoader(train_data2, batch_size=40, shuffle=False)\n",
        "test_loader = DataLoader(test_data, batch_size=5, shuffle=False)\n",
        "test_loader2 = DataLoader(test_data, batch_size=10, shuffle=True)\n"
      ]
    },
    {
      "cell_type": "markdown",
      "metadata": {
        "id": "2Asmir2yEX6u"
      },
      "source": [
        "### Show the training images"
      ]
    },
    {
      "cell_type": "code",
      "execution_count": null,
      "metadata": {
        "id": "hgdFKDDWHjjR"
      },
      "outputs": [],
      "source": [
        "# Training data (40 images)\n",
        "show_images_labels(train_loader2, classes, None, None)"
      ]
    },
    {
      "cell_type": "markdown",
      "metadata": {},
      "source": [
        "### Show the test images"
      ]
    },
    {
      "cell_type": "code",
      "execution_count": null,
      "metadata": {
        "id": "l3eUMamIHaon"
      },
      "outputs": [],
      "source": [
        "# Test data (10 images)\n",
        "# First, show only the images without the correct answer\n",
        "# Judge for yourself whether each image is of a dog or a wolf\n",
        "torch_seed()\n",
        "show_images_labels(test_loader2, ['', ''], None, None)"
      ]
    },
    {
      "cell_type": "code",
      "execution_count": null,
      "metadata": {
        "id": "XhADsgdYRIaR"
      },
      "outputs": [],
      "source": [
        "# Test data (10 images)\n",
        "# This shows correct answer\n",
        "# How many of the 10 images did you answer correctly?\n",
        "torch_seed()\n",
        "show_images_labels(test_loader2, classes, None, None)"
      ]
    },
    {
      "cell_type": "markdown",
      "metadata": {
        "id": "NZ6GmOBbEX6u"
      },
      "source": [
        "### Model construction"
      ]
    },
    {
      "cell_type": "code",
      "execution_count": null,
      "metadata": {
        "id": "vGPiu9Y6gaE8"
      },
      "outputs": [],
      "source": [
        "# Model construction using pre-trained model (Chapter 10)\n",
        "\n",
        "# load pre-trained model\n",
        "from torchvision import models\n",
        "net = models.vgg19_bn(pretrained = True)\n",
        "\n",
        "# Set required_grad flag to False for transfer learning\n",
        "for param in net.parameters():\n",
        "    param.requires_grad = False\n",
        "\n",
        "# Initialize ramdom numbers\n",
        "torch_seed()\n",
        "\n",
        "# Set the output of final node to 2\n",
        "in_features = net.classifier[6].in_features\n",
        "net.classifier[6] = nn.Linear(in_features, 2)\n",
        "\n",
        "# Remove AdaptiveAvgPool2d function\n",
        "net.avgpool = nn.Identity()\n",
        "\n",
        "# Set use of GPU\n",
        "net = net.to(device)\n",
        "\n",
        "# Training rate\n",
        "lr = 0.001\n",
        "\n",
        "# Use cross entropy for loss function\n",
        "criterion = nn.CrossEntropyLoss()\n",
        "\n",
        "# Definition of optimization function 最適化関数の定義\n",
        "\n",
        "# Limit parameter modification to final node\n",
        "optimizer = optim.SGD(net.classifier[6].parameters(),lr=lr,momentum=0.9)\n",
        "\n",
        "# Initialize history file\n",
        "history = np.zeros((0, 5))"
      ]
    },
    {
      "cell_type": "code",
      "execution_count": null,
      "metadata": {
        "id": "pOPwNSZ_EPhf"
      },
      "outputs": [],
      "source": [
        "# Run training (Chapter 9)\n",
        "\n",
        "# Set the number of repetitions\n",
        "num_epochs = 10\n",
        "\n",
        "# training (common function)\n",
        "history = fit(net, optimizer, criterion, num_epochs, train_loader, test_loader, device, history)"
      ]
    },
    {
      "cell_type": "markdown",
      "metadata": {
        "id": "6UO-4V1vEX6v"
      },
      "source": [
        "### Result confirmation"
      ]
    },
    {
      "cell_type": "code",
      "execution_count": null,
      "metadata": {
        "id": "GFsTd7YHEX6v"
      },
      "outputs": [],
      "source": [
        "# Confirmation of results for test data (Chapter 9 common function)\n",
        "torch_seed()\n",
        "show_images_labels(test_loader2, classes, net, device)"
      ]
    },
    {
      "cell_type": "markdown",
      "metadata": {
        "id": "gAV40i3HDhWj"
      },
      "source": [
        "### (Ref)　Detail of common function"
      ]
    },
    {
      "cell_type": "code",
      "execution_count": null,
      "metadata": {
        "id": "9Z2Ozj9fiEDC"
      },
      "outputs": [],
      "source": [
        "# Function for training\n",
        "def fit(net, optimizer, criterion, num_epochs, train_loader, test_loader, device, history):\n",
        "\n",
        "    base_epochs = len(history)\n",
        "  \n",
        "    for epoch in range(base_epochs, num_epochs+base_epochs):\n",
        "        train_loss = 0\n",
        "        train_acc = 0\n",
        "        val_loss = 0\n",
        "        val_acc = 0\n",
        "\n",
        "        # Start training\n",
        "        net.train()\n",
        "        count = 0\n",
        "\n",
        "        for inputs, labels in tqdm(train_loader):\n",
        "            count += len(labels)\n",
        "            inputs = inputs.to(device)\n",
        "            labels = labels.to(device)\n",
        "\n",
        "            # Initialization of gradient\n",
        "            optimizer.zero_grad()\n",
        "\n",
        "            # Prediction calculation\n",
        "            outputs = net(inputs)\n",
        "\n",
        "            # loss calculation\n",
        "            loss = criterion(outputs, labels)\n",
        "            train_loss += loss.item()\n",
        "\n",
        "            # gradient calculation\n",
        "            loss.backward()\n",
        "\n",
        "            # modify the parameter\n",
        "            optimizer.step()\n",
        "\n",
        "            # Predicted value calculation\n",
        "            predicted = torch.max(outputs, 1)[1]\n",
        "\n",
        "            # Number of correct answers calculation\n",
        "            train_acc += (predicted == labels).sum()\n",
        "\n",
        "            # Calculation of loss and accuracy\n",
        "            avg_train_loss = train_loss / count\n",
        "            avg_train_acc = train_acc / count\n",
        "\n",
        "        # Start prediction\n",
        "        net.eval()\n",
        "        count = 0\n",
        "\n",
        "        for inputs, labels in test_loader:\n",
        "            count += len(labels)\n",
        "\n",
        "            inputs = inputs.to(device)\n",
        "            labels = labels.to(device)\n",
        "\n",
        "            # Prediction calculation\n",
        "            outputs = net(inputs)\n",
        "\n",
        "            # loss calculation\n",
        "            loss = criterion(outputs, labels)\n",
        "            val_loss += loss.item()\n",
        "\n",
        "            # predicted value calculation\n",
        "            predicted = torch.max(outputs, 1)[1]\n",
        "\n",
        "            # Number of correct answers calculation\n",
        "            val_acc += (predicted == labels).sum()\n",
        "\n",
        "            # Calculation of loss and accuracy\n",
        "            avg_val_loss = val_loss / count\n",
        "            avg_val_acc = val_acc / count\n",
        "    \n",
        "        print (f'Epoch [{(epoch+1)}/{num_epochs+base_epochs}], loss: {avg_train_loss:.5f} acc: {avg_train_acc:.5f} val_loss: {avg_val_loss:.5f}, val_acc: {avg_val_acc:.5f}')\n",
        "        item = np.array([epoch+1, avg_train_loss, avg_train_acc, avg_val_loss, avg_val_acc])\n",
        "        history = np.vstack((history, item))\n",
        "    return history\n"
      ]
    },
    {
      "cell_type": "code",
      "execution_count": null,
      "metadata": {
        "id": "pwC4lr7ViNIK"
      },
      "outputs": [],
      "source": [
        "# Show images and labels\n",
        "def show_images_labels(loader, classes, net, device):\n",
        "\n",
        "    # Get first set from DataLoader \n",
        "    for images, labels in loader:\n",
        "        break\n",
        "    # The number of displayed images is 50 and the smaller of the batch size\n",
        "    n_size = min(len(images), 50)\n",
        "\n",
        "    if net is not None:\n",
        "      # Set device\n",
        "      inputs = images.to(device)\n",
        "      labels = labels.to(device)\n",
        "\n",
        "      # Prediction calculation\n",
        "      outputs = net(inputs)\n",
        "      predicted = torch.max(outputs,1)[1]\n",
        "      #images = images.to('cpu')\n",
        "\n",
        "    # Show the first n_size\n",
        "    plt.figure(figsize=(20, 15))\n",
        "    for i in range(n_size):\n",
        "        ax = plt.subplot(5, 10, i + 1)\n",
        "        label_name = classes[labels[i]]\n",
        "        # Show the result of prediction if net isn't None\n",
        "        if net is not None:\n",
        "          predicted_name = classes[predicted[i]]\n",
        "          # Color-code whether the answer is cottect or not\n",
        "          if label_name == predicted_name:\n",
        "            c = 'k'\n",
        "          else:\n",
        "            c = 'b'\n",
        "          ax.set_title(label_name + ':' + predicted_name, c=c, fontsize=20)\n",
        "        # Show only corect labels if net is None\n",
        "        else:\n",
        "          ax.set_title(label_name, fontsize=20)\n",
        "        # Transform Tensor to NumPy\n",
        "        image_np = images[i].numpy().copy()\n",
        "        # Change axis order (channel, row, column) -> (row, column, channel)\n",
        "        img = np.transpose(image_np, (1, 2, 0))\n",
        "        # Revert the range of value to [-1, 1] -> [0, 1]\n",
        "        img = (img + 1)/2\n",
        "        # Show results\n",
        "        plt.imshow(img)\n",
        "        ax.set_axis_off()\n",
        "    plt.show()\n"
      ]
    },
    {
      "cell_type": "code",
      "execution_count": null,
      "metadata": {
        "id": "LN1pshnhiXRn"
      },
      "outputs": [],
      "source": [
        "# For fixing random numbers of PyTorch\n",
        "\n",
        "def torch_seed(seed=123):\n",
        "    torch.manual_seed(seed)\n",
        "    torch.cuda.manual_seed(seed)\n",
        "    torch.use_deterministic_algorithms = True\n"
      ]
    }
  ],
  "metadata": {
    "accelerator": "GPU",
    "colab": {
      "collapsed_sections": [],
      "name": "ch00_intro.ipynb",
      "provenance": [],
      "toc_visible": true
    },
    "kernelspec": {
      "display_name": "Python 3.9.13 ('pytorch': venv)",
      "language": "python",
      "name": "python3"
    },
    "language_info": {
      "codemirror_mode": {
        "name": "ipython",
        "version": 3
      },
      "file_extension": ".py",
      "mimetype": "text/x-python",
      "name": "python",
      "nbconvert_exporter": "python",
      "pygments_lexer": "ipython3",
      "version": "3.11.4"
    },
    "vscode": {
      "interpreter": {
        "hash": "74e871060004c0a453fb3339384b781d9bcfd9faaf4e1adb80dafb7702c9759a"
      }
    }
  },
  "nbformat": 4,
  "nbformat_minor": 0
}

{
  "cells": [
    {
      "cell_type": "markdown",
      "metadata": {
        "id": "XngXq1SGWTKh"
      },
      "source": [
        "# 序章\n",
        "# Introduction"
      ]
    },
    {
      "cell_type": "markdown",
      "metadata": {
        "id": "C3Veo_gOEX6r"
      },
      "source": [
        "### ライブラリ・コマンドの準備\n",
        "### Preparing for libralies and commands"
      ]
    },
    {
      "cell_type": "code",
      "execution_count": null,
      "metadata": {
        "id": "NxUum-JUWN-s"
      },
      "outputs": [],
      "source": [
        "# 必要ライブラリのインポート\n",
        "# Import required libralies\n",
        "\n",
        "%matplotlib inline\n",
        "import numpy as np\n",
        "import matplotlib.pyplot as plt\n",
        "\n",
        "import torch\n",
        "import torch.nn as nn\n",
        "import torch.optim as optim\n",
        "import torchvision.datasets as datasets\n",
        "import torchvision.transforms as transforms\n",
        "from torch.utils.data import DataLoader"
      ]
    },
    {
      "cell_type": "markdown",
      "metadata": {
        "id": "2J_3IJXGEX6s"
      },
      "source": [
        "### 初期設定\n",
        "### Initial setting"
      ]
    },
    {
      "cell_type": "code",
      "execution_count": null,
      "metadata": {
        "id": "Ky9ZRueUWiQr"
      },
      "outputs": [],
      "source": [
        "# デフォルトフォントサイズの変更\n",
        "# Change default font size\n",
        "plt.rcParams['font.size'] = 14\n",
        "\n",
        "# warning表示off\n",
        "# Ignore warning signs\n",
        "import warnings\n",
        "warnings.simplefilter('ignore')"
      ]
    },
    {
      "cell_type": "code",
      "execution_count": null,
      "metadata": {
        "id": "GzMnr3qmWqgB"
      },
      "outputs": [],
      "source": [
        "# デバイスの割り当て（8章）\n",
        "# Device allocation (Chapter 8)\n",
        "\n",
        "device = torch.device(\"cuda:0\" if torch.cuda.is_available() else \"cpu\")\n",
        "print(device)"
      ]
    },
    {
      "cell_type": "code",
      "execution_count": null,
      "metadata": {
        "id": "0u2kbtvKWuGw"
      },
      "outputs": [],
      "source": [
        "# 共通関数の読み込み（9章）\n",
        "# Load common function (Capter 9)\n",
        "\n",
        "# 共通関数のダウンロード\n",
        "# Download common function\n",
        "!git clone https://github.com/makaishi2/pythonlibs.git\n",
        "\n",
        "# 共通関数のロード\n",
        "# Load common function\n",
        "from pythonlibs.torch_lib1 import *\n",
        "\n",
        "# 共通関数の存在チェック\n",
        "# Existance check for common function\n",
        "print(README)"
      ]
    },
    {
      "cell_type": "markdown",
      "metadata": {
        "id": "r45T9pLkEX6t"
      },
      "source": [
        "### 学習データ読み込み\n",
        "### Load training data"
      ]
    },
    {
      "cell_type": "code",
      "execution_count": null,
      "metadata": {
        "id": "mqgQOcSr8do-"
      },
      "outputs": [],
      "source": [
        "# 学習データの取り込み（12章）\n",
        "# Load training data (Chapter 12)\n",
        "\n",
        "# 学主要イメージのダウンロード\n",
        "# Dowmload training images\n",
        "w = !wget https://github.com/makaishi2/pythonlibs/raw/main/images/dog_wolf.zip\n",
        "print(w[-2])\n",
        "\n",
        "# 学習用イメージの展開\n",
        "# Unzip training images\n",
        "w = !unzip dog_wolf.zip\n",
        "print(w[-1])\n",
        "\n",
        "# ディレクトリ名の設定\n",
        "# Set directory name\n",
        "data_dir = 'dog_wolf'\n",
        "\n",
        "# 学習とテスト用ディレクトリ名の設定\n",
        "# Set train and test directory name\n",
        "import os\n",
        "train_dir = os.path.join(data_dir, 'train')\n",
        "test_dir = os.path.join(data_dir, 'test')\n",
        "\n",
        "# 分類席クラス名設定\n",
        "# Set class names\n",
        "classes = ['dog', 'wolf']\n",
        "\n",
        "# 解答結果のツリー表示\n",
        "# Show tree of dog-wolf images\n",
        "!tree dog_wolf"
      ]
    },
    {
      "cell_type": "code",
      "execution_count": null,
      "metadata": {
        "id": "hCf-dM21XQrs"
      },
      "outputs": [],
      "source": [
        "# 学習用データの準備（8章、10章、12章）\n",
        "# Prepare for training data (Chapter 8, 10, 12)\n",
        "\n",
        "# transformの定義\n",
        "# Definition of transform\n",
        "\n",
        "# 検証データ用：正規化のみ実施\n",
        "# Set for test data: nomalization only \n",
        "test_transform = transforms.Compose([\n",
        "    transforms.Resize(224),\n",
        "    transforms.CenterCrop(224),\n",
        "    transforms.ToTensor(),\n",
        "    transforms.Normalize(0.5, 0.5)\n",
        "])\n",
        "\n",
        "# 訓練データ用：正規化に追加で反転とRandomErasingを実施\n",
        "# Set for trainig data: nomalization, reverse and RandomErasing\n",
        "train_transform = transforms.Compose([\n",
        "    transforms.RandomHorizontalFlip(p=0.5), \n",
        "    transforms.Resize(224),\n",
        "    transforms.CenterCrop(224),\n",
        "    transforms.ToTensor(),\n",
        "    transforms.Normalize(0.5, 0.5),\n",
        "    transforms.RandomErasing(p=0.5, scale=(0.02, 0.33), ratio=(0.3, 3.3), value=0, inplace=False)   \n",
        "])\n",
        "\n",
        "# datasetの定義\n",
        "# Definition of datasets\n",
        "train_data = datasets.ImageFolder(train_dir, transform=train_transform)\n",
        "train_data2 = datasets.ImageFolder(train_dir, transform=test_transform)\n",
        "test_data = datasets.ImageFolder(test_dir, transform=test_transform)\n",
        "\n",
        "# dataloaderの定義\n",
        "# Definition of dataloader\n",
        "batch_size = 5\n",
        "#train_loader = DataLoader(train_data, batch_size=batch_size, shuffle=True)\n",
        "train_loader = DataLoader(train_data, batch_size=5, shuffle=True)\n",
        "train_loader2 = DataLoader(train_data2, batch_size=40, shuffle=False)\n",
        "test_loader = DataLoader(test_data, batch_size=5, shuffle=False)\n",
        "test_loader2 = DataLoader(test_data, batch_size=10, shuffle=True)\n"
      ]
    },
    {
      "cell_type": "markdown",
      "metadata": {
        "id": "2Asmir2yEX6u"
      },
      "source": [
        "### 学習データのイメージ表示\n",
        "### Show the training images"
      ]
    },
    {
      "cell_type": "code",
      "execution_count": null,
      "metadata": {
        "id": "hgdFKDDWHjjR"
      },
      "outputs": [],
      "source": [
        "# 学習用データ（40件）\n",
        "# Training data (40 images)\n",
        "show_images_labels(train_loader2, classes, None, None)"
      ]
    },
    {
      "cell_type": "markdown",
      "metadata": {},
      "source": [
        "### 検証データのイメージ表示\n",
        "### Show the test images"
      ]
    },
    {
      "cell_type": "code",
      "execution_count": null,
      "metadata": {
        "id": "l3eUMamIHaon"
      },
      "outputs": [],
      "source": [
        "# 検証用データ（10件）\n",
        "# Test data (10 images)\n",
        "# 最初に正解なしでイメージのみ表示します\n",
        "# First, show only the images without the correct answer\n",
        "# それぞれの写真がイヌかオオカミか、各自判断してみて下さい\n",
        "# Judge for yourself whether each image is of a dog or a wolf\n",
        "torch_seed()\n",
        "show_images_labels(test_loader2, ['', ''], None, None)"
      ]
    },
    {
      "cell_type": "code",
      "execution_count": null,
      "metadata": {
        "id": "XhADsgdYRIaR"
      },
      "outputs": [],
      "source": [
        "# 検証用データ（10件）\n",
        "# Test data (10 images)\n",
        "# こちらが正解データです\n",
        "# This shows correct answer\n",
        "# 10件中何件正解できたでしょうか？\n",
        "# How many of the 10 images did you answer correctly?\n",
        "torch_seed()\n",
        "show_images_labels(test_loader2, classes, None, None)"
      ]
    },
    {
      "cell_type": "markdown",
      "metadata": {
        "id": "NZ6GmOBbEX6u"
      },
      "source": [
        "### モデル構築\n",
        "### Model construction"
      ]
    },
    {
      "cell_type": "code",
      "execution_count": null,
      "metadata": {
        "id": "vGPiu9Y6gaE8"
      },
      "outputs": [],
      "source": [
        "# 事前学習済みモデルを利用したモデル構築（11章）\n",
        "# Model construction using pre-trained model (Chapter 10)\n",
        "\n",
        "# 事前学習済みモデルの読み込み\n",
        "# load pre-trained model\n",
        "from torchvision import models\n",
        "net = models.vgg19_bn(pretrained = True)\n",
        "\n",
        "# 転移学習のためrequired_gradフラグをFalseにする\n",
        "# Set required_grad flag to False for transfer learning\n",
        "for param in net.parameters():\n",
        "    param.requires_grad = False\n",
        "\n",
        "# 乱数初期化\n",
        "# Initialize ramdom numbers\n",
        "torch_seed()\n",
        "\n",
        "# 最終ノードの出力を2に変更する\n",
        "# Set the output of final node to 2\n",
        "in_features = net.classifier[6].in_features\n",
        "net.classifier[6] = nn.Linear(in_features, 2)\n",
        "\n",
        "# AdaptiveAvgPool2d関数の取り外し\n",
        "# Remove AdaptiveAvgPool2d function\n",
        "net.avgpool = nn.Identity()\n",
        "\n",
        "# GPUの利用\n",
        "# Set use of GPU\n",
        "net = net.to(device)\n",
        "\n",
        "# 学習率\n",
        "# Training rate\n",
        "lr = 0.001\n",
        "\n",
        "# 損失関数に交差エントロピーを利用\n",
        "# Use cross entropy for loss function\n",
        "criterion = nn.CrossEntropyLoss()\n",
        "\n",
        "# 最適化関数の定義\n",
        "# Definition of optimization function\n",
        "\n",
        "# パラメータ修正の対象を最終ノードに限定\n",
        "# Limit parameter modification to final node\n",
        "optimizer = optim.SGD(net.classifier[6].parameters(),lr=lr,momentum=0.9)\n",
        "\n",
        "# historyファイルも同時に初期化する\n",
        "# Initialize history file\n",
        "history = np.zeros((0, 5))"
      ]
    },
    {
      "cell_type": "code",
      "execution_count": null,
      "metadata": {
        "id": "pOPwNSZ_EPhf"
      },
      "outputs": [],
      "source": [
        "# 学習の実行（9章）\n",
        "# Run training (Chapter 9)\n",
        "\n",
        "# 繰り返し回数\n",
        "# Set the number of repetitions\n",
        "num_epochs = 10\n",
        "\n",
        "# 学習（共通関数）\n",
        "# training (common function)\n",
        "history = fit(net, optimizer, criterion, num_epochs, train_loader, test_loader, device, history)"
      ]
    },
    {
      "cell_type": "markdown",
      "metadata": {
        "id": "6UO-4V1vEX6v"
      },
      "source": [
        "### 結果確認\n",
        "### Result confirmation"
      ]
    },
    {
      "cell_type": "code",
      "execution_count": null,
      "metadata": {
        "id": "GFsTd7YHEX6v"
      },
      "outputs": [],
      "source": [
        "# 検証データを対象とした結果確認（9章 共通関数）\n",
        "# Confirmation of results for test data (Chapter 9 common function)\n",
        "torch_seed()\n",
        "show_images_labels(test_loader2, classes, net, device)"
      ]
    },
    {
      "cell_type": "markdown",
      "metadata": {
        "id": "gAV40i3HDhWj"
      },
      "source": [
        "### (参考) 共通関数の中身\n",
        "### (Ref)　Detail of common function"
      ]
    },
    {
      "cell_type": "code",
      "execution_count": null,
      "metadata": {
        "id": "9Z2Ozj9fiEDC"
      },
      "outputs": [],
      "source": [
        "# 学習用関数\n",
        "# Function for training\n",
        "def fit(net, optimizer, criterion, num_epochs, train_loader, test_loader, device, history):\n",
        "\n",
        "    # tqdmライブラリのインポート\n",
        "    # Import tqdm library\n",
        "    from tqdm.notebook import tqdm\n",
        "    \n",
        "    base_epochs = len(history)\n",
        "  \n",
        "    for epoch in range(base_epochs, num_epochs+base_epochs):\n",
        "        # 1エポックあたりの正解数(精度計算用)\n",
        "        # Number of correct answers per epoch (for precision calculation)\n",
        "        n_train_acc, n_val_acc = 0, 0\n",
        "        # 1エポックあたりの累積損失(平均化前)\n",
        "        # Cumulative loss per epoch (before averaging)\n",
        "        train_loss, val_loss = 0, 0\n",
        "        # 1エポックあたりのデータ累積件数\n",
        "        # Cumulative number of data per epoch \n",
        "        n_train, n_test = 0, 0\n",
        "\n",
        "        # 訓練フェーズ\n",
        "        # Start training\n",
        "        net.train()\n",
        "\n",
        "        for inputs, labels in tqdm(train_loader):\n",
        "            # 1バッチあたりのデータ件数\n",
        "            # Number of data per batch\n",
        "            train_batch_size = len(labels)\n",
        "            # 1エポックあたりのデータ累積件数\n",
        "            # Comulative number of data per epoch\n",
        "            n_train += train_batch_size\n",
        "    \n",
        "            # GPUヘ転送\n",
        "            # Transfer to GPU\n",
        "            inputs = inputs.to(device)\n",
        "            labels = labels.to(device)\n",
        "\n",
        "            # 勾配の初期化\n",
        "            # Initialize gradient\n",
        "            optimizer.zero_grad()\n",
        "\n",
        "            # 予測計算\n",
        "            # Prediction calculation\n",
        "            outputs = net(inputs)\n",
        "\n",
        "            # 損失計算\n",
        "            # Loss calculation\n",
        "            loss = criterion(outputs, labels)\n",
        "\n",
        "            # 勾配計算\n",
        "            # Gradient calculation\n",
        "            loss.backward()\n",
        "\n",
        "            # パラメータ修正\n",
        "            # Modify the parameter\n",
        "            optimizer.step()\n",
        "\n",
        "            # 予測ラベル導出\n",
        "            # Predicted value calculation\n",
        "            predicted = torch.max(outputs, 1)[1]\n",
        "\n",
        "            # 平均前の損失と正解数の計算\n",
        "            # Calculating loss before average and number of correct answers \n",
        "            # lossは平均計算が行われているので平均前の損失に戻して加算\n",
        "            # Since the loss is averaged, add it back to the loss before the average. \n",
        "            train_loss += loss.item() * train_batch_size \n",
        "            n_train_acc += (predicted == labels).sum().item() \n",
        "\n",
        "        # 予測フェーズ\n",
        "        # Start prediction\n",
        "        net.eval()\n",
        "\n",
        "        for inputs_test, labels_test in test_loader:\n",
        "            # 1バッチあたりのデータ件数\n",
        "            # Number of data per batch\n",
        "            test_batch_size = len(labels_test)\n",
        "            # 1エポックあたりのデータ累積件数\n",
        "            # Comulative number of data per epoch \n",
        "            n_test += test_batch_size\n",
        "\n",
        "            # GPUヘ転送\n",
        "            # Transfer to GPU\n",
        "            inputs_test = inputs_test.to(device)\n",
        "            labels_test = labels_test.to(device)\n",
        "\n",
        "            # 予測計算\n",
        "            # Prediction calculation\n",
        "            outputs_test = net(inputs_test)\n",
        "\n",
        "            # 損失計算\n",
        "            # Loss calculation\n",
        "            loss_test = criterion(outputs_test, labels_test)\n",
        " \n",
        "            # 予測ラベル導出\n",
        "            # Predicted value calculation\n",
        "            predicted_test = torch.max(outputs_test, 1)[1]\n",
        "\n",
        "            #  平均前の損失と正解数の計算\n",
        "            # lossは平均計算が行われているので平均前の損失に戻して加算\n",
        "            val_loss +=  loss_test.item() * test_batch_size\n",
        "            n_val_acc +=  (predicted_test == labels_test).sum().item()\n",
        "\n",
        "        # 精度計算\n",
        "        # Precision calculation\n",
        "        train_acc = n_train_acc / n_train\n",
        "        val_acc = n_val_acc / n_test\n",
        "        # 損失計算\n",
        "        # Loss calculation\n",
        "        avg_train_loss = train_loss / n_train\n",
        "        avg_val_loss = val_loss / n_test\n",
        "        \n",
        "        # 結果表示\n",
        "        # Show results\n",
        "        print (f'Epoch [{(epoch+1)}/{num_epochs+base_epochs}], loss: {avg_train_loss:.5f} acc: {avg_train_acc:.5f} val_loss: {avg_val_loss:.5f}, val_acc: {avg_val_acc:.5f}')\n",
        "        \n",
        "        # 記録\n",
        "        # Recording\n",
        "        item = np.array([epoch+1, avg_train_loss, avg_train_acc, avg_val_loss, avg_val_acc])\n",
        "        history = np.vstack((history, item))\n",
        "    return history\n"
      ]
    },
    {
      "cell_type": "code",
      "execution_count": null,
      "metadata": {
        "id": "pwC4lr7ViNIK"
      },
      "outputs": [],
      "source": [
        "# イメージとラベル表示\n",
        "# Show images and labels\n",
        "def show_images_labels(loader, classes, net, device):\n",
        "\n",
        "    # DataLoaderから最初の1セットを取得する\n",
        "    # Get first set from DataLoader \n",
        "    for images, labels in loader:\n",
        "        break\n",
        "    # 表示数は50個とバッチサイズのうち小さい方\n",
        "    # The number of displayed images is 50 and the smaller of the batch size\n",
        "    n_size = min(len(images), 50)\n",
        "\n",
        "    if net is not None:\n",
        "      # デバイスの割り当て\n",
        "      # Set device\n",
        "      inputs = images.to(device)\n",
        "      labels = labels.to(device)\n",
        "\n",
        "      # 予測計算\n",
        "      # Prediction calculation\n",
        "      outputs = net(inputs)\n",
        "      predicted = torch.max(outputs,1)[1]\n",
        "      #images = images.to('cpu')\n",
        "\n",
        "    # 最初のn_size個の表示\n",
        "    # Show the first n_size\n",
        "    plt.figure(figsize=(20, 15))\n",
        "    for i in range(n_size):\n",
        "        ax = plt.subplot(5, 10, i + 1)\n",
        "        label_name = classes[labels[i]]\n",
        "        # netがNoneでない場合は、予測結果もタイトルに表示する\n",
        "        # Show the result of prediction if net isn't None\n",
        "        if net is not None:\n",
        "          predicted_name = classes[predicted[i]]\n",
        "          # 正解かどうか色分けする\n",
        "          # Color-code whether the answer is cottect or not\n",
        "          if label_name == predicted_name:\n",
        "            c = 'k'\n",
        "          else:\n",
        "            c = 'b'\n",
        "          ax.set_title(label_name + ':' + predicted_name, c=c, fontsize=20)\n",
        "        # netがNoneの場合は、正解ラベルのみ表示\n",
        "        # Show only corect labels if net is None\n",
        "        else:\n",
        "          ax.set_title(label_name, fontsize=20)\n",
        "        # TensorをNumPyに変換\n",
        "        # Transform Tensor to NumPy\n",
        "        image_np = images[i].numpy().copy()\n",
        "        # 軸の順番変更（channel, row, column) -> (row, column, channel）\n",
        "        # Change axis order (channel, row, column) -> (row, column, channel)\n",
        "        img = np.transpose(image_np, (1, 2, 0))\n",
        "        # 軸の範囲を[-1, 1] -> [0, 1]に戻す\n",
        "        # Revert the range of value to [-1, 1] -> [0, 1]\n",
        "        img = (img + 1)/2\n",
        "        #結果表示\n",
        "        # Show results\n",
        "        plt.imshow(img)\n",
        "        ax.set_axis_off()\n",
        "    plt.show()\n"
      ]
    },
    {
      "cell_type": "code",
      "execution_count": null,
      "metadata": {
        "id": "LN1pshnhiXRn"
      },
      "outputs": [],
      "source": [
        "# Pytorch 乱数固定用\n",
        "# For fixing random numbers of PyTorch\n",
        "\n",
        "def torch_seed(seed=123):\n",
        "    torch.manual_seed(seed)\n",
        "    torch.cuda.manual_seed(seed)\n",
        "    torch.use_deterministic_algorithms = True\n"
      ]
    }
  ],
  "metadata": {
    "accelerator": "GPU",
    "colab": {
      "collapsed_sections": [],
      "name": "ch00_intro.ipynb",
      "provenance": [],
      "toc_visible": true
    },
    "kernelspec": {
      "display_name": "Python 3.9.13 ('pytorch': venv)",
      "language": "python",
      "name": "python3"
    },
    "language_info": {
      "codemirror_mode": {
        "name": "ipython",
        "version": 3
      },
      "file_extension": ".py",
      "mimetype": "text/x-python",
      "name": "python",
      "nbconvert_exporter": "python",
      "pygments_lexer": "ipython3",
      "version": "3.11.4"
    },
    "vscode": {
      "interpreter": {
        "hash": "74e871060004c0a453fb3339384b781d9bcfd9faaf4e1adb80dafb7702c9759a"
      }
    }
  },
  "nbformat": 4,
  "nbformat_minor": 0
}

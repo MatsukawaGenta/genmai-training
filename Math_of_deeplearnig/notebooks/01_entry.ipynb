{
 "cells": [
  {
   "cell_type": "markdown",
   "metadata": {},
   "source": [
    "# 1. 機械学習入門　\n",
    "# 1. Introduction of machine learning"
   ]
  },
  {
   "cell_type": "code",
   "execution_count": null,
   "metadata": {},
   "outputs": [],
   "source": [
    "# 必要ライブラリの宣言\n",
    "# Import required libralies\n",
    "import numpy as np\n",
    "import pandas as pd\n",
    "import matplotlib.pyplot as plt"
   ]
  },
  {
   "cell_type": "markdown",
   "metadata": {},
   "source": [
    "### 下記のデータを使用\n",
    "### Use the data below\n",
    "\n",
    "| Height x (cm) | Weight y (kg) |\n",
    "| ------------- | ------------- |\n",
    "| 166 | 58.7 |\n",
    "| 176 | 75.7 |\n",
    "| 171 | 62.1 | \n",
    "| 169 | 60.1 | "
   ]
  },
  {
   "cell_type": "code",
   "execution_count": null,
   "metadata": {},
   "outputs": [],
   "source": [
    "# サンプルデータの宣言\n",
    "# Set sample data\n",
    "sampleData1 = np.array([[166, 58.7],[176.0, 75.7],[171.0, 62.1],[173.0, 70.4],[169.0,60.1]])\n",
    "print(sampleData1)"
   ]
  },
  {
   "cell_type": "code",
   "execution_count": null,
   "metadata": {},
   "outputs": [],
   "source": [
    "# 散布図の表示\n",
    "# Show Scatter plot\n",
    "for p in sampleData1:\n",
    "    plt.scatter(p[0], p[1], c='k', s=50)\n",
    "plt.grid()\n",
    "plt.xlabel('$x$')\n",
    "plt.ylabel('$y$')\n",
    "plt.show()"
   ]
  },
  {
   "cell_type": "code",
   "execution_count": null,
   "metadata": {},
   "outputs": [],
   "source": [
    "plt.figure(figsize=(10,5))\n",
    "for p in sampleData1:\n",
    "    plt.scatter(p[0], p[1], c='k', s=50)\n",
    "plt.grid()\n",
    "plt.plot([0,0],[-10,80],c='k',lw=1)\n",
    "plt.plot([171,171],[-10,80],c='k')\n",
    "plt.plot([-10,180],[0,0],c='k',lw=1)\n",
    "plt.plot([-10,180],[65.4,65.4],c='k')\n",
    "plt.xlim(-10,180)\n",
    "plt.ylim(-10,80)\n",
    "plt.show()"
   ]
  },
  {
   "cell_type": "code",
   "execution_count": null,
   "metadata": {},
   "outputs": [],
   "source": [
    "# 平均値の計算\n",
    "# Calculate the average value\n",
    "means = sampleData1.mean(axis=0)\n",
    "print(means)"
   ]
  },
  {
   "cell_type": "code",
   "execution_count": null,
   "metadata": {},
   "outputs": [],
   "source": [
    "# 座標系を平均値=0に変換する\n",
    "# Convert coordinate system to mean value=0\n",
    "sampleData2 = sampleData1 - means\n",
    "print(sampleData2)"
   ]
  },
  {
   "cell_type": "code",
   "execution_count": null,
   "metadata": {},
   "outputs": [],
   "source": [
    "# 新しい座標系での散布図表示\n",
    "# Show scatter plot of new coordinate system\n",
    "for p in sampleData2:\n",
    "    plt.scatter(p[0], p[1], c='k', s=50)\n",
    "plt.grid()\n",
    "plt.xlabel('$X$')\n",
    "plt.ylabel('$Y$')\n",
    "plt.plot([-6,6],[0,0], c='k')\n",
    "plt.plot([0,0],[-7.5,11],c='k')\n",
    "plt.xlim(-5.2,5.2)\n",
    "plt.show()"
   ]
  },
  {
   "cell_type": "code",
   "execution_count": null,
   "metadata": {},
   "outputs": [],
   "source": [
    "# 予測関数の定義\n",
    "# Definition of prediction function\n",
    "def L(W0, W1):\n",
    "    return(5*W0**2 + 58*W1**2 - 211.2*W1 + 214.96)"
   ]
  },
  {
   "cell_type": "code",
   "execution_count": null,
   "metadata": {},
   "outputs": [],
   "source": [
    "# L(0, W1)のグラフ\n",
    "# Graph of L(0, W1)\n",
    "plt.figure(figsize=(6,6))\n",
    "W1 = np.linspace(0, 4, 501)\n",
    "#plt.ylim(1,3)\n",
    "plt.plot(W1, L(0,W1))\n",
    "plt.scatter(1.82,22.69,s=30)\n",
    "plt.xlabel('$W_1$')\n",
    "plt.ylabel('$L(0,W_1)$')\n",
    "plt.grid()\n",
    "plt.xlim(0,3.5)\n",
    "plt.ylim(0,200)\n",
    "plt.show()"
   ]
  },
  {
   "cell_type": "code",
   "execution_count": null,
   "metadata": {},
   "outputs": [],
   "source": [
    "def pred1(X):\n",
    "    return 1.82*X"
   ]
  },
  {
   "cell_type": "code",
   "execution_count": null,
   "metadata": {},
   "outputs": [],
   "source": [
    "# 散布図と回帰直線（変換後）\n",
    "# Show scatter plot and regression line (after conversion)\n",
    "for p in sampleData2:\n",
    "    plt.scatter(p[0], p[1], c='k', s=50)\n",
    "X=np.array([-6,6])\n",
    "plt.plot(X, pred1(X), lw=1)\n",
    "plt.plot([-6,6],[0,0], c='k')\n",
    "plt.plot([0,0],[-11,11],c='k')\n",
    "plt.xlim(-5.2,5.2)\n",
    "plt.grid()\n",
    "plt.xlabel('$X$')\n",
    "plt.ylabel('$Y$')\n",
    "plt.show()"
   ]
  },
  {
   "cell_type": "code",
   "execution_count": null,
   "metadata": {},
   "outputs": [],
   "source": [
    "def pred2(x):\n",
    "    return 1.82*x - 245.9"
   ]
  },
  {
   "cell_type": "code",
   "execution_count": null,
   "metadata": {},
   "outputs": [],
   "source": [
    "# 散布図と回帰直線（オリジナル）\n",
    "# Show scatter plot and regression line (original)\n",
    "for p in sampleData1:\n",
    "    plt.scatter(p[0], p[1], c='k', s=50)\n",
    "x=np.array([166,176])\n",
    "plt.plot(x, pred2(x), lw=1)\n",
    "plt.grid()\n",
    "plt.xlabel('$x$')\n",
    "plt.ylabel('$y$')\n",
    "plt.show()"
   ]
  }
 ],
 "metadata": {
  "kernelspec": {
   "display_name": "Python 3 (ipykernel)",
   "language": "python",
   "name": "python3"
  },
  "language_info": {
   "codemirror_mode": {
    "name": "ipython",
    "version": 3
   },
   "file_extension": ".py",
   "mimetype": "text/x-python",
   "name": "python",
   "nbconvert_exporter": "python",
   "pygments_lexer": "ipython3",
   "version": "3.10.13"
  }
 },
 "nbformat": 4,
 "nbformat_minor": 1
}

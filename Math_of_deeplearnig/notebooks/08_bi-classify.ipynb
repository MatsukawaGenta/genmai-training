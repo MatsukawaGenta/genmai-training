{
 "cells": [
  {
   "cell_type": "markdown",
   "metadata": {
    "collapsed": true
   },
   "source": [
    "# 8.　二値分類\n",
    "# 8. Binary classfication"
   ]
  },
  {
   "cell_type": "code",
   "execution_count": null,
   "metadata": {},
   "outputs": [],
   "source": [
    "# 必要ライブラリの宣言\n",
    "# import required libraries\n",
    "import numpy as np\n",
    "import matplotlib.pyplot as plt"
   ]
  },
  {
   "cell_type": "markdown",
   "metadata": {},
   "source": [
    "### シグモイド関数のグラフ\n",
    "### Graph of sigmoid function\n",
    "Fig. 8-4"
   ]
  },
  {
   "cell_type": "code",
   "execution_count": null,
   "metadata": {},
   "outputs": [],
   "source": [
    "# Define sigmoid function\n",
    "xx =  np.linspace(-6, 6, 500)\n",
    "yy = 1 / (np.exp(-xx) + 1)\n",
    "\n",
    "# Set figure\n",
    "plt.figure(figsize=(6,6))\n",
    "plt.ylim(-3, 3)\n",
    "plt.xlim(-3, 3)\n",
    "plt.xticks(np.linspace(-3,3,13))\n",
    "plt.yticks(np.linspace(-3,3,13))\n",
    "plt.xlabel('x', fontsize=14)\n",
    "plt.ylabel('y', fontsize=14)\n",
    "plt.grid()\n",
    "\n",
    "# Plot functions\n",
    "plt.plot(xx, yy, c='b', label=r'$\\dfrac{1}{1+\\exp{(-x)}}$', lw=1)\n",
    "plt.plot(xx, xx, c='k', label=r'$y = x$', lw=1)\n",
    "\n",
    "# Plot axis\n",
    "plt.plot([-3,3], [0,0], c='k')\n",
    "plt.plot([0,0], [-3,3],c='k')\n",
    "\n",
    "# Plot y = 1.0\n",
    "plt.plot([-3,3],[1,1],linestyle='-.',c='k')\n",
    "\n",
    "plt.legend(fontsize=14)\n",
    "plt.show()"
   ]
  },
  {
   "cell_type": "markdown",
   "metadata": {},
   "source": [
    "### データ準備\n",
    "### Data preparation"
   ]
  },
  {
   "cell_type": "code",
   "execution_count": null,
   "metadata": {},
   "outputs": [],
   "source": [
    "# 学習用データ準備\n",
    "# Preparating data for learning\n",
    "from sklearn.datasets import load_iris\n",
    "iris = load_iris()\n",
    "x_org, y_org = iris.data, iris.target\n",
    "print('元データ', x_org.shape, y_org.shape)"
   ]
  },
  {
   "cell_type": "code",
   "execution_count": null,
   "metadata": {},
   "outputs": [],
   "source": [
    "# Verify x data\n",
    "# Sepal_length, Sepal_width, Petal_length, Petal_width (cm)\n",
    "x_org"
   ]
  },
  {
   "cell_type": "code",
   "execution_count": null,
   "metadata": {},
   "outputs": [],
   "source": [
    "# Verify y data\n",
    "# 0: Setosa, 1:Versicolour, 2:Virginica / 50 each\n",
    "y_org"
   ]
  },
  {
   "cell_type": "code",
   "execution_count": null,
   "metadata": {},
   "outputs": [],
   "source": [
    "# データ絞り込み\n",
    "# Data filtering\n",
    "\n",
    "# Class 0, 1 only\n",
    "# Sepal_length, sepal_width only\n",
    "# Limit the number of items to 100\n",
    "x_data, y_data = iris.data[:100,:2], iris.target[:100]\n",
    "print('対象データ', x_data.shape, y_data.shape)"
   ]
  },
  {
   "cell_type": "code",
   "execution_count": null,
   "metadata": {},
   "outputs": [],
   "source": [
    "# ダミー変数を追加\n",
    "# Add dummy variable\n",
    "x_data = np.insert(x_data, 0, 1.0, axis=1)\n",
    "print('ダミー変数追加後', x_data.shape)\n",
    "x_data"
   ]
  },
  {
   "cell_type": "code",
   "execution_count": null,
   "metadata": {},
   "outputs": [],
   "source": [
    "# 元データのサイズ\n",
    "# Size of original data\n",
    "print(x_data.shape, y_data.shape)\n",
    "\n",
    "# 学習データ、検証データに分割 (シャフルも同時に実施)\n",
    "# Split into training data and validation data (shuffled at the same time)\n",
    "from sklearn.model_selection import train_test_split\n",
    "x_train, x_test, y_train, y_test = train_test_split(\n",
    "    x_data, y_data, train_size=70, test_size=30, \n",
    "    random_state=123)\n",
    "print(x_train.shape, x_test.shape, y_train.shape, y_test.shape)"
   ]
  },
  {
   "cell_type": "markdown",
   "metadata": {},
   "source": [
    "### 学習データの散布図表示\n",
    "### Show a scatter plot of training data"
   ]
  },
  {
   "cell_type": "code",
   "execution_count": null,
   "metadata": {},
   "outputs": [],
   "source": [
    "# 散布図の表示\n",
    "# Show a scatter plot\n",
    "\n",
    "# Split test data to class = 0 and class = 1\n",
    "x_t0 = x_train[y_train == 0]    # class = 0\n",
    "x_t1 = x_train[y_train == 1]    # class = 1\n",
    "\n",
    "plt.figure(figsize=(6,6))\n",
    "\n",
    "# plot scatter\n",
    "plt.scatter(x_t0[:,1], x_t0[:,2], marker='x', c='b', label='0 (setosa)')\n",
    "plt.scatter(x_t1[:,1], x_t1[:,2], marker='o', c='k', label='1 (versicolor)')\n",
    "\n",
    "# Set figure\n",
    "plt.xlabel('sepal_length', fontsize=14)\n",
    "plt.ylabel('sepal_width', fontsize=14)\n",
    "plt.xticks(size=16)\n",
    "plt.yticks(size=16)\n",
    "plt.legend(fontsize=16)\n",
    "plt.show()"
   ]
  },
  {
   "cell_type": "code",
   "execution_count": null,
   "metadata": {},
   "outputs": [],
   "source": [
    "# 散布図の表示\n",
    "# Show scatter plot\n",
    "x_t0 = x_train[y_train == 0]\n",
    "x_t1 = x_train[y_train == 1]\n",
    "\n",
    "plt.figure(figsize=(6,6))\n",
    "\n",
    "# Plot scatter\n",
    "plt.scatter(x_t0[:,1], x_t0[:,2], marker='x', s=50, c='b', label='yt = 0')\n",
    "plt.scatter(x_t1[:,1], x_t1[:,2], marker='o', s=50, c='k', label='yt = 1')\n",
    "\n",
    "# Set figure\n",
    "plt.xlabel(r'$x_1$', fontsize=16)\n",
    "plt.ylabel(r'$x_2$', fontsize=16)\n",
    "plt.xticks(size=16)\n",
    "plt.yticks(size=16)\n",
    "plt.legend(fontsize=16)\n",
    "plt.show()"
   ]
  },
  {
   "cell_type": "markdown",
   "metadata": {},
   "source": [
    "### 学習用変数の設定\n",
    "### Setting variable for learning"
   ]
  },
  {
   "cell_type": "code",
   "execution_count": null,
   "metadata": {},
   "outputs": [],
   "source": [
    "# 学習用変数の設定\n",
    "# Setting variable for learning\n",
    "x = x_train\n",
    "yt = y_train"
   ]
  },
  {
   "cell_type": "code",
   "execution_count": null,
   "metadata": {},
   "outputs": [],
   "source": [
    "# 入力データ x の表示 (ダミーデータを含む)\n",
    "# Show input data x including dummy data\n",
    "print(x[:5])"
   ]
  },
  {
   "cell_type": "code",
   "execution_count": null,
   "metadata": {},
   "outputs": [],
   "source": [
    "# 正解値 yt の表示\n",
    "# Show true value yt\n",
    "print(yt[:5])"
   ]
  },
  {
   "cell_type": "markdown",
   "metadata": {},
   "source": [
    "### 予測関数"
   ]
  },
  {
   "cell_type": "markdown",
   "metadata": {},
   "source": [
    "sigmoid function\n",
    "```math\n",
    "f(x) = \\frac{1}{1 + \\exp(-x)}\n",
    "```"
   ]
  },
  {
   "cell_type": "code",
   "execution_count": null,
   "metadata": {},
   "outputs": [],
   "source": [
    "# シグモイド関数\n",
    "# Sigmoid function\n",
    "def sigmoid(x):\n",
    "    return 1/(1+ np.exp(-x)) "
   ]
  },
  {
   "cell_type": "markdown",
   "metadata": {},
   "source": [
    "Ref: Prediction value of regression\n",
    "```math\n",
    "yp^{(k)(m)} = w^{(k)} * x^{(m)}    \\qquad    (7.8.1)\n",
    "```"
   ]
  },
  {
   "cell_type": "code",
   "execution_count": null,
   "metadata": {},
   "outputs": [],
   "source": [
    "# 予測値の計算\n",
    "# Calculating prediction value\n",
    "def pred(x, w):\n",
    "    return sigmoid(x @ w)   # Note that inputting the inner product to the sigmoid function."
   ]
  },
  {
   "cell_type": "markdown",
   "metadata": {},
   "source": [
    "### 評価\n",
    "### Evaluation"
   ]
  },
  {
   "cell_type": "markdown",
   "metadata": {},
   "source": [
    "Cross entropy function\n",
    "```math\n",
    "L(w_0, w_1, w_2) = - \\frac{1}{M}\\sum_{m=0}^{M-1}(yt^{(m)}*\\log(yp^{(m)}) + (1- yt^{(m)})\\log(1-yp^{(m)})  \\qquad    (8.4.3)\n",
    "```"
   ]
  },
  {
   "cell_type": "code",
   "execution_count": null,
   "metadata": {},
   "outputs": [],
   "source": [
    "# 損失関数(交差エントロピー関数)\n",
    "# Loss function (cross entropy function)\n",
    "\n",
    "def cross_entropy(yt, yp):\n",
    "    # 交差エントロピーの計算(この段階ではベクトル)\n",
    "    # Calculating cross entropy (vector at this time)\n",
    "    ce1 = -(yt * np.log(yp) + (1 - yt) * np.log(1 - yp))\n",
    "    # 交差エントロピーベクトルの平均値を計算\n",
    "    # Calculating average of cross entropy\n",
    "    return(np.mean(ce1)) "
   ]
  },
  {
   "cell_type": "code",
   "execution_count": null,
   "metadata": {},
   "outputs": [],
   "source": [
    "# 予測結果の確率値から 0 or 1 を判断する関数\n",
    "# Define function to judge 0 or 1 from probability value of the rprediction result\n",
    "def classify(y):\n",
    "    return np.where(y < 0.5, 0, 1)"
   ]
  },
  {
   "cell_type": "code",
   "execution_count": null,
   "metadata": {},
   "outputs": [],
   "source": [
    "# モデルの評価を行う関数\n",
    "# Define function for evaluating model\n",
    "from sklearn.metrics import accuracy_score\n",
    "def evaluate(xt, yt, w):\n",
    "    \n",
    "    # 予測値の計算\n",
    "    # Calculating prediction value\n",
    "    yp = pred(xt, w)\n",
    "    \n",
    "    # 損失関数値の計算\n",
    "    # Calculating value of loss function\n",
    "    loss = cross_entropy(yt, yp)\n",
    "    \n",
    "    # 予測値(確率値)を0または1に変換\n",
    "    # converting prediction value (probability value) to 0 or 1\n",
    "    yp_b = classify(yp)\n",
    "    \n",
    "    # 精度の算出\n",
    "    # Calculating accuracy\n",
    "    score = accuracy_score(yt, yp_b)\n",
    "    return loss, score"
   ]
  },
  {
   "cell_type": "markdown",
   "metadata": {},
   "source": [
    "### 初期化処理\n",
    "### Initializing process"
   ]
  },
  {
   "cell_type": "code",
   "execution_count": null,
   "metadata": {
    "scrolled": true
   },
   "outputs": [],
   "source": [
    "# 初期化処理\n",
    "# Initializing process\n",
    "\n",
    "# 標本数\n",
    "# Number of sampling\n",
    "M  = x.shape[0]\n",
    "\n",
    "# 入力次元数(ダミー変数を含む)\n",
    "# Number of dimensions of input data including dummy variable\n",
    "D = x.shape[1]\n",
    "\n",
    "# 繰り返し回数\n",
    "# Number of repetitions\n",
    "iters = 10000\n",
    "\n",
    "# 学習率\n",
    "# Learning rate\n",
    "alpha = 0.01\n",
    "\n",
    "# 初期値\n",
    "# Initial value\n",
    "w = np.ones(D)\n",
    "\n",
    "# 評価結果記録用 (損失関数と精度)\n",
    "# For recording evaluation result (loss function and accuracy)\n",
    "history = np.zeros((0,3))"
   ]
  },
  {
   "cell_type": "markdown",
   "metadata": {},
   "source": [
    "### メイン処理\n",
    "### Main process"
   ]
  },
  {
   "cell_type": "markdown",
   "metadata": {},
   "source": [
    "### Reference\n",
    "\n",
    "```math\n",
    "u^{(k)(m)} = w^{(k)} * x^{(m)}    \\qquad    (8.6.1)\n",
    "```\n",
    "\n",
    "```math\n",
    "yp^{(k)(m)} = f(u^{(k)(m)})    \\qquad    (8.6.2)\n",
    "```\n",
    "\n",
    "```math\n",
    "yd^{(k)(m)} = yp^{(k)(m)} - yt^{(m)}    \\qquad    (8.6.4)\n",
    "```\n",
    "\n",
    "```math\n",
    "w^{(k+1)} = w^{(k)} - \\frac{\\alpha}{M}\\sum_{m=0}^{M-1}x^{(m)}*yd^{(k)(m)}   \\qquad    (8.6.6)\n",
    "```\n"
   ]
  },
  {
   "cell_type": "code",
   "execution_count": null,
   "metadata": {},
   "outputs": [],
   "source": [
    "# 繰り返しループ\n",
    "# Repeat loop\n",
    "for k in range(iters):\n",
    "    \n",
    "    # 予測値の計算 (8.6.1) (8.6.2)\n",
    "    # calculating prediction value\n",
    "    yp = pred(x, w)\n",
    "    \n",
    "    # 誤差の計算 (8.6.4)\n",
    "    # Calculating error\n",
    "    yd = yp - yt\n",
    "    \n",
    "    # 勾配降下法の実施 (8.6.6)\n",
    "    # Implementation of gradient decent\n",
    "    w = w - alpha * (x.T @ yd) / M\n",
    "    \n",
    "    # ログ記録用\n",
    "    # For recording log\n",
    "    if ( k % 10 == 0):\n",
    "        loss, score = evaluate(x_test, y_test, w)\n",
    "        history = np.vstack((history, \n",
    "            np.array([k, loss, score])))\n",
    "        print( \"iter = %d  loss = %f score = %f\" \n",
    "            % (k, loss, score))"
   ]
  },
  {
   "cell_type": "markdown",
   "metadata": {},
   "source": [
    "### 結果確認\n",
    "### Check results"
   ]
  },
  {
   "cell_type": "code",
   "execution_count": null,
   "metadata": {},
   "outputs": [],
   "source": [
    "# 損失関数値と精度の確認\n",
    "# Check value of loss function and accrcy\n",
    "print('初期状態: 損失関数:%f 精度:%f' \n",
    "      % (history[0,1], history[0,2]))\n",
    "print('最終状態: 損失関数:%f 精度:%f' \n",
    "      % (history[-1,1], history[-1,2]))"
   ]
  },
  {
   "cell_type": "markdown",
   "metadata": {},
   "source": [
    "```math\n",
    "u = w_0 + w_1*x_1 + w_2*x_2    \\qquad \n",
    "```\n",
    "Decision boundary: u = 0\n",
    "\n",
    "```math\n",
    "0 = w_0 + w_1*x_1 + w_2*x_2    \\qquad \n",
    "```\n",
    "\n",
    "```math\n",
    "x_2 = - \\frac{w_0 + w_1 * x_1}{w_2}    \\qquad \n",
    "```"
   ]
  },
  {
   "cell_type": "code",
   "execution_count": null,
   "metadata": {},
   "outputs": [],
   "source": [
    "# 検証データを散布図用に準備\n",
    "# Preparing test data for scatter plot\n",
    "x_t0 = x_test[y_test==0]\n",
    "x_t1 = x_test[y_test==1]\n",
    "\n",
    "# 決定境界描画用 x1の値から x2の値を計算する\n",
    "# For decision boundary / Calculating from value of x1 to x2\n",
    "def b(x, w):\n",
    "    return(-(w[0] + w[1] * x)/ w[2])\n",
    "\n",
    "# 散布図のx1の最小値と最大値\n",
    "# Minimum and max value of x1 in scatter plot\n",
    "xl = np.asarray([x[:,1].min(), x[:,1].max()])\n",
    "yl = b(xl, w)   # yl is x2"
   ]
  },
  {
   "cell_type": "code",
   "execution_count": null,
   "metadata": {},
   "outputs": [],
   "source": [
    "# 散布図の表示\n",
    "# Show scatter plot\n",
    "plt.figure(figsize=(6,6))\n",
    "plt.scatter(x_t0[:,1], x_t0[:,2], marker='x', \n",
    "        c='b', s=50, label='class 0')\n",
    "plt.scatter(x_t1[:,1], x_t1[:,2], marker='o', \n",
    "        c='k', s=50, label='class 1')\n",
    "\n",
    "# 散布図に決定境界の直線も追記\n",
    "# Add decision boundary line on scatter plot\n",
    "plt.plot(xl, yl, c='b')\n",
    "\n",
    "# Set figure\n",
    "plt.xlabel('sepal_length', fontsize=14)\n",
    "plt.ylabel('sepal_width', fontsize=14)\n",
    "plt.xticks(size=16)\n",
    "plt.yticks(size=16)\n",
    "plt.legend(fontsize=16)\n",
    "plt.show()"
   ]
  },
  {
   "cell_type": "code",
   "execution_count": null,
   "metadata": {},
   "outputs": [],
   "source": [
    "# 学習曲線の表示をします (損失関数)\n",
    "# Show learning curve (loss function)\n",
    "plt.figure(figsize=(6,4))\n",
    "plt.plot(history[:,0], history[:,1], 'b')\n",
    "\n",
    "# Set figure\n",
    "plt.xlabel('iter', fontsize=14)\n",
    "plt.ylabel('cost', fontsize=14)\n",
    "plt.title('iter vs cost', fontsize=14)\n",
    "plt.show()"
   ]
  },
  {
   "cell_type": "code",
   "execution_count": null,
   "metadata": {
    "scrolled": true
   },
   "outputs": [],
   "source": [
    "# 学習曲線の表示をします (精度)\n",
    "# Show learning curve (accracy)\n",
    "plt.figure(figsize=(6,4))\n",
    "plt.plot(history[:,0], history[:,2], 'b')\n",
    "\n",
    "# Set function\n",
    "plt.xlabel('iter', fontsize=14)\n",
    "plt.ylabel('accuracy', fontsize=14)\n",
    "plt.title('iter vs accuracy', fontsize=14)\n",
    "plt.show()"
   ]
  },
  {
   "cell_type": "code",
   "execution_count": null,
   "metadata": {},
   "outputs": [],
   "source": [
    "from mpl_toolkits.mplot3d import Axes3D\n",
    "x1 = np.linspace(4, 7.5, 100)\n",
    "x2 = np.linspace(2, 4.5, 100)\n",
    "xx1, xx2 = np.meshgrid(x1, x2)\n",
    "xxx = np.asarray([np.ones(xx1.ravel().shape), \n",
    "    xx1.ravel(), xx2.ravel()]).T\n",
    "c = pred(xxx, w).reshape(xx1.shape)\n",
    "plt.figure(figsize=(8,8))\n",
    "ax = plt.subplot(1, 1, 1, projection='3d')\n",
    "ax.plot_surface(xx1, xx2, c, color='blue', \n",
    "    edgecolor='black', rstride=10, cstride=10, alpha=0.1)\n",
    "ax.scatter(x_t1[:,1], x_t1[:,2], 1, s=20, alpha=0.9, marker='o', c='b')\n",
    "ax.scatter(x_t0[:,1], x_t0[:,2], 0, s=20, alpha=0.9, marker='s', c='b')\n",
    "ax.set_xlim(4,7.5)\n",
    "ax.set_ylim(2,4.5)\n",
    "ax.view_init(elev=20, azim=60)"
   ]
  },
  {
   "cell_type": "markdown",
   "metadata": {},
   "source": [
    "## scikit-learnライブラリの利用\n",
    "## Using scikit-learn library"
   ]
  },
  {
   "cell_type": "code",
   "execution_count": null,
   "metadata": {},
   "outputs": [],
   "source": [
    "# 必要ライブラリのロード\n",
    "# import required libraries\n",
    "from sklearn.linear_model import LogisticRegression\n",
    "from sklearn import svm\n",
    "\n",
    "# モデル生成\n",
    "# model generation\n",
    "model_lr = LogisticRegression(solver='liblinear')\n",
    "model_svm = svm.SVC(kernel='linear')\n",
    "\n",
    "# 機械学習実施\n",
    "# Do machine learning\n",
    "model_lr.fit(x, yt)\n",
    "model_svm.fit(x, yt)"
   ]
  },
  {
   "cell_type": "code",
   "execution_count": null,
   "metadata": {},
   "outputs": [],
   "source": [
    "# Linear regression\n",
    "\n",
    "# 切片\n",
    "# Intercept value\n",
    "lr_w0 = model_lr.intercept_[0]\n",
    "\n",
    "# x1の係数\n",
    "# Coefficient of x1(sepal_length)\n",
    "lr_w1 = model_lr.coef_[0,1]\n",
    "\n",
    "# x2の係数\n",
    "# Coefficient of x2(sepal_width)\n",
    "lr_w2 = model_lr.coef_[0,2]\n",
    "\n",
    "# SVM\n",
    "\n",
    "# 切片\n",
    "# Intercept value\n",
    "svm_w0 = model_svm.intercept_[0]\n",
    "\n",
    "# x1の係数\n",
    "# Coefficient of x1(sepal_width)\n",
    "svm_w1 = model_svm.coef_[0,1]\n",
    "\n",
    "# x2の係数\n",
    "# Coefficient of x2(sepal_width)\n",
    "svm_w2 = model_svm.coef_[0,2]"
   ]
  },
  {
   "cell_type": "code",
   "execution_count": null,
   "metadata": {},
   "outputs": [],
   "source": [
    "# 限界直線描画用 x1の値から x2の値を計算する\n",
    "# For drawing limit line from value of x1 to x2\n",
    "def rl(x):\n",
    "    wk = lr_w0 + lr_w1 * x\n",
    "    wk2 = -wk / lr_w2\n",
    "    return(wk2)"
   ]
  },
  {
   "cell_type": "code",
   "execution_count": null,
   "metadata": {},
   "outputs": [],
   "source": [
    "# 限界直線描画用 x1の値から x2の値を計算する\n",
    "# For drawing limit line from value of x1 to x2\n",
    "def svm(x):\n",
    "    wk = svm_w0 + svm_w1 * x\n",
    "    wk2 = -wk / svm_w2\n",
    "    return(wk2)"
   ]
  },
  {
   "cell_type": "code",
   "execution_count": null,
   "metadata": {},
   "outputs": [],
   "source": [
    "y_rl = rl(xl)\n",
    "y_svm = svm(xl)\n",
    "# Check result\n",
    "print(xl, yl, y_rl, y_svm)"
   ]
  },
  {
   "cell_type": "code",
   "execution_count": null,
   "metadata": {},
   "outputs": [],
   "source": [
    "# 散布図に限界直線も追記する\n",
    "# Add limit line to scatter plot\n",
    "\n",
    "fig = plt.figure(figsize=(6,6))\n",
    "ax = fig.add_subplot(1,1,1)\n",
    "\n",
    "# 散布図の表示\n",
    "# Show scatter plot\n",
    "plt.scatter(x_t0[:,1], x_t0[:,2], marker='x', c='b')\n",
    "plt.scatter(x_t1[:,1], x_t1[:,2], marker='o', c='k')\n",
    "\n",
    "# 限界直線の表示\n",
    "# Show limit line\n",
    "\n",
    "# Hands on\n",
    "ax.plot(xl, yl, linewidth=2, c='k', label='Hands On')\n",
    "\n",
    "# lr model\n",
    "ax.plot(xl, y_rl, linewidth=2, c='k', linestyle=\"--\", label='scikit LR')\n",
    "\n",
    "# svm\n",
    "ax.plot(xl, y_svm, linewidth=2, c='k', linestyle=\"-.\", label='scikit SVM')\n",
    "\n",
    "# Set figure\n",
    "ax.legend()\n",
    "ax.set_xlabel('$x_1$', fontsize=16)\n",
    "ax.set_ylabel('$x_2$', fontsize=16)\n",
    "plt.show()"
   ]
  }
 ],
 "metadata": {
  "kernelspec": {
   "display_name": "Python 3 (ipykernel)",
   "language": "python",
   "name": "python3"
  },
  "language_info": {
   "codemirror_mode": {
    "name": "ipython",
    "version": 3
   },
   "file_extension": ".py",
   "mimetype": "text/x-python",
   "name": "python",
   "nbconvert_exporter": "python",
   "pygments_lexer": "ipython3",
   "version": "3.10.7"
  }
 },
 "nbformat": 4,
 "nbformat_minor": 1
}
